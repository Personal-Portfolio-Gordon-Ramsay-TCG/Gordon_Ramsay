{
  "nbformat": 4,
  "nbformat_minor": 0,
  "metadata": {
    "colab": {
      "provenance": []
    },
    "kernelspec": {
      "name": "python3",
      "display_name": "Python 3"
    },
    "language_info": {
      "name": "python"
    }
  },
  "cells": [
    {
      "cell_type": "markdown",
      "source": [
        "#Kitchen Nightmares Data"
      ],
      "metadata": {
        "id": "aMvjGSfGWMUX"
      }
    },
    {
      "cell_type": "markdown",
      "source": [
        "##Data Cleaning"
      ],
      "metadata": {
        "id": "sIUNTTM8WSbl"
      }
    },
    {
      "cell_type": "markdown",
      "source": [
        "1. Read in Messy Kitchen Nightmares data link from Github repository."
      ],
      "metadata": {
        "id": "QCTWRldIWUc_"
      }
    },
    {
      "cell_type": "code",
      "source": [
        "import pandas as pd\n",
        "import numpy as np\n",
        "\n",
        "kn_url = \"https://github.com/Personal-Portfolio-Gordon-Ramsay-TCG/Gordon_Ramsay/raw/refs/heads/main/Messy%20Data/messy_kitchen_nightmares.csv\""
      ],
      "metadata": {
        "id": "xCN7juuYWlG4"
      },
      "execution_count": 1,
      "outputs": []
    },
    {
      "cell_type": "markdown",
      "source": [
        "2. Read in CSV file from link."
      ],
      "metadata": {
        "id": "ixyfHOntXHCB"
      }
    },
    {
      "cell_type": "code",
      "source": [
        "kn_df = pd.read_csv(kn_url)\n",
        "kn_df.head()"
      ],
      "metadata": {
        "colab": {
          "base_uri": "https://localhost:8080/",
          "height": 261
        },
        "id": "55A-W-T3W5BH",
        "outputId": "b81ee124-9867-4b74-91bf-018510c9221a"
      },
      "execution_count": 2,
      "outputs": [
        {
          "output_type": "execute_result",
          "data": {
            "text/plain": [
              "   Unnamed: 0 SeAsOn EPISODE        r.estaurant.name      cIty STAte  \\\n",
              "0           1    oNE     one              Peter's...   Babylon    NY   \n",
              "1           2      1       2             Dillon's...       NYC    NY   \n",
              "2           3      1       3      The Mixing Bowl...  Bellmore    NY   \n",
              "3           4    uno       4             Seascape...     Islip    NY   \n",
              "4           5      1    five  The Olde Stone Mill...  Tuckahoe    NY   \n",
              "\n",
              "  o.riginala.ir.date  s.tatus ORIginalfilmMONTH Closing Year   Cuisine  \\\n",
              "0         2007-09-19   closed          Mar 2007         2008   Italian   \n",
              "1         2007-09-26   Closed          Mar 2007         2008    Indian   \n",
              "2     october 3 2007   Closed          Mar 2007         2009  american   \n",
              "3         2007-10-10   Closed          Mar 2007         2007   Seafood   \n",
              "4         2007-10-17   closed          Mar 2007         2022  American   \n",
              "\n",
              "  Revisited Two Parts  \n",
              "0        No        No  \n",
              "1        No         N  \n",
              "2        No        No  \n",
              "3       No.        No  \n",
              "4       Yes        No  "
            ],
            "text/html": [
              "\n",
              "  <div id=\"df-f8fa2969-e40d-4c20-b92a-3926070e182d\" class=\"colab-df-container\">\n",
              "    <div>\n",
              "<style scoped>\n",
              "    .dataframe tbody tr th:only-of-type {\n",
              "        vertical-align: middle;\n",
              "    }\n",
              "\n",
              "    .dataframe tbody tr th {\n",
              "        vertical-align: top;\n",
              "    }\n",
              "\n",
              "    .dataframe thead th {\n",
              "        text-align: right;\n",
              "    }\n",
              "</style>\n",
              "<table border=\"1\" class=\"dataframe\">\n",
              "  <thead>\n",
              "    <tr style=\"text-align: right;\">\n",
              "      <th></th>\n",
              "      <th>Unnamed: 0</th>\n",
              "      <th>SeAsOn</th>\n",
              "      <th>EPISODE</th>\n",
              "      <th>r.estaurant.name</th>\n",
              "      <th>cIty</th>\n",
              "      <th>STAte</th>\n",
              "      <th>o.riginala.ir.date</th>\n",
              "      <th>s.tatus</th>\n",
              "      <th>ORIginalfilmMONTH</th>\n",
              "      <th>Closing Year</th>\n",
              "      <th>Cuisine</th>\n",
              "      <th>Revisited</th>\n",
              "      <th>Two Parts</th>\n",
              "    </tr>\n",
              "  </thead>\n",
              "  <tbody>\n",
              "    <tr>\n",
              "      <th>0</th>\n",
              "      <td>1</td>\n",
              "      <td>oNE</td>\n",
              "      <td>one</td>\n",
              "      <td>Peter's...</td>\n",
              "      <td>Babylon</td>\n",
              "      <td>NY</td>\n",
              "      <td>2007-09-19</td>\n",
              "      <td>closed</td>\n",
              "      <td>Mar 2007</td>\n",
              "      <td>2008</td>\n",
              "      <td>Italian</td>\n",
              "      <td>No</td>\n",
              "      <td>No</td>\n",
              "    </tr>\n",
              "    <tr>\n",
              "      <th>1</th>\n",
              "      <td>2</td>\n",
              "      <td>1</td>\n",
              "      <td>2</td>\n",
              "      <td>Dillon's...</td>\n",
              "      <td>NYC</td>\n",
              "      <td>NY</td>\n",
              "      <td>2007-09-26</td>\n",
              "      <td>Closed</td>\n",
              "      <td>Mar 2007</td>\n",
              "      <td>2008</td>\n",
              "      <td>Indian</td>\n",
              "      <td>No</td>\n",
              "      <td>N</td>\n",
              "    </tr>\n",
              "    <tr>\n",
              "      <th>2</th>\n",
              "      <td>3</td>\n",
              "      <td>1</td>\n",
              "      <td>3</td>\n",
              "      <td>The Mixing Bowl...</td>\n",
              "      <td>Bellmore</td>\n",
              "      <td>NY</td>\n",
              "      <td>october 3 2007</td>\n",
              "      <td>Closed</td>\n",
              "      <td>Mar 2007</td>\n",
              "      <td>2009</td>\n",
              "      <td>american</td>\n",
              "      <td>No</td>\n",
              "      <td>No</td>\n",
              "    </tr>\n",
              "    <tr>\n",
              "      <th>3</th>\n",
              "      <td>4</td>\n",
              "      <td>uno</td>\n",
              "      <td>4</td>\n",
              "      <td>Seascape...</td>\n",
              "      <td>Islip</td>\n",
              "      <td>NY</td>\n",
              "      <td>2007-10-10</td>\n",
              "      <td>Closed</td>\n",
              "      <td>Mar 2007</td>\n",
              "      <td>2007</td>\n",
              "      <td>Seafood</td>\n",
              "      <td>No.</td>\n",
              "      <td>No</td>\n",
              "    </tr>\n",
              "    <tr>\n",
              "      <th>4</th>\n",
              "      <td>5</td>\n",
              "      <td>1</td>\n",
              "      <td>five</td>\n",
              "      <td>The Olde Stone Mill...</td>\n",
              "      <td>Tuckahoe</td>\n",
              "      <td>NY</td>\n",
              "      <td>2007-10-17</td>\n",
              "      <td>closed</td>\n",
              "      <td>Mar 2007</td>\n",
              "      <td>2022</td>\n",
              "      <td>American</td>\n",
              "      <td>Yes</td>\n",
              "      <td>No</td>\n",
              "    </tr>\n",
              "  </tbody>\n",
              "</table>\n",
              "</div>\n",
              "    <div class=\"colab-df-buttons\">\n",
              "\n",
              "  <div class=\"colab-df-container\">\n",
              "    <button class=\"colab-df-convert\" onclick=\"convertToInteractive('df-f8fa2969-e40d-4c20-b92a-3926070e182d')\"\n",
              "            title=\"Convert this dataframe to an interactive table.\"\n",
              "            style=\"display:none;\">\n",
              "\n",
              "  <svg xmlns=\"http://www.w3.org/2000/svg\" height=\"24px\" viewBox=\"0 -960 960 960\">\n",
              "    <path d=\"M120-120v-720h720v720H120Zm60-500h600v-160H180v160Zm220 220h160v-160H400v160Zm0 220h160v-160H400v160ZM180-400h160v-160H180v160Zm440 0h160v-160H620v160ZM180-180h160v-160H180v160Zm440 0h160v-160H620v160Z\"/>\n",
              "  </svg>\n",
              "    </button>\n",
              "\n",
              "  <style>\n",
              "    .colab-df-container {\n",
              "      display:flex;\n",
              "      gap: 12px;\n",
              "    }\n",
              "\n",
              "    .colab-df-convert {\n",
              "      background-color: #E8F0FE;\n",
              "      border: none;\n",
              "      border-radius: 50%;\n",
              "      cursor: pointer;\n",
              "      display: none;\n",
              "      fill: #1967D2;\n",
              "      height: 32px;\n",
              "      padding: 0 0 0 0;\n",
              "      width: 32px;\n",
              "    }\n",
              "\n",
              "    .colab-df-convert:hover {\n",
              "      background-color: #E2EBFA;\n",
              "      box-shadow: 0px 1px 2px rgba(60, 64, 67, 0.3), 0px 1px 3px 1px rgba(60, 64, 67, 0.15);\n",
              "      fill: #174EA6;\n",
              "    }\n",
              "\n",
              "    .colab-df-buttons div {\n",
              "      margin-bottom: 4px;\n",
              "    }\n",
              "\n",
              "    [theme=dark] .colab-df-convert {\n",
              "      background-color: #3B4455;\n",
              "      fill: #D2E3FC;\n",
              "    }\n",
              "\n",
              "    [theme=dark] .colab-df-convert:hover {\n",
              "      background-color: #434B5C;\n",
              "      box-shadow: 0px 1px 3px 1px rgba(0, 0, 0, 0.15);\n",
              "      filter: drop-shadow(0px 1px 2px rgba(0, 0, 0, 0.3));\n",
              "      fill: #FFFFFF;\n",
              "    }\n",
              "  </style>\n",
              "\n",
              "    <script>\n",
              "      const buttonEl =\n",
              "        document.querySelector('#df-f8fa2969-e40d-4c20-b92a-3926070e182d button.colab-df-convert');\n",
              "      buttonEl.style.display =\n",
              "        google.colab.kernel.accessAllowed ? 'block' : 'none';\n",
              "\n",
              "      async function convertToInteractive(key) {\n",
              "        const element = document.querySelector('#df-f8fa2969-e40d-4c20-b92a-3926070e182d');\n",
              "        const dataTable =\n",
              "          await google.colab.kernel.invokeFunction('convertToInteractive',\n",
              "                                                    [key], {});\n",
              "        if (!dataTable) return;\n",
              "\n",
              "        const docLinkHtml = 'Like what you see? Visit the ' +\n",
              "          '<a target=\"_blank\" href=https://colab.research.google.com/notebooks/data_table.ipynb>data table notebook</a>'\n",
              "          + ' to learn more about interactive tables.';\n",
              "        element.innerHTML = '';\n",
              "        dataTable['output_type'] = 'display_data';\n",
              "        await google.colab.output.renderOutput(dataTable, element);\n",
              "        const docLink = document.createElement('div');\n",
              "        docLink.innerHTML = docLinkHtml;\n",
              "        element.appendChild(docLink);\n",
              "      }\n",
              "    </script>\n",
              "  </div>\n",
              "\n",
              "\n",
              "<div id=\"df-551090b5-6d80-4759-8413-8839ba2b3807\">\n",
              "  <button class=\"colab-df-quickchart\" onclick=\"quickchart('df-551090b5-6d80-4759-8413-8839ba2b3807')\"\n",
              "            title=\"Suggest charts\"\n",
              "            style=\"display:none;\">\n",
              "\n",
              "<svg xmlns=\"http://www.w3.org/2000/svg\" height=\"24px\"viewBox=\"0 0 24 24\"\n",
              "     width=\"24px\">\n",
              "    <g>\n",
              "        <path d=\"M19 3H5c-1.1 0-2 .9-2 2v14c0 1.1.9 2 2 2h14c1.1 0 2-.9 2-2V5c0-1.1-.9-2-2-2zM9 17H7v-7h2v7zm4 0h-2V7h2v10zm4 0h-2v-4h2v4z\"/>\n",
              "    </g>\n",
              "</svg>\n",
              "  </button>\n",
              "\n",
              "<style>\n",
              "  .colab-df-quickchart {\n",
              "      --bg-color: #E8F0FE;\n",
              "      --fill-color: #1967D2;\n",
              "      --hover-bg-color: #E2EBFA;\n",
              "      --hover-fill-color: #174EA6;\n",
              "      --disabled-fill-color: #AAA;\n",
              "      --disabled-bg-color: #DDD;\n",
              "  }\n",
              "\n",
              "  [theme=dark] .colab-df-quickchart {\n",
              "      --bg-color: #3B4455;\n",
              "      --fill-color: #D2E3FC;\n",
              "      --hover-bg-color: #434B5C;\n",
              "      --hover-fill-color: #FFFFFF;\n",
              "      --disabled-bg-color: #3B4455;\n",
              "      --disabled-fill-color: #666;\n",
              "  }\n",
              "\n",
              "  .colab-df-quickchart {\n",
              "    background-color: var(--bg-color);\n",
              "    border: none;\n",
              "    border-radius: 50%;\n",
              "    cursor: pointer;\n",
              "    display: none;\n",
              "    fill: var(--fill-color);\n",
              "    height: 32px;\n",
              "    padding: 0;\n",
              "    width: 32px;\n",
              "  }\n",
              "\n",
              "  .colab-df-quickchart:hover {\n",
              "    background-color: var(--hover-bg-color);\n",
              "    box-shadow: 0 1px 2px rgba(60, 64, 67, 0.3), 0 1px 3px 1px rgba(60, 64, 67, 0.15);\n",
              "    fill: var(--button-hover-fill-color);\n",
              "  }\n",
              "\n",
              "  .colab-df-quickchart-complete:disabled,\n",
              "  .colab-df-quickchart-complete:disabled:hover {\n",
              "    background-color: var(--disabled-bg-color);\n",
              "    fill: var(--disabled-fill-color);\n",
              "    box-shadow: none;\n",
              "  }\n",
              "\n",
              "  .colab-df-spinner {\n",
              "    border: 2px solid var(--fill-color);\n",
              "    border-color: transparent;\n",
              "    border-bottom-color: var(--fill-color);\n",
              "    animation:\n",
              "      spin 1s steps(1) infinite;\n",
              "  }\n",
              "\n",
              "  @keyframes spin {\n",
              "    0% {\n",
              "      border-color: transparent;\n",
              "      border-bottom-color: var(--fill-color);\n",
              "      border-left-color: var(--fill-color);\n",
              "    }\n",
              "    20% {\n",
              "      border-color: transparent;\n",
              "      border-left-color: var(--fill-color);\n",
              "      border-top-color: var(--fill-color);\n",
              "    }\n",
              "    30% {\n",
              "      border-color: transparent;\n",
              "      border-left-color: var(--fill-color);\n",
              "      border-top-color: var(--fill-color);\n",
              "      border-right-color: var(--fill-color);\n",
              "    }\n",
              "    40% {\n",
              "      border-color: transparent;\n",
              "      border-right-color: var(--fill-color);\n",
              "      border-top-color: var(--fill-color);\n",
              "    }\n",
              "    60% {\n",
              "      border-color: transparent;\n",
              "      border-right-color: var(--fill-color);\n",
              "    }\n",
              "    80% {\n",
              "      border-color: transparent;\n",
              "      border-right-color: var(--fill-color);\n",
              "      border-bottom-color: var(--fill-color);\n",
              "    }\n",
              "    90% {\n",
              "      border-color: transparent;\n",
              "      border-bottom-color: var(--fill-color);\n",
              "    }\n",
              "  }\n",
              "</style>\n",
              "\n",
              "  <script>\n",
              "    async function quickchart(key) {\n",
              "      const quickchartButtonEl =\n",
              "        document.querySelector('#' + key + ' button');\n",
              "      quickchartButtonEl.disabled = true;  // To prevent multiple clicks.\n",
              "      quickchartButtonEl.classList.add('colab-df-spinner');\n",
              "      try {\n",
              "        const charts = await google.colab.kernel.invokeFunction(\n",
              "            'suggestCharts', [key], {});\n",
              "      } catch (error) {\n",
              "        console.error('Error during call to suggestCharts:', error);\n",
              "      }\n",
              "      quickchartButtonEl.classList.remove('colab-df-spinner');\n",
              "      quickchartButtonEl.classList.add('colab-df-quickchart-complete');\n",
              "    }\n",
              "    (() => {\n",
              "      let quickchartButtonEl =\n",
              "        document.querySelector('#df-551090b5-6d80-4759-8413-8839ba2b3807 button');\n",
              "      quickchartButtonEl.style.display =\n",
              "        google.colab.kernel.accessAllowed ? 'block' : 'none';\n",
              "    })();\n",
              "  </script>\n",
              "</div>\n",
              "\n",
              "    </div>\n",
              "  </div>\n"
            ],
            "application/vnd.google.colaboratory.intrinsic+json": {
              "type": "dataframe",
              "variable_name": "kn_df",
              "summary": "{\n  \"name\": \"kn_df\",\n  \"rows\": 87,\n  \"fields\": [\n    {\n      \"column\": \"Unnamed: 0\",\n      \"properties\": {\n        \"dtype\": \"number\",\n        \"std\": 25,\n        \"min\": 1,\n        \"max\": 87,\n        \"num_unique_values\": 87,\n        \"samples\": [\n          77,\n          1,\n          27\n        ],\n        \"semantic_type\": \"\",\n        \"description\": \"\"\n      }\n    },\n    {\n      \"column\": \"SeAsOn\",\n      \"properties\": {\n        \"dtype\": \"category\",\n        \"num_unique_values\": 13,\n        \"samples\": [\n          \"7\",\n          \"6\",\n          \"oNE\"\n        ],\n        \"semantic_type\": \"\",\n        \"description\": \"\"\n      }\n    },\n    {\n      \"column\": \"EPISODE\",\n      \"properties\": {\n        \"dtype\": \"category\",\n        \"num_unique_values\": 23,\n        \"samples\": [\n          \"11\",\n          \"TEN!\",\n          \" one\"\n        ],\n        \"semantic_type\": \"\",\n        \"description\": \"\"\n      }\n    },\n    {\n      \"column\": \"r.estaurant.name\",\n      \"properties\": {\n        \"dtype\": \"string\",\n        \"num_unique_values\": 87,\n        \"samples\": [\n          \"Bella Luna\",\n          \"Peter's...\",\n          \"Le Bistro\"\n        ],\n        \"semantic_type\": \"\",\n        \"description\": \"\"\n      }\n    },\n    {\n      \"column\": \"cIty\",\n      \"properties\": {\n        \"dtype\": \"string\",\n        \"num_unique_values\": 79,\n        \"samples\": [\n          \"Miami\",\n          \"Babylon\",\n          \"Whitehouse Station\"\n        ],\n        \"semantic_type\": \"\",\n        \"description\": \"\"\n      }\n    },\n    {\n      \"column\": \"STAte\",\n      \"properties\": {\n        \"dtype\": \"category\",\n        \"num_unique_values\": 25,\n        \"samples\": [\n          \"cali\",\n          \"GA\",\n          \"NY\"\n        ],\n        \"semantic_type\": \"\",\n        \"description\": \"\"\n      }\n    },\n    {\n      \"column\": \"o.riginala.ir.date\",\n      \"properties\": {\n        \"dtype\": \"string\",\n        \"num_unique_values\": 84,\n        \"samples\": [\n          \"2014-05-16\",\n          \"2007-09-19\",\n          \"2012-11-16\"\n        ],\n        \"semantic_type\": \"\",\n        \"description\": \"\"\n      }\n    },\n    {\n      \"column\": \"s.tatus\",\n      \"properties\": {\n        \"dtype\": \"category\",\n        \"num_unique_values\": 10,\n        \"samples\": [\n          \"closed.\",\n          \"Closed\",\n          \" not open \"\n        ],\n        \"semantic_type\": \"\",\n        \"description\": \"\"\n      }\n    },\n    {\n      \"column\": \"ORIginalfilmMONTH\",\n      \"properties\": {\n        \"dtype\": \"object\",\n        \"num_unique_values\": 26,\n        \"samples\": [\n          \"Dec 2010\",\n          \"May 2012\",\n          \"Mar 2007\"\n        ],\n        \"semantic_type\": \"\",\n        \"description\": \"\"\n      }\n    },\n    {\n      \"column\": \"Closing Year\",\n      \"properties\": {\n        \"dtype\": \"category\",\n        \"num_unique_values\": 19,\n        \"samples\": [\n          \"2008\",\n          \"2010\",\n          \"2013\"\n        ],\n        \"semantic_type\": \"\",\n        \"description\": \"\"\n      }\n    },\n    {\n      \"column\": \"Cuisine\",\n      \"properties\": {\n        \"dtype\": \"category\",\n        \"num_unique_values\": 31,\n        \"samples\": [\n          \"Pizza\",\n          \"Japanese\",\n          \"Steak\"\n        ],\n        \"semantic_type\": \"\",\n        \"description\": \"\"\n      }\n    },\n    {\n      \"column\": \"Revisited\",\n      \"properties\": {\n        \"dtype\": \"category\",\n        \"num_unique_values\": 9,\n        \"samples\": [\n          \" yes \",\n          \" No\",\n          \"No?\"\n        ],\n        \"semantic_type\": \"\",\n        \"description\": \"\"\n      }\n    },\n    {\n      \"column\": \"Two Parts\",\n      \"properties\": {\n        \"dtype\": \"category\",\n        \"num_unique_values\": 7,\n        \"samples\": [\n          \"No\",\n          \"N\",\n          \"Yes \"\n        ],\n        \"semantic_type\": \"\",\n        \"description\": \"\"\n      }\n    }\n  ]\n}"
            }
          },
          "metadata": {},
          "execution_count": 2
        }
      ]
    },
    {
      "cell_type": "markdown",
      "source": [
        "3. Clean column names and drop the first column because it is unnecessary."
      ],
      "metadata": {
        "id": "oPGOz1R3XJgZ"
      }
    },
    {
      "cell_type": "code",
      "source": [
        "kn_df.columns\n",
        "\n",
        "kn_df = kn_df.drop(columns=['Unnamed: 0'])\n",
        "\n",
        "kn_df.columns = ['season', 'episode', 'restaurant', 'city', 'state', 'air_date', 'status', 'film_month', 'closing_year', 'cuisine', 'revisited', 'two_parts']\n",
        "\n",
        "kn_df.columns"
      ],
      "metadata": {
        "colab": {
          "base_uri": "https://localhost:8080/"
        },
        "id": "bo7XEvBKXSK3",
        "outputId": "c9b3ccc9-b762-4278-ec4f-1e00333c2c6b"
      },
      "execution_count": 3,
      "outputs": [
        {
          "output_type": "execute_result",
          "data": {
            "text/plain": [
              "Index(['season', 'episode', 'restaurant', 'city', 'state', 'air_date',\n",
              "       'status', 'film_month', 'closing_year', 'cuisine', 'revisited',\n",
              "       'two_parts'],\n",
              "      dtype='object')"
            ]
          },
          "metadata": {},
          "execution_count": 3
        }
      ]
    },
    {
      "cell_type": "markdown",
      "source": [
        "4. Next, we will check for all unique values in the 'season' column."
      ],
      "metadata": {
        "id": "pKdKSh4_YSEH"
      }
    },
    {
      "cell_type": "code",
      "source": [
        "kn_df['season'].unique()"
      ],
      "metadata": {
        "colab": {
          "base_uri": "https://localhost:8080/"
        },
        "id": "CrAYSoHEYVZZ",
        "outputId": "97a4b876-99d5-4766-cb58-63b5edfeb404"
      },
      "execution_count": 4,
      "outputs": [
        {
          "output_type": "execute_result",
          "data": {
            "text/plain": [
              "array(['oNE', '1', ' uno', '2', '22222222', '3', '4', '5', 'fifth', '6',\n",
              "       'six', '7', '8'], dtype=object)"
            ]
          },
          "metadata": {},
          "execution_count": 4
        }
      ]
    },
    {
      "cell_type": "markdown",
      "source": [
        "5. There are some odd values, so we should fix them manually. Then, we'll re-check unique values to check work."
      ],
      "metadata": {
        "id": "aA_Tpe_UYuC3"
      }
    },
    {
      "cell_type": "code",
      "source": [
        "kn_df.loc[kn_df['season'] == 'oNE', 'season'] = '1'\n",
        "kn_df.loc[kn_df['season'] == ' uno', 'season'] = '1'\n",
        "kn_df.loc[kn_df['season'] == '22222222', 'season'] = '2'\n",
        "kn_df.loc[kn_df['season'] == 'fifth', 'season'] = '5'\n",
        "kn_df.loc[kn_df['season'] == 'six', 'season'] = '6'\n",
        "\n",
        "kn_df['season'].unique()"
      ],
      "metadata": {
        "colab": {
          "base_uri": "https://localhost:8080/"
        },
        "id": "Dus3HGXGY1iL",
        "outputId": "a7c5dab8-b3d6-4ac7-c82d-c00d8d51f79c"
      },
      "execution_count": 5,
      "outputs": [
        {
          "output_type": "execute_result",
          "data": {
            "text/plain": [
              "array(['1', '2', '3', '4', '5', '6', '7', '8'], dtype=object)"
            ]
          },
          "metadata": {},
          "execution_count": 5
        }
      ]
    },
    {
      "cell_type": "markdown",
      "source": [
        "6. Next, we'll move on to the 'episode' column and check for all unique values."
      ],
      "metadata": {
        "id": "izx3qaMxb-CA"
      }
    },
    {
      "cell_type": "code",
      "source": [
        "kn_df['episode'].unique()"
      ],
      "metadata": {
        "colab": {
          "base_uri": "https://localhost:8080/"
        },
        "id": "lPCoHtGwcCSC",
        "outputId": "1ca2771b-5df2-466f-fb2f-b454f79d5c2c"
      },
      "execution_count": 6,
      "outputs": [
        {
          "output_type": "execute_result",
          "data": {
            "text/plain": [
              "array([' one', '2', '3', '4', 'five', '6', '7', '8', '9', 'TEN!', '5',\n",
              "       '10', ' eeleven', '12', '1', '11', 'tree', '13', '14', '15', '16',\n",
              "       '17', 'sEven'], dtype=object)"
            ]
          },
          "metadata": {},
          "execution_count": 6
        }
      ]
    },
    {
      "cell_type": "markdown",
      "source": [
        "7. There are some odd values, so we should fix them manually. Then, re-call unique values to check work."
      ],
      "metadata": {
        "id": "4XVF4l-UcEtJ"
      }
    },
    {
      "cell_type": "code",
      "source": [
        "kn_df.loc[kn_df['episode'] == ' one', 'episode'] = '1'\n",
        "kn_df.loc[kn_df['episode'] == 'five', 'episode'] = '5'\n",
        "kn_df.loc[kn_df['episode'] == 'TEN!', 'episode'] = '10'\n",
        "kn_df.loc[kn_df['episode'] == ' eeleven', 'episode'] = '11'\n",
        "kn_df.loc[kn_df['episode'] == 'tree', 'episode'] = '3'\n",
        "kn_df.loc[kn_df['episode'] == 'sEven', 'episode'] = '7'\n",
        "\n",
        "kn_df['episode'].unique()"
      ],
      "metadata": {
        "colab": {
          "base_uri": "https://localhost:8080/"
        },
        "id": "DcU_sxEicPSP",
        "outputId": "45800dba-4d45-44ad-c1f3-a81fabf7e17d"
      },
      "execution_count": 7,
      "outputs": [
        {
          "output_type": "execute_result",
          "data": {
            "text/plain": [
              "array(['1', '2', '3', '4', '5', '6', '7', '8', '9', '10', '11', '12',\n",
              "       '13', '14', '15', '16', '17'], dtype=object)"
            ]
          },
          "metadata": {},
          "execution_count": 7
        }
      ]
    },
    {
      "cell_type": "markdown",
      "source": [
        "8. Next, we'll look at the unique values in the 'restaurant' column."
      ],
      "metadata": {
        "id": "PhDDN6klcnd6"
      }
    },
    {
      "cell_type": "code",
      "source": [
        "kn_df['restaurant'].unique()"
      ],
      "metadata": {
        "colab": {
          "base_uri": "https://localhost:8080/"
        },
        "id": "t3Lpa-19csf5",
        "outputId": "4a4b8d6f-b300-434d-a826-bb0a6754585e"
      },
      "execution_count": 8,
      "outputs": [
        {
          "output_type": "execute_result",
          "data": {
            "text/plain": [
              "array([\"Peter's...\", \"Dillon's...\", 'The Mixing Bowl...', 'Seascape...',\n",
              "       'The Olde Stone Mill...', \"Sebastian's...\", \"Finn McCool's...\",\n",
              "       \"Lela's...\", 'Campania...', 'The Secret Garden...', 'Handlebar...',\n",
              "       \"Giuseppi's...\", \"Trobiano's...\", 'Black Pearl...', \"J Willy's...\",\n",
              "       \"Hannah & Mason's...\", \"Jack's Waterfront...\", \"Sabatiello's...\",\n",
              "       'Fiesta Sunrise...', 'Sante La Brea...', 'Cafe 36...',\n",
              "       'Hot Potato Cafe...', \"FlAmAnGo'S\", 'Bazzini', 'Mojito',\n",
              "       'Lido di Manhattan', 'Le Bistro', 'Casa Roma', \"Mama Rita's\",\n",
              "       \"Anna Vincenzo's\", 'FlEmINg', 'Sushi-Ko?', 'Spanish Pavilion',\n",
              "       'Classic American', \"PJ's Steakhouse\", 'Grasshopper Also',\n",
              "       'Davide', 'Down City', 'Tavolini', 'Kingston Cafe', 'La Frite',\n",
              "       'Capri', \"Zeke's\", 'Oceana', \"Blackberry's\", \"Leone's\",\n",
              "       \"Mike & Nellie's\", \"Luigi's D'Italia\", 'Burger Kitchen01',\n",
              "       'The Greek at the Harbor', \"Michon's\", 'El Greco', \"Park's Edge\",\n",
              "       'Spin-A-Yarn Steakhouse', \"Charlie's\", 'Cafe Hon', \"Chiarella's\",\n",
              "       'Zocalo', 'La Galleria 33...', \"Mama Maria's\",\n",
              "       \"Ms. Jean's Southern Cuisine\", \"BaREfoOt BoB's\",\n",
              "       'Olde Hitching Post Restaurant and Tavern',\n",
              "       \"Levanti's Italian Restaurant\", \"Sam's Mediterranean Kabob Room\",\n",
              "       \"Nino's Italian Restaurant\", 'Mill Street Bistro', \"Yanni's\",\n",
              "       'Prohibition Grille', \"Chappy's\", \"Amy's Baking Company\",\n",
              "       \"Pantaleone's:\", 'Old Neighborhood', 'Kati Allo',\n",
              "       'Mangia Mangia--', 'Zayna Flaming Grill', 'Bella Luna', 'Bel Aire',\n",
              "       'Bask 46', 'In the Drink', 'Da Mimmo', 'The Juicy Box',\n",
              "       'Love Bites', 'El Cantito', 'South Brooklyn Foundry',\n",
              "       \"Max's Bar & Grill\", 'Diwan'], dtype=object)"
            ]
          },
          "metadata": {},
          "execution_count": 8
        }
      ]
    },
    {
      "cell_type": "markdown",
      "source": [
        "9. There are some odd values, so we will need to change them manually. There are also some strings that are reoccurring at the end of some of the restaurant names such as \"...\" that need to be removed. Then, re-call unique values to check work."
      ],
      "metadata": {
        "id": "DyHfqmK1c_XK"
      }
    },
    {
      "cell_type": "code",
      "source": [
        "kn_df['restaurant'] = kn_df['restaurant'].str.replace('...', '')\n",
        "\n",
        "kn_df.loc[kn_df['restaurant'] == \"FlAmAnGo'S\", 'restaurant'] = \"Flamango's\"\n",
        "kn_df.loc[kn_df['restaurant'] == 'FlEmINg', 'restaurant'] = \"Fleming\"\n",
        "kn_df.loc[kn_df['restaurant'] == 'Sushi-Ko?', 'restaurant'] = 'Sushi-Ko'\n",
        "kn_df.loc[kn_df['restaurant'] == 'Burger Kitchen01', 'restaurant'] = 'Burger Kitchen'\n",
        "kn_df.loc[kn_df['restaurant'] == \"BaREfoOt BoB's\", 'restaurant'] = \"Barefoot Bob's\"\n",
        "kn_df.loc[kn_df['restaurant'] == \"Pantaleone's:\", 'restaurant'] = \"Pantaleone's\"\n",
        "kn_df.loc[kn_df['restaurant'] == 'Mangia Mangia--', 'restaurant'] = 'Mangia Mangia'\n",
        "\n",
        "kn_df['restaurant'].unique()"
      ],
      "metadata": {
        "colab": {
          "base_uri": "https://localhost:8080/"
        },
        "id": "ZcNrsVzKdKOL",
        "outputId": "93aae4e2-60f2-412c-ce0b-c2b46f4a5001"
      },
      "execution_count": 9,
      "outputs": [
        {
          "output_type": "execute_result",
          "data": {
            "text/plain": [
              "array([\"Peter's\", \"Dillon's\", 'The Mixing Bowl', 'Seascape',\n",
              "       'The Olde Stone Mill', \"Sebastian's\", \"Finn McCool's\", \"Lela's\",\n",
              "       'Campania', 'The Secret Garden', 'Handlebar', \"Giuseppi's\",\n",
              "       \"Trobiano's\", 'Black Pearl', \"J Willy's\", \"Hannah & Mason's\",\n",
              "       \"Jack's Waterfront\", \"Sabatiello's\", 'Fiesta Sunrise',\n",
              "       'Sante La Brea', 'Cafe 36', 'Hot Potato Cafe', \"Flamango's\",\n",
              "       'Bazzini', 'Mojito', 'Lido di Manhattan', 'Le Bistro', 'Casa Roma',\n",
              "       \"Mama Rita's\", \"Anna Vincenzo's\", 'Fleming', 'Sushi-Ko',\n",
              "       'Spanish Pavilion', 'Classic American', \"PJ's Steakhouse\",\n",
              "       'Grasshopper Also', 'Davide', 'Down City', 'Tavolini',\n",
              "       'Kingston Cafe', 'La Frite', 'Capri', \"Zeke's\", 'Oceana',\n",
              "       \"Blackberry's\", \"Leone's\", \"Mike & Nellie's\", \"Luigi's D'Italia\",\n",
              "       'Burger Kitchen', 'The Greek at the Harbor', \"Michon's\",\n",
              "       'El Greco', \"Park's Edge\", 'Spin-A-Yarn Steakhouse', \"Charlie's\",\n",
              "       'Cafe Hon', \"Chiarella's\", 'Zocalo', 'La Galleria 33',\n",
              "       \"Mama Maria's\", \"Ms. Jean's Southern Cuisine\", \"Barefoot Bob's\",\n",
              "       'Olde Hitching Post Restaurant and Tavern',\n",
              "       \"Levanti's Italian Restaurant\", \"Sam's Mediterranean Kabob Room\",\n",
              "       \"Nino's Italian Restaurant\", 'Mill Street Bistro', \"Yanni's\",\n",
              "       'Prohibition Grille', \"Chappy's\", \"Amy's Baking Company\",\n",
              "       \"Pantaleone's\", 'Old Neighborhood', 'Kati Allo', 'Mangia Mangia',\n",
              "       'Zayna Flaming Grill', 'Bella Luna', 'Bel Aire', 'Bask 46',\n",
              "       'In the Drink', 'Da Mimmo', 'The Juicy Box', 'Love Bites',\n",
              "       'El Cantito', 'South Brooklyn Foundry', \"Max's Bar & Grill\",\n",
              "       'Diwan'], dtype=object)"
            ]
          },
          "metadata": {},
          "execution_count": 9
        }
      ]
    },
    {
      "cell_type": "markdown",
      "source": [
        "10. Next, let's look at the unique values for the 'city' column."
      ],
      "metadata": {
        "id": "Wyfj3ZHUe7Og"
      }
    },
    {
      "cell_type": "code",
      "source": [
        "kn_df['city'].unique()"
      ],
      "metadata": {
        "colab": {
          "base_uri": "https://localhost:8080/"
        },
        "id": "-XBZytgkfBt4",
        "outputId": "3cd2470c-394d-44e9-d9a5-20a99897cb95"
      },
      "execution_count": 10,
      "outputs": [
        {
          "output_type": "execute_result",
          "data": {
            "text/plain": [
              "array(['Babylon', 'NYC', 'Bellmore', 'Islip', 'Tuckahoe', 'Toluca Lake',\n",
              "       'Westhampton', 'Pomona', 'Fair Lawn', 'Moorpark', 'Mount Sinai',\n",
              "       'Macomb Township', 'Great Neck', 'New York City', 'South Bend',\n",
              "       'Cranbury', 'St. Clair Shores', 'Stamford', 'West Nyack',\n",
              "       'Los Angeles', 'La Grange', 'Fishtown', 'Whitehouse Station',\n",
              "       'Ridgewood', 'Brooklyn', 'Manhattan Beach', 'Lighthouse Point',\n",
              "       'Lancaster', 'Newbury Park', 'Boca Raton', 'Miami',\n",
              "       'Thousand Oaks', 'Harrison...', 'Queens', 'Carlstadt', 'Boston',\n",
              "       'Providence', 'Bridgeport', 'Pasadena', 'Sherman Oaks',\n",
              "       'Eagle Rock', 'Metairie', 'New Orleans', 'Plainfield', 'Montclair',\n",
              "       'Oakhurst', 'Anaheim', 'LA', 'Ventura', 'College Park', 'Austin',\n",
              "       'Atlanta', 'Fremont', 'La Verne', 'Baltimore', 'Philadelphia',\n",
              "       'Wilkinsburg', 'Hull', 'Hanson', 'Beaver', 'Monrovia',\n",
              "       'Long Beach', 'Norwalk', 'Seattle', 'Everett', 'Nashville',\n",
              "       'Scottsdale', 'Denver', 'Arvada', 'Woodland Park', 'Redondo Beach',\n",
              "       'Easton', 'Astoria', 'Wayne', 'Dumont', 'Saugerties', 'Yonkers',\n",
              "       'Long Branch', 'Port Washington'], dtype=object)"
            ]
          },
          "metadata": {},
          "execution_count": 10
        }
      ]
    },
    {
      "cell_type": "markdown",
      "source": [
        "11. There are a couple values that need to be manually changed since they were put in as abbreviations. There is also one value with the string '...' that needs to be fixed. Then, we'll re-call the column's unique values to check our work."
      ],
      "metadata": {
        "id": "-pJi3jwtfDrD"
      }
    },
    {
      "cell_type": "code",
      "source": [
        "kn_df.loc[kn_df['city'] == 'LA', 'city'] = 'Los Angeles'\n",
        "kn_df.loc[kn_df['city'] == 'NYC', 'city'] = 'New York City'\n",
        "kn_df.loc[kn_df['city'] == 'Harrison...', 'city'] = 'Harrison'\n",
        "\n",
        "kn_df['city'].unique()"
      ],
      "metadata": {
        "colab": {
          "base_uri": "https://localhost:8080/"
        },
        "id": "R6iQyjH5fSAT",
        "outputId": "25f986cf-7061-4f8a-f99e-becd1a70026a"
      },
      "execution_count": 11,
      "outputs": [
        {
          "output_type": "execute_result",
          "data": {
            "text/plain": [
              "array(['Babylon', 'New York City', 'Bellmore', 'Islip', 'Tuckahoe',\n",
              "       'Toluca Lake', 'Westhampton', 'Pomona', 'Fair Lawn', 'Moorpark',\n",
              "       'Mount Sinai', 'Macomb Township', 'Great Neck', 'South Bend',\n",
              "       'Cranbury', 'St. Clair Shores', 'Stamford', 'West Nyack',\n",
              "       'Los Angeles', 'La Grange', 'Fishtown', 'Whitehouse Station',\n",
              "       'Ridgewood', 'Brooklyn', 'Manhattan Beach', 'Lighthouse Point',\n",
              "       'Lancaster', 'Newbury Park', 'Boca Raton', 'Miami',\n",
              "       'Thousand Oaks', 'Harrison', 'Queens', 'Carlstadt', 'Boston',\n",
              "       'Providence', 'Bridgeport', 'Pasadena', 'Sherman Oaks',\n",
              "       'Eagle Rock', 'Metairie', 'New Orleans', 'Plainfield', 'Montclair',\n",
              "       'Oakhurst', 'Anaheim', 'Ventura', 'College Park', 'Austin',\n",
              "       'Atlanta', 'Fremont', 'La Verne', 'Baltimore', 'Philadelphia',\n",
              "       'Wilkinsburg', 'Hull', 'Hanson', 'Beaver', 'Monrovia',\n",
              "       'Long Beach', 'Norwalk', 'Seattle', 'Everett', 'Nashville',\n",
              "       'Scottsdale', 'Denver', 'Arvada', 'Woodland Park', 'Redondo Beach',\n",
              "       'Easton', 'Astoria', 'Wayne', 'Dumont', 'Saugerties', 'Yonkers',\n",
              "       'Long Branch', 'Port Washington'], dtype=object)"
            ]
          },
          "metadata": {},
          "execution_count": 11
        }
      ]
    },
    {
      "cell_type": "markdown",
      "source": [
        "12. Next, let's look at the 'state' column and its unique values."
      ],
      "metadata": {
        "id": "o_izh9daf1G3"
      }
    },
    {
      "cell_type": "code",
      "source": [
        "kn_df['state'].unique()"
      ],
      "metadata": {
        "colab": {
          "base_uri": "https://localhost:8080/"
        },
        "id": "eD3N_PDGf4xM",
        "outputId": "ffcec4e4-ce6b-4d9d-d1ee-807c7454a7d3"
      },
      "execution_count": 12,
      "outputs": [
        {
          "output_type": "execute_result",
          "data": {
            "text/plain": [
              "array(['NY', 'CA', 'new jersey', 'MI', 'NEW YORK', 'IN', 'NJ', 'CT',\n",
              "       'cali', 'IL', 'PA', 'FL', 'MA', 'RI', 'LA', 'New Orleans, LA',\n",
              "       'GA', 'TX', 'MD', 'OH', 'WA', 'TN', 'AZ', 'CO', 'jersey'],\n",
              "      dtype=object)"
            ]
          },
          "metadata": {},
          "execution_count": 12
        }
      ]
    },
    {
      "cell_type": "markdown",
      "source": [
        "13. There are some values that need to be manually fixed since they were not inputted in the correct format. Ater, we will re-call the column's unique values to check our work."
      ],
      "metadata": {
        "id": "lCN9CyG1f7Nv"
      }
    },
    {
      "cell_type": "code",
      "source": [
        "kn_df.loc[kn_df['state'] == 'new jersey', 'state'] = 'NJ'\n",
        "kn_df.loc[kn_df['state'] == 'NEW YORK', 'state'] = 'NY'\n",
        "kn_df.loc[kn_df['state'] == 'cali', 'state'] = 'CA'\n",
        "kn_df.loc[kn_df['state'] == 'New Orleans, LA', 'state'] = 'LA'\n",
        "kn_df.loc[kn_df['state'] == 'jersey', 'state'] = 'NJ'\n",
        "\n",
        "kn_df['state'].unique()"
      ],
      "metadata": {
        "colab": {
          "base_uri": "https://localhost:8080/"
        },
        "id": "tmKiVZWzgFhC",
        "outputId": "98ca1f2d-174c-4eb2-eb90-da1efa38c421"
      },
      "execution_count": 13,
      "outputs": [
        {
          "output_type": "execute_result",
          "data": {
            "text/plain": [
              "array(['NY', 'CA', 'NJ', 'MI', 'IN', 'CT', 'IL', 'PA', 'FL', 'MA', 'RI',\n",
              "       'LA', 'GA', 'TX', 'MD', 'OH', 'WA', 'TN', 'AZ', 'CO'], dtype=object)"
            ]
          },
          "metadata": {},
          "execution_count": 13
        }
      ]
    },
    {
      "cell_type": "markdown",
      "source": [
        "14. Next, let's look at the 'air_date' column's unique values."
      ],
      "metadata": {
        "id": "xW0V3Z-IhHGy"
      }
    },
    {
      "cell_type": "code",
      "source": [
        "kn_df['air_date'].unique()"
      ],
      "metadata": {
        "colab": {
          "base_uri": "https://localhost:8080/"
        },
        "id": "hkHNxSfVhLXK",
        "outputId": "b4df60ea-a83b-4b8e-c421-74eb5496c5e0"
      },
      "execution_count": 14,
      "outputs": [
        {
          "output_type": "execute_result",
          "data": {
            "text/plain": [
              "array(['2007-09-19', '2007-09-26', 'october 3 2007', '2007-10-10',\n",
              "       '2007-10-17', '2007-11-07', '2007-11-14', '2007-11-21',\n",
              "       '2007-11-28', '2007-12-12', '2008-09-11', '2008-09-18',\n",
              "       '09-25-2008', '2008-09-25', '2008-10-30', '2008-11-06',\n",
              "       '2008-11-13', '2008-11-20', '2009-01-15', '2010-01-29',\n",
              "       '2010-02-02', '2010-02-05', '2010-02-25', '2010-03-04',\n",
              "       '2010-03-11', '12th of march 2010', '2010-03-19', '2010-03-26',\n",
              "       '2010-05-07', '2010-05-14', '2011-01-21', '2011-01-28',\n",
              "       '2011-02-11', '2011-02-18', '2011-02-25', '2011-03-11',\n",
              "       '2011-03-25', '2011-04-15', '2011-04-29', '2011-05-06',\n",
              "       '2011-05-13', '2011-05-20', '2011-09-23', '2011-09-30',\n",
              "       '2011-10-07', '2011-10-14', '2011-09-04', '2011-11-18',\n",
              "       '2012-01-13', '2012-01-20', '2012-02-03', '2012-02-10',\n",
              "       '2012-02-17', '2012-02-24', '2012-03-23', '2012-03-30',\n",
              "       '2012-10-26', '2012-11-09', '2012-11-16', '2012-12-07',\n",
              "       '2013-01-25', '2013-02-01', '2013-02-15', '2013-02-22',\n",
              "       '2013-03-01', '2013-03-15', '2013-04-26', '2013-05-03',\n",
              "       '2013-05-10', '2014-04-11', '2014-04-18', '2014-04-25',\n",
              "       'may 2 2014', '2014-05-16', '2023-09-25', '2023-10-02',\n",
              "       '2023-10-09', '2023-10-16', '2023-11-06', '2023-11-13',\n",
              "       '2023-11-20', '2023-11-27', '2023-12-04', '2023-12-4'],\n",
              "      dtype=object)"
            ]
          },
          "metadata": {},
          "execution_count": 14
        }
      ]
    },
    {
      "cell_type": "markdown",
      "source": [
        "15. We want to make sure everything is in the correct Y-M-D format so it is read in correctly as a date. Let's manually change the incorrect values to the correct format. Then, we'll re-call the 'air_date' unique values to check our work."
      ],
      "metadata": {
        "id": "7hoWPhsZhjCw"
      }
    },
    {
      "cell_type": "code",
      "source": [
        "kn_df.loc[kn_df['air_date'] == 'october 3 2007', 'air_date'] = '2007-10-03'\n",
        "kn_df.loc[kn_df['air_date'] == '09-25-2008', 'air_date'] = '2008-09-25'\n",
        "kn_df.loc[kn_df['air_date'] == '12th of march 2010', 'air_date'] = '2010-03-12'\n",
        "kn_df.loc[kn_df['air_date'] == 'may 2 2014', 'air_date'] = '2014-05-02'\n",
        "kn_df.loc[kn_df['air_date'] == '2023-12-4', 'air_date'] = '2023-12-04'\n",
        "\n",
        "kn_df['air_date'].unique()"
      ],
      "metadata": {
        "colab": {
          "base_uri": "https://localhost:8080/"
        },
        "id": "YvDbg0sb4tlu",
        "outputId": "f76c882a-c921-45a0-d9a8-17a5671cca84"
      },
      "execution_count": 15,
      "outputs": [
        {
          "output_type": "execute_result",
          "data": {
            "text/plain": [
              "array(['2007-09-19', '2007-09-26', '2007-10-03', '2007-10-10',\n",
              "       '2007-10-17', '2007-11-07', '2007-11-14', '2007-11-21',\n",
              "       '2007-11-28', '2007-12-12', '2008-09-11', '2008-09-18',\n",
              "       '2008-09-25', '2008-10-30', '2008-11-06', '2008-11-13',\n",
              "       '2008-11-20', '2009-01-15', '2010-01-29', '2010-02-02',\n",
              "       '2010-02-05', '2010-02-25', '2010-03-04', '2010-03-11',\n",
              "       '2010-03-12', '2010-03-19', '2010-03-26', '2010-05-07',\n",
              "       '2010-05-14', '2011-01-21', '2011-01-28', '2011-02-11',\n",
              "       '2011-02-18', '2011-02-25', '2011-03-11', '2011-03-25',\n",
              "       '2011-04-15', '2011-04-29', '2011-05-06', '2011-05-13',\n",
              "       '2011-05-20', '2011-09-23', '2011-09-30', '2011-10-07',\n",
              "       '2011-10-14', '2011-09-04', '2011-11-18', '2012-01-13',\n",
              "       '2012-01-20', '2012-02-03', '2012-02-10', '2012-02-17',\n",
              "       '2012-02-24', '2012-03-23', '2012-03-30', '2012-10-26',\n",
              "       '2012-11-09', '2012-11-16', '2012-12-07', '2013-01-25',\n",
              "       '2013-02-01', '2013-02-15', '2013-02-22', '2013-03-01',\n",
              "       '2013-03-15', '2013-04-26', '2013-05-03', '2013-05-10',\n",
              "       '2014-04-11', '2014-04-18', '2014-04-25', '2014-05-02',\n",
              "       '2014-05-16', '2023-09-25', '2023-10-02', '2023-10-09',\n",
              "       '2023-10-16', '2023-11-06', '2023-11-13', '2023-11-20',\n",
              "       '2023-11-27', '2023-12-04'], dtype=object)"
            ]
          },
          "metadata": {},
          "execution_count": 15
        }
      ]
    },
    {
      "cell_type": "markdown",
      "source": [
        "16. Next, we'll look at the unique values of the 'status' column."
      ],
      "metadata": {
        "id": "ebi0lo5a7sRe"
      }
    },
    {
      "cell_type": "code",
      "source": [
        "kn_df['status'].unique()"
      ],
      "metadata": {
        "colab": {
          "base_uri": "https://localhost:8080/"
        },
        "id": "3-SDq1z28E5R",
        "outputId": "cc5980a2-9156-4aa7-abe9-f807622d9c40"
      },
      "execution_count": 16,
      "outputs": [
        {
          "output_type": "execute_result",
          "data": {
            "text/plain": [
              "array([' closed', 'Closed', 'closed', 'c', ' Closed', ' not open ',\n",
              "       'Open', 'open', 'closed.', 'Open.'], dtype=object)"
            ]
          },
          "metadata": {},
          "execution_count": 16
        }
      ]
    },
    {
      "cell_type": "markdown",
      "source": [
        "17. We should get rid of leading spaces and also change valus manually to create only two possible values- 'closed' and 'open'."
      ],
      "metadata": {
        "id": "lJe-reht8MMn"
      }
    },
    {
      "cell_type": "code",
      "source": [
        "kn_df['status'] = kn_df['status'].str.replace(' ', '')\n",
        "\n",
        "kn_df.loc[kn_df['status'] == 'Closed', 'status'] = 'closed'\n",
        "kn_df.loc[kn_df['status'] == 'c', 'status'] = 'closed'\n",
        "kn_df.loc[kn_df['status'] == 'notopen', 'status'] = 'closed'\n",
        "kn_df.loc[kn_df['status'] == 'Open', 'status'] = 'open'\n",
        "kn_df.loc[kn_df['status'] == 'closed.', 'status'] = 'closed'\n",
        "kn_df.loc[kn_df['status'] == 'Open.', 'status'] = 'open'\n",
        "\n",
        "kn_df['status'].unique()"
      ],
      "metadata": {
        "colab": {
          "base_uri": "https://localhost:8080/"
        },
        "id": "NeMabuIw8UeL",
        "outputId": "8eea016e-e97f-42cb-df2b-3c53a1383184"
      },
      "execution_count": 17,
      "outputs": [
        {
          "output_type": "execute_result",
          "data": {
            "text/plain": [
              "array(['closed', 'open'], dtype=object)"
            ]
          },
          "metadata": {},
          "execution_count": 17
        }
      ]
    },
    {
      "cell_type": "markdown",
      "source": [
        "18. Next, let's look at the unique values for the 'film_month' column. Everything looks normal so we can move on."
      ],
      "metadata": {
        "id": "8QfYJK0e9Skc"
      }
    },
    {
      "cell_type": "code",
      "source": [
        "kn_df['film_month'].unique()"
      ],
      "metadata": {
        "colab": {
          "base_uri": "https://localhost:8080/"
        },
        "id": "UBMr4ilS9ZfA",
        "outputId": "80670346-25f2-4dc2-800b-64a9588a7a60"
      },
      "execution_count": 18,
      "outputs": [
        {
          "output_type": "execute_result",
          "data": {
            "text/plain": [
              "array(['Mar 2007', 'Feb 2007', 'Feb 2008', 'Mar 2008', 'May 2009',\n",
              "       'Jul 2009', 'Nov 2010', 'May 2010', 'Dec 2010', 'Jan 2011',\n",
              "       'Jul 2011', 'Aug 2011', 'Jan 2012', 'Sep 2011', 'Oct 2011',\n",
              "       'Nov 2011', 'May 2012', 'Jun 2012', 'Jul 2012', 'Nov 2012',\n",
              "       'Dec 2012', 'Jul 2013', 'Aug 2013', 'Apr 2023', 'Jun 2023',\n",
              "       'Jul 2023'], dtype=object)"
            ]
          },
          "metadata": {},
          "execution_count": 18
        }
      ]
    },
    {
      "cell_type": "markdown",
      "source": [
        "19. Then, we can look at the unique values for the 'closing_year' column."
      ],
      "metadata": {
        "id": "nTtkGxzB9hqr"
      }
    },
    {
      "cell_type": "code",
      "source": [
        "kn_df['closing_year'].unique()"
      ],
      "metadata": {
        "colab": {
          "base_uri": "https://localhost:8080/"
        },
        "id": "Cfg2alsA9srl",
        "outputId": "b86e2a24-947d-4592-beda-2857377ee221"
      },
      "execution_count": 19,
      "outputs": [
        {
          "output_type": "execute_result",
          "data": {
            "text/plain": [
              "array(['2008', '2009', '2007', '2022', '2012', '2010', '2011', '2016',\n",
              "       \"didn't close\", 'still open', '2017', '2013', '2014', '2018',\n",
              "       '2019', nan, '2015', '2023', 'not applicable', '2024'],\n",
              "      dtype=object)"
            ]
          },
          "metadata": {},
          "execution_count": 19
        }
      ]
    },
    {
      "cell_type": "markdown",
      "source": [
        "20. There are many different values that need to be understood by Python as nan and will need to be manually changed. After, we will re-call the unique values to ensure that everything worked correctly."
      ],
      "metadata": {
        "id": "0PsjysyV95yw"
      }
    },
    {
      "cell_type": "code",
      "source": [
        "kn_df.replace([\"didn't close\", \"still open\", \"nan\", \"not applicable\"], np.nan, inplace=True)\n",
        "\n",
        "kn_df['closing_year'].unique()"
      ],
      "metadata": {
        "colab": {
          "base_uri": "https://localhost:8080/"
        },
        "id": "dbnFZjfV-U48",
        "outputId": "1520ce86-0c55-437b-d25e-a0feb855b4e0"
      },
      "execution_count": 20,
      "outputs": [
        {
          "output_type": "execute_result",
          "data": {
            "text/plain": [
              "array(['2008', '2009', '2007', '2022', '2012', '2010', '2011', '2016',\n",
              "       nan, '2017', '2013', '2014', '2018', '2019', '2015', '2023',\n",
              "       '2024'], dtype=object)"
            ]
          },
          "metadata": {},
          "execution_count": 20
        }
      ]
    },
    {
      "cell_type": "markdown",
      "source": [
        "21. Then, we can look at the unique values for the 'cuisine' frequency table."
      ],
      "metadata": {
        "id": "xcEcjZwl-4Kx"
      }
    },
    {
      "cell_type": "code",
      "source": [
        "kn_df['cuisine'].unique()"
      ],
      "metadata": {
        "colab": {
          "base_uri": "https://localhost:8080/"
        },
        "id": "bs9GsIhq_cqB",
        "outputId": "ec58e9af-acef-48b8-feff-459671e984d0"
      },
      "execution_count": 21,
      "outputs": [
        {
          "output_type": "execute_result",
          "data": {
            "text/plain": [
              "array(['Italian', 'Indian', 'american', 'Seafood', 'American', 'Pizzeria',\n",
              "       'Irish', 'Fine Dining', 'French', 'Mexican', 'Healthy', 'Hawaiian',\n",
              "       'Italy', 'Cuban', 'Danish', 'Japanese', 'Spanish', 'Jamaican',\n",
              "       'New Orleans', 'Soul Food', 'Steakhouse', 'Greek', 'Barbecue',\n",
              "       'Steak', 'Mediterranean', 'Cajun', 'Pizza/Bakery', 'Pizza',\n",
              "       'Middle Eastern', 'breakfast', 'Puerto Rican'], dtype=object)"
            ]
          },
          "metadata": {},
          "execution_count": 21
        }
      ]
    },
    {
      "cell_type": "markdown",
      "source": [
        "22. There are some repetitive values that need to be manually changed. Then, we'll re-call the unique values to ensure that everything worked correctly."
      ],
      "metadata": {
        "id": "NV0VcPH9_ipd"
      }
    },
    {
      "cell_type": "code",
      "source": [
        "kn_df.loc[kn_df['cuisine'] == 'american', 'cuisine'] = 'American'\n",
        "kn_df.loc[kn_df['cuisine'] == 'Italy', 'cuisine'] = 'Italian'\n",
        "kn_df.loc[kn_df['cuisine'] == 'Pizzeria', 'cuisine'] = 'Pizza'\n",
        "kn_df.loc[kn_df['cuisine'] == 'Steak', 'cuisine'] = 'Steakhouse'\n",
        "kn_df.loc[kn_df['cuisine'] == 'breakfast', 'cuisine'] = 'Breakfast'\n",
        "\n",
        "kn_df['cuisine'].unique()"
      ],
      "metadata": {
        "colab": {
          "base_uri": "https://localhost:8080/"
        },
        "id": "c7YB6jaW_5hd",
        "outputId": "afe5aa4f-c05a-49a1-fed1-a862ad424e3f"
      },
      "execution_count": 22,
      "outputs": [
        {
          "output_type": "execute_result",
          "data": {
            "text/plain": [
              "array(['Italian', 'Indian', 'American', 'Seafood', 'Pizza', 'Irish',\n",
              "       'Fine Dining', 'French', 'Mexican', 'Healthy', 'Hawaiian', 'Cuban',\n",
              "       'Danish', 'Japanese', 'Spanish', 'Jamaican', 'New Orleans',\n",
              "       'Soul Food', 'Steakhouse', 'Greek', 'Barbecue', 'Mediterranean',\n",
              "       'Cajun', 'Pizza/Bakery', 'Middle Eastern', 'Breakfast',\n",
              "       'Puerto Rican'], dtype=object)"
            ]
          },
          "metadata": {},
          "execution_count": 22
        }
      ]
    },
    {
      "cell_type": "markdown",
      "source": [
        "23. Next, let's look at the unique values of the 'revisited' column."
      ],
      "metadata": {
        "id": "h8bCdiIDAkNx"
      }
    },
    {
      "cell_type": "code",
      "source": [
        "kn_df['revisited'].unique()"
      ],
      "metadata": {
        "colab": {
          "base_uri": "https://localhost:8080/"
        },
        "id": "k3N8x9bTApNR",
        "outputId": "cea36dd6-a370-4916-e4a4-3d3f75268201"
      },
      "execution_count": 23,
      "outputs": [
        {
          "output_type": "execute_result",
          "data": {
            "text/plain": [
              "array(['No', ' No', 'No.', 'Yes', 'Yessss', 'No?', 'No...', ' yes ',\n",
              "       'Nooooo'], dtype=object)"
            ]
          },
          "metadata": {},
          "execution_count": 23
        }
      ]
    },
    {
      "cell_type": "markdown",
      "source": [
        "24. There should only be \"Yes\" or \"No\" values here so we'll manually change incorrect values. Then, we'll re-call the unique values to check our work."
      ],
      "metadata": {
        "id": "_l1kUDGXAuSd"
      }
    },
    {
      "cell_type": "code",
      "source": [
        "kn_df.loc[kn_df['revisited'] == ' No', 'revisited'] = 'No'\n",
        "kn_df.loc[kn_df['revisited'] == 'No.', 'revisited'] = 'No'\n",
        "kn_df.loc[kn_df['revisited'] == 'Yessss', 'revisited'] = 'Yes'\n",
        "kn_df.loc[kn_df['revisited'] == 'No?', 'revisited'] = 'No'\n",
        "kn_df.loc[kn_df['revisited'] == 'No...', 'revisited'] = 'No'\n",
        "kn_df.loc[kn_df['revisited'] == ' yes ', 'revisited'] = 'Yes'\n",
        "kn_df.loc[kn_df['revisited'] == 'Nooooo', 'revisited'] = 'No'\n",
        "\n",
        "kn_df['revisited'].unique()"
      ],
      "metadata": {
        "colab": {
          "base_uri": "https://localhost:8080/"
        },
        "id": "MjJm1EKcA2uT",
        "outputId": "134fe8a9-ac9f-48aa-ed41-16a46da17686"
      },
      "execution_count": 24,
      "outputs": [
        {
          "output_type": "execute_result",
          "data": {
            "text/plain": [
              "array(['No', 'Yes'], dtype=object)"
            ]
          },
          "metadata": {},
          "execution_count": 24
        }
      ]
    },
    {
      "cell_type": "markdown",
      "source": [
        "25. Next, let's look at the unique values of the 'two_parts' column."
      ],
      "metadata": {
        "id": "oDcsnDGvBiUO"
      }
    },
    {
      "cell_type": "code",
      "source": [
        "kn_df['two_parts'].unique()"
      ],
      "metadata": {
        "colab": {
          "base_uri": "https://localhost:8080/"
        },
        "id": "DUHdH1ClBniX",
        "outputId": "9fae2e61-fef4-4e0e-cf07-b5af0feecc1a"
      },
      "execution_count": 25,
      "outputs": [
        {
          "output_type": "execute_result",
          "data": {
            "text/plain": [
              "array(['No', 'N', 'Y', 'Yes', ' No', 'Yes ', ' No.'], dtype=object)"
            ]
          },
          "metadata": {},
          "execution_count": 25
        }
      ]
    },
    {
      "cell_type": "markdown",
      "source": [
        "26. We need to manually change some values, and then re-call the unique values to make sure there are only two possible values: 'Yes' and 'No'."
      ],
      "metadata": {
        "id": "7cqhgDpkBuBF"
      }
    },
    {
      "cell_type": "code",
      "source": [
        "kn_df.loc[kn_df['two_parts'] == 'N', 'two_parts'] = 'No'\n",
        "kn_df.loc[kn_df['two_parts'] == 'Y', 'two_parts'] = 'Yes'\n",
        "kn_df.loc[kn_df['two_parts'] == ' No', 'two_parts'] = 'No'\n",
        "kn_df.loc[kn_df['two_parts'] == 'Yes ', 'two_parts'] = 'Yes'\n",
        "kn_df.loc[kn_df['two_parts'] == ' No.', 'two_parts'] = 'No'\n",
        "\n",
        "kn_df['two_parts'].unique()"
      ],
      "metadata": {
        "colab": {
          "base_uri": "https://localhost:8080/"
        },
        "id": "4Ca0LN2JB2xY",
        "outputId": "ec5345fa-d180-4b82-9dac-6a0457f9031d"
      },
      "execution_count": 26,
      "outputs": [
        {
          "output_type": "execute_result",
          "data": {
            "text/plain": [
              "array(['No', 'Yes'], dtype=object)"
            ]
          },
          "metadata": {},
          "execution_count": 26
        }
      ]
    },
    {
      "cell_type": "markdown",
      "source": [
        "27. Saving the cleaned Kitchen nightmares data set to CSV."
      ],
      "metadata": {
        "id": "Sw-j_BiNCbiB"
      }
    },
    {
      "cell_type": "code",
      "source": [
        "kn_df.to_csv('cleaned_kitchen_nightmares.csv', index=False)"
      ],
      "metadata": {
        "id": "40-In8xFCi4r"
      },
      "execution_count": 27,
      "outputs": []
    },
    {
      "cell_type": "markdown",
      "source": [
        "## Data Formatting"
      ],
      "metadata": {
        "id": "M2lYg_EoDVKM"
      }
    },
    {
      "cell_type": "markdown",
      "source": [
        "1. Read in Clean Kitchen Nightmares data from Github link."
      ],
      "metadata": {
        "id": "0-dYI5ZPm5le"
      }
    },
    {
      "cell_type": "code",
      "source": [
        "clean_kn_link = \"https://github.com/Personal-Portfolio-Gordon-Ramsay-TCG/Gordon_Ramsay/raw/refs/heads/main/Clean%20Data/cleaned_kitchen_nightmares.csv\"\n",
        "\n",
        "clean_kn = pd.read_csv(clean_kn_link)\n",
        "clean_kn.info()"
      ],
      "metadata": {
        "colab": {
          "base_uri": "https://localhost:8080/"
        },
        "id": "oDk-Ga-7WUWS",
        "outputId": "74ecb057-8d4a-42cf-ac71-c5abb9b1fb50"
      },
      "execution_count": 28,
      "outputs": [
        {
          "output_type": "stream",
          "name": "stdout",
          "text": [
            "<class 'pandas.core.frame.DataFrame'>\n",
            "RangeIndex: 87 entries, 0 to 86\n",
            "Data columns (total 12 columns):\n",
            " #   Column        Non-Null Count  Dtype  \n",
            "---  ------        --------------  -----  \n",
            " 0   season        87 non-null     int64  \n",
            " 1   episode       87 non-null     int64  \n",
            " 2   restaurant    87 non-null     object \n",
            " 3   city          87 non-null     object \n",
            " 4   state         87 non-null     object \n",
            " 5   air_date      87 non-null     object \n",
            " 6   status        87 non-null     object \n",
            " 7   film_month    87 non-null     object \n",
            " 8   closing_year  68 non-null     float64\n",
            " 9   cuisine       87 non-null     object \n",
            " 10  revisited     87 non-null     object \n",
            " 11  two_parts     87 non-null     object \n",
            "dtypes: float64(1), int64(2), object(9)\n",
            "memory usage: 8.3+ KB\n"
          ]
        }
      ]
    },
    {
      "cell_type": "markdown",
      "source": [
        "2. TEXT DATA\n",
        "\n",
        "We have many columns of text data (restaurant, city, state, status, cuisine, revisited, two_parts) that we want to make sure are in all lower case."
      ],
      "metadata": {
        "id": "mGHWIDK9Xsg3"
      }
    },
    {
      "cell_type": "code",
      "source": [
        "clean_kn['restaurant'] = clean_kn['restaurant'].str.lower()\n",
        "clean_kn['city'] = clean_kn['city'].str.lower()\n",
        "clean_kn['state'] = clean_kn['state'].str.lower()\n",
        "clean_kn['status'] = clean_kn['status'].str.lower()\n",
        "clean_kn['cuisine'] = clean_kn['cuisine'].str.lower()\n",
        "clean_kn['revisited'] = clean_kn['revisited'].str.lower()\n",
        "clean_kn['two_parts'] = clean_kn['two_parts'].str.lower()\n",
        "\n",
        "clean_kn.head()"
      ],
      "metadata": {
        "colab": {
          "base_uri": "https://localhost:8080/",
          "height": 313
        },
        "id": "gE5Op6tKYkV9",
        "outputId": "76d206ea-5cfc-4d16-93cf-9d87cd122af8"
      },
      "execution_count": 29,
      "outputs": [
        {
          "output_type": "execute_result",
          "data": {
            "text/plain": [
              "   season  episode           restaurant           city state    air_date  \\\n",
              "0       1        1              peter's        babylon    ny  2007-09-19   \n",
              "1       1        2             dillon's  new york city    ny  2007-09-26   \n",
              "2       1        3      the mixing bowl       bellmore    ny  2007-10-03   \n",
              "3       1        4             seascape          islip    ny  2007-10-10   \n",
              "4       1        5  the olde stone mill       tuckahoe    ny  2007-10-17   \n",
              "\n",
              "   status film_month  closing_year   cuisine revisited two_parts  \n",
              "0  closed   Mar 2007        2008.0   italian        no        no  \n",
              "1  closed   Mar 2007        2008.0    indian        no        no  \n",
              "2  closed   Mar 2007        2009.0  american        no        no  \n",
              "3  closed   Mar 2007        2007.0   seafood        no        no  \n",
              "4  closed   Mar 2007        2022.0  american       yes        no  "
            ],
            "text/html": [
              "\n",
              "  <div id=\"df-54c648ba-a73a-4323-ac90-eba253392cae\" class=\"colab-df-container\">\n",
              "    <div>\n",
              "<style scoped>\n",
              "    .dataframe tbody tr th:only-of-type {\n",
              "        vertical-align: middle;\n",
              "    }\n",
              "\n",
              "    .dataframe tbody tr th {\n",
              "        vertical-align: top;\n",
              "    }\n",
              "\n",
              "    .dataframe thead th {\n",
              "        text-align: right;\n",
              "    }\n",
              "</style>\n",
              "<table border=\"1\" class=\"dataframe\">\n",
              "  <thead>\n",
              "    <tr style=\"text-align: right;\">\n",
              "      <th></th>\n",
              "      <th>season</th>\n",
              "      <th>episode</th>\n",
              "      <th>restaurant</th>\n",
              "      <th>city</th>\n",
              "      <th>state</th>\n",
              "      <th>air_date</th>\n",
              "      <th>status</th>\n",
              "      <th>film_month</th>\n",
              "      <th>closing_year</th>\n",
              "      <th>cuisine</th>\n",
              "      <th>revisited</th>\n",
              "      <th>two_parts</th>\n",
              "    </tr>\n",
              "  </thead>\n",
              "  <tbody>\n",
              "    <tr>\n",
              "      <th>0</th>\n",
              "      <td>1</td>\n",
              "      <td>1</td>\n",
              "      <td>peter's</td>\n",
              "      <td>babylon</td>\n",
              "      <td>ny</td>\n",
              "      <td>2007-09-19</td>\n",
              "      <td>closed</td>\n",
              "      <td>Mar 2007</td>\n",
              "      <td>2008.0</td>\n",
              "      <td>italian</td>\n",
              "      <td>no</td>\n",
              "      <td>no</td>\n",
              "    </tr>\n",
              "    <tr>\n",
              "      <th>1</th>\n",
              "      <td>1</td>\n",
              "      <td>2</td>\n",
              "      <td>dillon's</td>\n",
              "      <td>new york city</td>\n",
              "      <td>ny</td>\n",
              "      <td>2007-09-26</td>\n",
              "      <td>closed</td>\n",
              "      <td>Mar 2007</td>\n",
              "      <td>2008.0</td>\n",
              "      <td>indian</td>\n",
              "      <td>no</td>\n",
              "      <td>no</td>\n",
              "    </tr>\n",
              "    <tr>\n",
              "      <th>2</th>\n",
              "      <td>1</td>\n",
              "      <td>3</td>\n",
              "      <td>the mixing bowl</td>\n",
              "      <td>bellmore</td>\n",
              "      <td>ny</td>\n",
              "      <td>2007-10-03</td>\n",
              "      <td>closed</td>\n",
              "      <td>Mar 2007</td>\n",
              "      <td>2009.0</td>\n",
              "      <td>american</td>\n",
              "      <td>no</td>\n",
              "      <td>no</td>\n",
              "    </tr>\n",
              "    <tr>\n",
              "      <th>3</th>\n",
              "      <td>1</td>\n",
              "      <td>4</td>\n",
              "      <td>seascape</td>\n",
              "      <td>islip</td>\n",
              "      <td>ny</td>\n",
              "      <td>2007-10-10</td>\n",
              "      <td>closed</td>\n",
              "      <td>Mar 2007</td>\n",
              "      <td>2007.0</td>\n",
              "      <td>seafood</td>\n",
              "      <td>no</td>\n",
              "      <td>no</td>\n",
              "    </tr>\n",
              "    <tr>\n",
              "      <th>4</th>\n",
              "      <td>1</td>\n",
              "      <td>5</td>\n",
              "      <td>the olde stone mill</td>\n",
              "      <td>tuckahoe</td>\n",
              "      <td>ny</td>\n",
              "      <td>2007-10-17</td>\n",
              "      <td>closed</td>\n",
              "      <td>Mar 2007</td>\n",
              "      <td>2022.0</td>\n",
              "      <td>american</td>\n",
              "      <td>yes</td>\n",
              "      <td>no</td>\n",
              "    </tr>\n",
              "  </tbody>\n",
              "</table>\n",
              "</div>\n",
              "    <div class=\"colab-df-buttons\">\n",
              "\n",
              "  <div class=\"colab-df-container\">\n",
              "    <button class=\"colab-df-convert\" onclick=\"convertToInteractive('df-54c648ba-a73a-4323-ac90-eba253392cae')\"\n",
              "            title=\"Convert this dataframe to an interactive table.\"\n",
              "            style=\"display:none;\">\n",
              "\n",
              "  <svg xmlns=\"http://www.w3.org/2000/svg\" height=\"24px\" viewBox=\"0 -960 960 960\">\n",
              "    <path d=\"M120-120v-720h720v720H120Zm60-500h600v-160H180v160Zm220 220h160v-160H400v160Zm0 220h160v-160H400v160ZM180-400h160v-160H180v160Zm440 0h160v-160H620v160ZM180-180h160v-160H180v160Zm440 0h160v-160H620v160Z\"/>\n",
              "  </svg>\n",
              "    </button>\n",
              "\n",
              "  <style>\n",
              "    .colab-df-container {\n",
              "      display:flex;\n",
              "      gap: 12px;\n",
              "    }\n",
              "\n",
              "    .colab-df-convert {\n",
              "      background-color: #E8F0FE;\n",
              "      border: none;\n",
              "      border-radius: 50%;\n",
              "      cursor: pointer;\n",
              "      display: none;\n",
              "      fill: #1967D2;\n",
              "      height: 32px;\n",
              "      padding: 0 0 0 0;\n",
              "      width: 32px;\n",
              "    }\n",
              "\n",
              "    .colab-df-convert:hover {\n",
              "      background-color: #E2EBFA;\n",
              "      box-shadow: 0px 1px 2px rgba(60, 64, 67, 0.3), 0px 1px 3px 1px rgba(60, 64, 67, 0.15);\n",
              "      fill: #174EA6;\n",
              "    }\n",
              "\n",
              "    .colab-df-buttons div {\n",
              "      margin-bottom: 4px;\n",
              "    }\n",
              "\n",
              "    [theme=dark] .colab-df-convert {\n",
              "      background-color: #3B4455;\n",
              "      fill: #D2E3FC;\n",
              "    }\n",
              "\n",
              "    [theme=dark] .colab-df-convert:hover {\n",
              "      background-color: #434B5C;\n",
              "      box-shadow: 0px 1px 3px 1px rgba(0, 0, 0, 0.15);\n",
              "      filter: drop-shadow(0px 1px 2px rgba(0, 0, 0, 0.3));\n",
              "      fill: #FFFFFF;\n",
              "    }\n",
              "  </style>\n",
              "\n",
              "    <script>\n",
              "      const buttonEl =\n",
              "        document.querySelector('#df-54c648ba-a73a-4323-ac90-eba253392cae button.colab-df-convert');\n",
              "      buttonEl.style.display =\n",
              "        google.colab.kernel.accessAllowed ? 'block' : 'none';\n",
              "\n",
              "      async function convertToInteractive(key) {\n",
              "        const element = document.querySelector('#df-54c648ba-a73a-4323-ac90-eba253392cae');\n",
              "        const dataTable =\n",
              "          await google.colab.kernel.invokeFunction('convertToInteractive',\n",
              "                                                    [key], {});\n",
              "        if (!dataTable) return;\n",
              "\n",
              "        const docLinkHtml = 'Like what you see? Visit the ' +\n",
              "          '<a target=\"_blank\" href=https://colab.research.google.com/notebooks/data_table.ipynb>data table notebook</a>'\n",
              "          + ' to learn more about interactive tables.';\n",
              "        element.innerHTML = '';\n",
              "        dataTable['output_type'] = 'display_data';\n",
              "        await google.colab.output.renderOutput(dataTable, element);\n",
              "        const docLink = document.createElement('div');\n",
              "        docLink.innerHTML = docLinkHtml;\n",
              "        element.appendChild(docLink);\n",
              "      }\n",
              "    </script>\n",
              "  </div>\n",
              "\n",
              "\n",
              "<div id=\"df-57a2f0be-c000-4c41-8f25-4f7b8536bd55\">\n",
              "  <button class=\"colab-df-quickchart\" onclick=\"quickchart('df-57a2f0be-c000-4c41-8f25-4f7b8536bd55')\"\n",
              "            title=\"Suggest charts\"\n",
              "            style=\"display:none;\">\n",
              "\n",
              "<svg xmlns=\"http://www.w3.org/2000/svg\" height=\"24px\"viewBox=\"0 0 24 24\"\n",
              "     width=\"24px\">\n",
              "    <g>\n",
              "        <path d=\"M19 3H5c-1.1 0-2 .9-2 2v14c0 1.1.9 2 2 2h14c1.1 0 2-.9 2-2V5c0-1.1-.9-2-2-2zM9 17H7v-7h2v7zm4 0h-2V7h2v10zm4 0h-2v-4h2v4z\"/>\n",
              "    </g>\n",
              "</svg>\n",
              "  </button>\n",
              "\n",
              "<style>\n",
              "  .colab-df-quickchart {\n",
              "      --bg-color: #E8F0FE;\n",
              "      --fill-color: #1967D2;\n",
              "      --hover-bg-color: #E2EBFA;\n",
              "      --hover-fill-color: #174EA6;\n",
              "      --disabled-fill-color: #AAA;\n",
              "      --disabled-bg-color: #DDD;\n",
              "  }\n",
              "\n",
              "  [theme=dark] .colab-df-quickchart {\n",
              "      --bg-color: #3B4455;\n",
              "      --fill-color: #D2E3FC;\n",
              "      --hover-bg-color: #434B5C;\n",
              "      --hover-fill-color: #FFFFFF;\n",
              "      --disabled-bg-color: #3B4455;\n",
              "      --disabled-fill-color: #666;\n",
              "  }\n",
              "\n",
              "  .colab-df-quickchart {\n",
              "    background-color: var(--bg-color);\n",
              "    border: none;\n",
              "    border-radius: 50%;\n",
              "    cursor: pointer;\n",
              "    display: none;\n",
              "    fill: var(--fill-color);\n",
              "    height: 32px;\n",
              "    padding: 0;\n",
              "    width: 32px;\n",
              "  }\n",
              "\n",
              "  .colab-df-quickchart:hover {\n",
              "    background-color: var(--hover-bg-color);\n",
              "    box-shadow: 0 1px 2px rgba(60, 64, 67, 0.3), 0 1px 3px 1px rgba(60, 64, 67, 0.15);\n",
              "    fill: var(--button-hover-fill-color);\n",
              "  }\n",
              "\n",
              "  .colab-df-quickchart-complete:disabled,\n",
              "  .colab-df-quickchart-complete:disabled:hover {\n",
              "    background-color: var(--disabled-bg-color);\n",
              "    fill: var(--disabled-fill-color);\n",
              "    box-shadow: none;\n",
              "  }\n",
              "\n",
              "  .colab-df-spinner {\n",
              "    border: 2px solid var(--fill-color);\n",
              "    border-color: transparent;\n",
              "    border-bottom-color: var(--fill-color);\n",
              "    animation:\n",
              "      spin 1s steps(1) infinite;\n",
              "  }\n",
              "\n",
              "  @keyframes spin {\n",
              "    0% {\n",
              "      border-color: transparent;\n",
              "      border-bottom-color: var(--fill-color);\n",
              "      border-left-color: var(--fill-color);\n",
              "    }\n",
              "    20% {\n",
              "      border-color: transparent;\n",
              "      border-left-color: var(--fill-color);\n",
              "      border-top-color: var(--fill-color);\n",
              "    }\n",
              "    30% {\n",
              "      border-color: transparent;\n",
              "      border-left-color: var(--fill-color);\n",
              "      border-top-color: var(--fill-color);\n",
              "      border-right-color: var(--fill-color);\n",
              "    }\n",
              "    40% {\n",
              "      border-color: transparent;\n",
              "      border-right-color: var(--fill-color);\n",
              "      border-top-color: var(--fill-color);\n",
              "    }\n",
              "    60% {\n",
              "      border-color: transparent;\n",
              "      border-right-color: var(--fill-color);\n",
              "    }\n",
              "    80% {\n",
              "      border-color: transparent;\n",
              "      border-right-color: var(--fill-color);\n",
              "      border-bottom-color: var(--fill-color);\n",
              "    }\n",
              "    90% {\n",
              "      border-color: transparent;\n",
              "      border-bottom-color: var(--fill-color);\n",
              "    }\n",
              "  }\n",
              "</style>\n",
              "\n",
              "  <script>\n",
              "    async function quickchart(key) {\n",
              "      const quickchartButtonEl =\n",
              "        document.querySelector('#' + key + ' button');\n",
              "      quickchartButtonEl.disabled = true;  // To prevent multiple clicks.\n",
              "      quickchartButtonEl.classList.add('colab-df-spinner');\n",
              "      try {\n",
              "        const charts = await google.colab.kernel.invokeFunction(\n",
              "            'suggestCharts', [key], {});\n",
              "      } catch (error) {\n",
              "        console.error('Error during call to suggestCharts:', error);\n",
              "      }\n",
              "      quickchartButtonEl.classList.remove('colab-df-spinner');\n",
              "      quickchartButtonEl.classList.add('colab-df-quickchart-complete');\n",
              "    }\n",
              "    (() => {\n",
              "      let quickchartButtonEl =\n",
              "        document.querySelector('#df-57a2f0be-c000-4c41-8f25-4f7b8536bd55 button');\n",
              "      quickchartButtonEl.style.display =\n",
              "        google.colab.kernel.accessAllowed ? 'block' : 'none';\n",
              "    })();\n",
              "  </script>\n",
              "</div>\n",
              "\n",
              "    </div>\n",
              "  </div>\n"
            ],
            "application/vnd.google.colaboratory.intrinsic+json": {
              "type": "dataframe",
              "variable_name": "clean_kn",
              "summary": "{\n  \"name\": \"clean_kn\",\n  \"rows\": 87,\n  \"fields\": [\n    {\n      \"column\": \"season\",\n      \"properties\": {\n        \"dtype\": \"number\",\n        \"std\": 2,\n        \"min\": 1,\n        \"max\": 8,\n        \"num_unique_values\": 8,\n        \"samples\": [\n          2,\n          6,\n          1\n        ],\n        \"semantic_type\": \"\",\n        \"description\": \"\"\n      }\n    },\n    {\n      \"column\": \"episode\",\n      \"properties\": {\n        \"dtype\": \"number\",\n        \"std\": 4,\n        \"min\": 1,\n        \"max\": 17,\n        \"num_unique_values\": 17,\n        \"samples\": [\n          1,\n          2,\n          6\n        ],\n        \"semantic_type\": \"\",\n        \"description\": \"\"\n      }\n    },\n    {\n      \"column\": \"restaurant\",\n      \"properties\": {\n        \"dtype\": \"string\",\n        \"num_unique_values\": 87,\n        \"samples\": [\n          \"bella luna\",\n          \"peter's\",\n          \"le bistro\"\n        ],\n        \"semantic_type\": \"\",\n        \"description\": \"\"\n      }\n    },\n    {\n      \"column\": \"city\",\n      \"properties\": {\n        \"dtype\": \"string\",\n        \"num_unique_values\": 77,\n        \"samples\": [\n          \"tuckahoe\",\n          \"providence\",\n          \"mount sinai\"\n        ],\n        \"semantic_type\": \"\",\n        \"description\": \"\"\n      }\n    },\n    {\n      \"column\": \"state\",\n      \"properties\": {\n        \"dtype\": \"category\",\n        \"num_unique_values\": 20,\n        \"samples\": [\n          \"ny\",\n          \"tn\",\n          \"oh\"\n        ],\n        \"semantic_type\": \"\",\n        \"description\": \"\"\n      }\n    },\n    {\n      \"column\": \"air_date\",\n      \"properties\": {\n        \"dtype\": \"object\",\n        \"num_unique_values\": 82,\n        \"samples\": [\n          \"2011-01-28\",\n          \"2007-09-19\",\n          \"2010-03-04\"\n        ],\n        \"semantic_type\": \"\",\n        \"description\": \"\"\n      }\n    },\n    {\n      \"column\": \"status\",\n      \"properties\": {\n        \"dtype\": \"category\",\n        \"num_unique_values\": 2,\n        \"samples\": [\n          \"open\",\n          \"closed\"\n        ],\n        \"semantic_type\": \"\",\n        \"description\": \"\"\n      }\n    },\n    {\n      \"column\": \"film_month\",\n      \"properties\": {\n        \"dtype\": \"object\",\n        \"num_unique_values\": 26,\n        \"samples\": [\n          \"Dec 2010\",\n          \"May 2012\"\n        ],\n        \"semantic_type\": \"\",\n        \"description\": \"\"\n      }\n    },\n    {\n      \"column\": \"closing_year\",\n      \"properties\": {\n        \"dtype\": \"number\",\n        \"std\": 4.426826790669782,\n        \"min\": 2007.0,\n        \"max\": 2024.0,\n        \"num_unique_values\": 16,\n        \"samples\": [\n          2008.0,\n          2009.0\n        ],\n        \"semantic_type\": \"\",\n        \"description\": \"\"\n      }\n    },\n    {\n      \"column\": \"cuisine\",\n      \"properties\": {\n        \"dtype\": \"category\",\n        \"num_unique_values\": 27,\n        \"samples\": [\n          \"mexican\",\n          \"japanese\"\n        ],\n        \"semantic_type\": \"\",\n        \"description\": \"\"\n      }\n    },\n    {\n      \"column\": \"revisited\",\n      \"properties\": {\n        \"dtype\": \"category\",\n        \"num_unique_values\": 2,\n        \"samples\": [\n          \"yes\",\n          \"no\"\n        ],\n        \"semantic_type\": \"\",\n        \"description\": \"\"\n      }\n    },\n    {\n      \"column\": \"two_parts\",\n      \"properties\": {\n        \"dtype\": \"category\",\n        \"num_unique_values\": 2,\n        \"samples\": [\n          \"yes\",\n          \"no\"\n        ],\n        \"semantic_type\": \"\",\n        \"description\": \"\"\n      }\n    }\n  ]\n}"
            }
          },
          "metadata": {},
          "execution_count": 29
        }
      ]
    },
    {
      "cell_type": "markdown",
      "source": [
        "3. NUMERIC DATA\n",
        "\n",
        "First, we will create a new column for film_year and remove film_month and month columns since the month does not tell us much in terms of analysis."
      ],
      "metadata": {
        "id": "-87PluqmY8lq"
      }
    },
    {
      "cell_type": "code",
      "source": [
        "#split 'film_month' column into 'month' and 'year' columns\n",
        "clean_kn[['month', 'year']] = clean_kn['film_month'].str.split(' ', expand=True)\n",
        "\n",
        "#remove 'month' and 'film_month' columns\n",
        "clean_kn = clean_kn.drop(columns=['film_month'])\n",
        "clean_kn = clean_kn.drop(columns=['month'])\n",
        "\n",
        "#relocate column back to original position\n",
        "col = clean_kn.pop('year')\n",
        "clean_kn.insert(7, 'year', col)\n",
        "\n",
        "#rename 'year' column\n",
        "clean_kn = clean_kn.rename(columns={'year': 'film_year'})\n",
        "\n",
        "clean_kn.head()"
      ],
      "metadata": {
        "colab": {
          "base_uri": "https://localhost:8080/",
          "height": 313
        },
        "id": "nLw29LXQZWCN",
        "outputId": "5cca1651-b87e-4af1-933b-69a5c95bca16"
      },
      "execution_count": 30,
      "outputs": [
        {
          "output_type": "execute_result",
          "data": {
            "text/plain": [
              "   season  episode           restaurant           city state    air_date  \\\n",
              "0       1        1              peter's        babylon    ny  2007-09-19   \n",
              "1       1        2             dillon's  new york city    ny  2007-09-26   \n",
              "2       1        3      the mixing bowl       bellmore    ny  2007-10-03   \n",
              "3       1        4             seascape          islip    ny  2007-10-10   \n",
              "4       1        5  the olde stone mill       tuckahoe    ny  2007-10-17   \n",
              "\n",
              "   status film_year  closing_year   cuisine revisited two_parts  \n",
              "0  closed      2007        2008.0   italian        no        no  \n",
              "1  closed      2007        2008.0    indian        no        no  \n",
              "2  closed      2007        2009.0  american        no        no  \n",
              "3  closed      2007        2007.0   seafood        no        no  \n",
              "4  closed      2007        2022.0  american       yes        no  "
            ],
            "text/html": [
              "\n",
              "  <div id=\"df-44b04590-eb3b-4128-bf9f-b399efc31aa8\" class=\"colab-df-container\">\n",
              "    <div>\n",
              "<style scoped>\n",
              "    .dataframe tbody tr th:only-of-type {\n",
              "        vertical-align: middle;\n",
              "    }\n",
              "\n",
              "    .dataframe tbody tr th {\n",
              "        vertical-align: top;\n",
              "    }\n",
              "\n",
              "    .dataframe thead th {\n",
              "        text-align: right;\n",
              "    }\n",
              "</style>\n",
              "<table border=\"1\" class=\"dataframe\">\n",
              "  <thead>\n",
              "    <tr style=\"text-align: right;\">\n",
              "      <th></th>\n",
              "      <th>season</th>\n",
              "      <th>episode</th>\n",
              "      <th>restaurant</th>\n",
              "      <th>city</th>\n",
              "      <th>state</th>\n",
              "      <th>air_date</th>\n",
              "      <th>status</th>\n",
              "      <th>film_year</th>\n",
              "      <th>closing_year</th>\n",
              "      <th>cuisine</th>\n",
              "      <th>revisited</th>\n",
              "      <th>two_parts</th>\n",
              "    </tr>\n",
              "  </thead>\n",
              "  <tbody>\n",
              "    <tr>\n",
              "      <th>0</th>\n",
              "      <td>1</td>\n",
              "      <td>1</td>\n",
              "      <td>peter's</td>\n",
              "      <td>babylon</td>\n",
              "      <td>ny</td>\n",
              "      <td>2007-09-19</td>\n",
              "      <td>closed</td>\n",
              "      <td>2007</td>\n",
              "      <td>2008.0</td>\n",
              "      <td>italian</td>\n",
              "      <td>no</td>\n",
              "      <td>no</td>\n",
              "    </tr>\n",
              "    <tr>\n",
              "      <th>1</th>\n",
              "      <td>1</td>\n",
              "      <td>2</td>\n",
              "      <td>dillon's</td>\n",
              "      <td>new york city</td>\n",
              "      <td>ny</td>\n",
              "      <td>2007-09-26</td>\n",
              "      <td>closed</td>\n",
              "      <td>2007</td>\n",
              "      <td>2008.0</td>\n",
              "      <td>indian</td>\n",
              "      <td>no</td>\n",
              "      <td>no</td>\n",
              "    </tr>\n",
              "    <tr>\n",
              "      <th>2</th>\n",
              "      <td>1</td>\n",
              "      <td>3</td>\n",
              "      <td>the mixing bowl</td>\n",
              "      <td>bellmore</td>\n",
              "      <td>ny</td>\n",
              "      <td>2007-10-03</td>\n",
              "      <td>closed</td>\n",
              "      <td>2007</td>\n",
              "      <td>2009.0</td>\n",
              "      <td>american</td>\n",
              "      <td>no</td>\n",
              "      <td>no</td>\n",
              "    </tr>\n",
              "    <tr>\n",
              "      <th>3</th>\n",
              "      <td>1</td>\n",
              "      <td>4</td>\n",
              "      <td>seascape</td>\n",
              "      <td>islip</td>\n",
              "      <td>ny</td>\n",
              "      <td>2007-10-10</td>\n",
              "      <td>closed</td>\n",
              "      <td>2007</td>\n",
              "      <td>2007.0</td>\n",
              "      <td>seafood</td>\n",
              "      <td>no</td>\n",
              "      <td>no</td>\n",
              "    </tr>\n",
              "    <tr>\n",
              "      <th>4</th>\n",
              "      <td>1</td>\n",
              "      <td>5</td>\n",
              "      <td>the olde stone mill</td>\n",
              "      <td>tuckahoe</td>\n",
              "      <td>ny</td>\n",
              "      <td>2007-10-17</td>\n",
              "      <td>closed</td>\n",
              "      <td>2007</td>\n",
              "      <td>2022.0</td>\n",
              "      <td>american</td>\n",
              "      <td>yes</td>\n",
              "      <td>no</td>\n",
              "    </tr>\n",
              "  </tbody>\n",
              "</table>\n",
              "</div>\n",
              "    <div class=\"colab-df-buttons\">\n",
              "\n",
              "  <div class=\"colab-df-container\">\n",
              "    <button class=\"colab-df-convert\" onclick=\"convertToInteractive('df-44b04590-eb3b-4128-bf9f-b399efc31aa8')\"\n",
              "            title=\"Convert this dataframe to an interactive table.\"\n",
              "            style=\"display:none;\">\n",
              "\n",
              "  <svg xmlns=\"http://www.w3.org/2000/svg\" height=\"24px\" viewBox=\"0 -960 960 960\">\n",
              "    <path d=\"M120-120v-720h720v720H120Zm60-500h600v-160H180v160Zm220 220h160v-160H400v160Zm0 220h160v-160H400v160ZM180-400h160v-160H180v160Zm440 0h160v-160H620v160ZM180-180h160v-160H180v160Zm440 0h160v-160H620v160Z\"/>\n",
              "  </svg>\n",
              "    </button>\n",
              "\n",
              "  <style>\n",
              "    .colab-df-container {\n",
              "      display:flex;\n",
              "      gap: 12px;\n",
              "    }\n",
              "\n",
              "    .colab-df-convert {\n",
              "      background-color: #E8F0FE;\n",
              "      border: none;\n",
              "      border-radius: 50%;\n",
              "      cursor: pointer;\n",
              "      display: none;\n",
              "      fill: #1967D2;\n",
              "      height: 32px;\n",
              "      padding: 0 0 0 0;\n",
              "      width: 32px;\n",
              "    }\n",
              "\n",
              "    .colab-df-convert:hover {\n",
              "      background-color: #E2EBFA;\n",
              "      box-shadow: 0px 1px 2px rgba(60, 64, 67, 0.3), 0px 1px 3px 1px rgba(60, 64, 67, 0.15);\n",
              "      fill: #174EA6;\n",
              "    }\n",
              "\n",
              "    .colab-df-buttons div {\n",
              "      margin-bottom: 4px;\n",
              "    }\n",
              "\n",
              "    [theme=dark] .colab-df-convert {\n",
              "      background-color: #3B4455;\n",
              "      fill: #D2E3FC;\n",
              "    }\n",
              "\n",
              "    [theme=dark] .colab-df-convert:hover {\n",
              "      background-color: #434B5C;\n",
              "      box-shadow: 0px 1px 3px 1px rgba(0, 0, 0, 0.15);\n",
              "      filter: drop-shadow(0px 1px 2px rgba(0, 0, 0, 0.3));\n",
              "      fill: #FFFFFF;\n",
              "    }\n",
              "  </style>\n",
              "\n",
              "    <script>\n",
              "      const buttonEl =\n",
              "        document.querySelector('#df-44b04590-eb3b-4128-bf9f-b399efc31aa8 button.colab-df-convert');\n",
              "      buttonEl.style.display =\n",
              "        google.colab.kernel.accessAllowed ? 'block' : 'none';\n",
              "\n",
              "      async function convertToInteractive(key) {\n",
              "        const element = document.querySelector('#df-44b04590-eb3b-4128-bf9f-b399efc31aa8');\n",
              "        const dataTable =\n",
              "          await google.colab.kernel.invokeFunction('convertToInteractive',\n",
              "                                                    [key], {});\n",
              "        if (!dataTable) return;\n",
              "\n",
              "        const docLinkHtml = 'Like what you see? Visit the ' +\n",
              "          '<a target=\"_blank\" href=https://colab.research.google.com/notebooks/data_table.ipynb>data table notebook</a>'\n",
              "          + ' to learn more about interactive tables.';\n",
              "        element.innerHTML = '';\n",
              "        dataTable['output_type'] = 'display_data';\n",
              "        await google.colab.output.renderOutput(dataTable, element);\n",
              "        const docLink = document.createElement('div');\n",
              "        docLink.innerHTML = docLinkHtml;\n",
              "        element.appendChild(docLink);\n",
              "      }\n",
              "    </script>\n",
              "  </div>\n",
              "\n",
              "\n",
              "<div id=\"df-3640d321-fbf5-406c-8571-a9ff5b121e8e\">\n",
              "  <button class=\"colab-df-quickchart\" onclick=\"quickchart('df-3640d321-fbf5-406c-8571-a9ff5b121e8e')\"\n",
              "            title=\"Suggest charts\"\n",
              "            style=\"display:none;\">\n",
              "\n",
              "<svg xmlns=\"http://www.w3.org/2000/svg\" height=\"24px\"viewBox=\"0 0 24 24\"\n",
              "     width=\"24px\">\n",
              "    <g>\n",
              "        <path d=\"M19 3H5c-1.1 0-2 .9-2 2v14c0 1.1.9 2 2 2h14c1.1 0 2-.9 2-2V5c0-1.1-.9-2-2-2zM9 17H7v-7h2v7zm4 0h-2V7h2v10zm4 0h-2v-4h2v4z\"/>\n",
              "    </g>\n",
              "</svg>\n",
              "  </button>\n",
              "\n",
              "<style>\n",
              "  .colab-df-quickchart {\n",
              "      --bg-color: #E8F0FE;\n",
              "      --fill-color: #1967D2;\n",
              "      --hover-bg-color: #E2EBFA;\n",
              "      --hover-fill-color: #174EA6;\n",
              "      --disabled-fill-color: #AAA;\n",
              "      --disabled-bg-color: #DDD;\n",
              "  }\n",
              "\n",
              "  [theme=dark] .colab-df-quickchart {\n",
              "      --bg-color: #3B4455;\n",
              "      --fill-color: #D2E3FC;\n",
              "      --hover-bg-color: #434B5C;\n",
              "      --hover-fill-color: #FFFFFF;\n",
              "      --disabled-bg-color: #3B4455;\n",
              "      --disabled-fill-color: #666;\n",
              "  }\n",
              "\n",
              "  .colab-df-quickchart {\n",
              "    background-color: var(--bg-color);\n",
              "    border: none;\n",
              "    border-radius: 50%;\n",
              "    cursor: pointer;\n",
              "    display: none;\n",
              "    fill: var(--fill-color);\n",
              "    height: 32px;\n",
              "    padding: 0;\n",
              "    width: 32px;\n",
              "  }\n",
              "\n",
              "  .colab-df-quickchart:hover {\n",
              "    background-color: var(--hover-bg-color);\n",
              "    box-shadow: 0 1px 2px rgba(60, 64, 67, 0.3), 0 1px 3px 1px rgba(60, 64, 67, 0.15);\n",
              "    fill: var(--button-hover-fill-color);\n",
              "  }\n",
              "\n",
              "  .colab-df-quickchart-complete:disabled,\n",
              "  .colab-df-quickchart-complete:disabled:hover {\n",
              "    background-color: var(--disabled-bg-color);\n",
              "    fill: var(--disabled-fill-color);\n",
              "    box-shadow: none;\n",
              "  }\n",
              "\n",
              "  .colab-df-spinner {\n",
              "    border: 2px solid var(--fill-color);\n",
              "    border-color: transparent;\n",
              "    border-bottom-color: var(--fill-color);\n",
              "    animation:\n",
              "      spin 1s steps(1) infinite;\n",
              "  }\n",
              "\n",
              "  @keyframes spin {\n",
              "    0% {\n",
              "      border-color: transparent;\n",
              "      border-bottom-color: var(--fill-color);\n",
              "      border-left-color: var(--fill-color);\n",
              "    }\n",
              "    20% {\n",
              "      border-color: transparent;\n",
              "      border-left-color: var(--fill-color);\n",
              "      border-top-color: var(--fill-color);\n",
              "    }\n",
              "    30% {\n",
              "      border-color: transparent;\n",
              "      border-left-color: var(--fill-color);\n",
              "      border-top-color: var(--fill-color);\n",
              "      border-right-color: var(--fill-color);\n",
              "    }\n",
              "    40% {\n",
              "      border-color: transparent;\n",
              "      border-right-color: var(--fill-color);\n",
              "      border-top-color: var(--fill-color);\n",
              "    }\n",
              "    60% {\n",
              "      border-color: transparent;\n",
              "      border-right-color: var(--fill-color);\n",
              "    }\n",
              "    80% {\n",
              "      border-color: transparent;\n",
              "      border-right-color: var(--fill-color);\n",
              "      border-bottom-color: var(--fill-color);\n",
              "    }\n",
              "    90% {\n",
              "      border-color: transparent;\n",
              "      border-bottom-color: var(--fill-color);\n",
              "    }\n",
              "  }\n",
              "</style>\n",
              "\n",
              "  <script>\n",
              "    async function quickchart(key) {\n",
              "      const quickchartButtonEl =\n",
              "        document.querySelector('#' + key + ' button');\n",
              "      quickchartButtonEl.disabled = true;  // To prevent multiple clicks.\n",
              "      quickchartButtonEl.classList.add('colab-df-spinner');\n",
              "      try {\n",
              "        const charts = await google.colab.kernel.invokeFunction(\n",
              "            'suggestCharts', [key], {});\n",
              "      } catch (error) {\n",
              "        console.error('Error during call to suggestCharts:', error);\n",
              "      }\n",
              "      quickchartButtonEl.classList.remove('colab-df-spinner');\n",
              "      quickchartButtonEl.classList.add('colab-df-quickchart-complete');\n",
              "    }\n",
              "    (() => {\n",
              "      let quickchartButtonEl =\n",
              "        document.querySelector('#df-3640d321-fbf5-406c-8571-a9ff5b121e8e button');\n",
              "      quickchartButtonEl.style.display =\n",
              "        google.colab.kernel.accessAllowed ? 'block' : 'none';\n",
              "    })();\n",
              "  </script>\n",
              "</div>\n",
              "\n",
              "    </div>\n",
              "  </div>\n"
            ],
            "application/vnd.google.colaboratory.intrinsic+json": {
              "type": "dataframe",
              "variable_name": "clean_kn",
              "summary": "{\n  \"name\": \"clean_kn\",\n  \"rows\": 87,\n  \"fields\": [\n    {\n      \"column\": \"season\",\n      \"properties\": {\n        \"dtype\": \"number\",\n        \"std\": 2,\n        \"min\": 1,\n        \"max\": 8,\n        \"num_unique_values\": 8,\n        \"samples\": [\n          2,\n          6,\n          1\n        ],\n        \"semantic_type\": \"\",\n        \"description\": \"\"\n      }\n    },\n    {\n      \"column\": \"episode\",\n      \"properties\": {\n        \"dtype\": \"number\",\n        \"std\": 4,\n        \"min\": 1,\n        \"max\": 17,\n        \"num_unique_values\": 17,\n        \"samples\": [\n          1,\n          2,\n          6\n        ],\n        \"semantic_type\": \"\",\n        \"description\": \"\"\n      }\n    },\n    {\n      \"column\": \"restaurant\",\n      \"properties\": {\n        \"dtype\": \"string\",\n        \"num_unique_values\": 87,\n        \"samples\": [\n          \"bella luna\",\n          \"peter's\",\n          \"le bistro\"\n        ],\n        \"semantic_type\": \"\",\n        \"description\": \"\"\n      }\n    },\n    {\n      \"column\": \"city\",\n      \"properties\": {\n        \"dtype\": \"string\",\n        \"num_unique_values\": 77,\n        \"samples\": [\n          \"tuckahoe\",\n          \"providence\",\n          \"mount sinai\"\n        ],\n        \"semantic_type\": \"\",\n        \"description\": \"\"\n      }\n    },\n    {\n      \"column\": \"state\",\n      \"properties\": {\n        \"dtype\": \"category\",\n        \"num_unique_values\": 20,\n        \"samples\": [\n          \"ny\",\n          \"tn\",\n          \"oh\"\n        ],\n        \"semantic_type\": \"\",\n        \"description\": \"\"\n      }\n    },\n    {\n      \"column\": \"air_date\",\n      \"properties\": {\n        \"dtype\": \"object\",\n        \"num_unique_values\": 82,\n        \"samples\": [\n          \"2011-01-28\",\n          \"2007-09-19\",\n          \"2010-03-04\"\n        ],\n        \"semantic_type\": \"\",\n        \"description\": \"\"\n      }\n    },\n    {\n      \"column\": \"status\",\n      \"properties\": {\n        \"dtype\": \"category\",\n        \"num_unique_values\": 2,\n        \"samples\": [\n          \"open\",\n          \"closed\"\n        ],\n        \"semantic_type\": \"\",\n        \"description\": \"\"\n      }\n    },\n    {\n      \"column\": \"film_year\",\n      \"properties\": {\n        \"dtype\": \"object\",\n        \"num_unique_values\": 8,\n        \"samples\": [\n          \"2008\",\n          \"2012\"\n        ],\n        \"semantic_type\": \"\",\n        \"description\": \"\"\n      }\n    },\n    {\n      \"column\": \"closing_year\",\n      \"properties\": {\n        \"dtype\": \"number\",\n        \"std\": 4.426826790669782,\n        \"min\": 2007.0,\n        \"max\": 2024.0,\n        \"num_unique_values\": 16,\n        \"samples\": [\n          2008.0,\n          2009.0\n        ],\n        \"semantic_type\": \"\",\n        \"description\": \"\"\n      }\n    },\n    {\n      \"column\": \"cuisine\",\n      \"properties\": {\n        \"dtype\": \"category\",\n        \"num_unique_values\": 27,\n        \"samples\": [\n          \"mexican\",\n          \"japanese\"\n        ],\n        \"semantic_type\": \"\",\n        \"description\": \"\"\n      }\n    },\n    {\n      \"column\": \"revisited\",\n      \"properties\": {\n        \"dtype\": \"category\",\n        \"num_unique_values\": 2,\n        \"samples\": [\n          \"yes\",\n          \"no\"\n        ],\n        \"semantic_type\": \"\",\n        \"description\": \"\"\n      }\n    },\n    {\n      \"column\": \"two_parts\",\n      \"properties\": {\n        \"dtype\": \"category\",\n        \"num_unique_values\": 2,\n        \"samples\": [\n          \"yes\",\n          \"no\"\n        ],\n        \"semantic_type\": \"\",\n        \"description\": \"\"\n      }\n    }\n  ]\n}"
            }
          },
          "metadata": {},
          "execution_count": 30
        }
      ]
    },
    {
      "cell_type": "markdown",
      "source": [
        "We have four columns of data that should be read in by Python as numeric data (season, episode, film_year, closing_year)."
      ],
      "metadata": {
        "id": "pBKscirtaszh"
      }
    },
    {
      "cell_type": "code",
      "source": [
        "clean_kn['season'] = pd.to_numeric(clean_kn['season'])\n",
        "clean_kn['episode'] = pd.to_numeric(clean_kn['episode'])\n",
        "clean_kn['film_year'] = pd.to_numeric(clean_kn['film_year'])\n",
        "clean_kn['closing_year'] = pd.to_numeric(clean_kn['closing_year'])\n",
        "\n",
        "clean_kn.info()"
      ],
      "metadata": {
        "colab": {
          "base_uri": "https://localhost:8080/"
        },
        "id": "lN-_xwxSa4kx",
        "outputId": "38e73951-eed6-4bd3-e1e2-41763753c9d2"
      },
      "execution_count": 55,
      "outputs": [
        {
          "output_type": "stream",
          "name": "stdout",
          "text": [
            "<class 'pandas.core.frame.DataFrame'>\n",
            "RangeIndex: 87 entries, 0 to 86\n",
            "Data columns (total 12 columns):\n",
            " #   Column        Non-Null Count  Dtype  \n",
            "---  ------        --------------  -----  \n",
            " 0   season        87 non-null     int64  \n",
            " 1   episode       87 non-null     int64  \n",
            " 2   restaurant    87 non-null     object \n",
            " 3   city          87 non-null     object \n",
            " 4   state         87 non-null     object \n",
            " 5   air_date      87 non-null     object \n",
            " 6   status        87 non-null     object \n",
            " 7   film_year     87 non-null     int64  \n",
            " 8   closing_year  68 non-null     float64\n",
            " 9   cuisine       87 non-null     object \n",
            " 10  revisited     87 non-null     object \n",
            " 11  two_parts     87 non-null     object \n",
            "dtypes: float64(1), int64(3), object(8)\n",
            "memory usage: 8.3+ KB\n"
          ]
        }
      ]
    },
    {
      "cell_type": "markdown",
      "source": [
        "4. DATE DATA\n",
        "\n",
        "There is one column that needs to be recognized as date format (air_date)"
      ],
      "metadata": {
        "id": "eIbMnDaRbExT"
      }
    },
    {
      "cell_type": "code",
      "source": [
        "clean_kn['air_date'] = pd.to_datetime(clean_kn['air_date'])\n",
        "\n",
        "clean_kn.info()"
      ],
      "metadata": {
        "colab": {
          "base_uri": "https://localhost:8080/"
        },
        "id": "iYsdN_dhbHVe",
        "outputId": "b7c5365b-a312-4468-8deb-80e7dfda717b"
      },
      "execution_count": 56,
      "outputs": [
        {
          "output_type": "stream",
          "name": "stdout",
          "text": [
            "<class 'pandas.core.frame.DataFrame'>\n",
            "RangeIndex: 87 entries, 0 to 86\n",
            "Data columns (total 12 columns):\n",
            " #   Column        Non-Null Count  Dtype         \n",
            "---  ------        --------------  -----         \n",
            " 0   season        87 non-null     int64         \n",
            " 1   episode       87 non-null     int64         \n",
            " 2   restaurant    87 non-null     object        \n",
            " 3   city          87 non-null     object        \n",
            " 4   state         87 non-null     object        \n",
            " 5   air_date      87 non-null     datetime64[ns]\n",
            " 6   status        87 non-null     object        \n",
            " 7   film_year     87 non-null     int64         \n",
            " 8   closing_year  68 non-null     float64       \n",
            " 9   cuisine       87 non-null     object        \n",
            " 10  revisited     87 non-null     object        \n",
            " 11  two_parts     87 non-null     object        \n",
            "dtypes: datetime64[ns](1), float64(1), int64(3), object(7)\n",
            "memory usage: 8.3+ KB\n"
          ]
        }
      ]
    },
    {
      "cell_type": "markdown",
      "source": [
        "5. Finally, we'll save the formatted data as a Feather file."
      ],
      "metadata": {
        "id": "Zn5IaUv9bbTs"
      }
    },
    {
      "cell_type": "code",
      "source": [
        "clean_kn.to_feather('formatted_kitchen_nightmares.feather')"
      ],
      "metadata": {
        "id": "Os7LsQwncB5o"
      },
      "execution_count": 70,
      "outputs": []
    },
    {
      "cell_type": "markdown",
      "source": [
        "# Hotel Hell Data"
      ],
      "metadata": {
        "id": "Q_ymuwhODcti"
      }
    },
    {
      "cell_type": "markdown",
      "source": [
        "## Data Cleaning"
      ],
      "metadata": {
        "id": "1--qmYwEDf3J"
      }
    },
    {
      "cell_type": "markdown",
      "source": [
        "1. Read in messy Hotel Hell data link from Github repository."
      ],
      "metadata": {
        "id": "3sAyJqCJmoUu"
      }
    },
    {
      "cell_type": "code",
      "source": [
        "hh_url = \"https://github.com/Personal-Portfolio-Gordon-Ramsay-TCG/Gordon_Ramsay/raw/refs/heads/main/Messy%20Data/messy_hotel_hell.csv\""
      ],
      "metadata": {
        "id": "lMf3IKX8DYwX"
      },
      "execution_count": 31,
      "outputs": []
    },
    {
      "cell_type": "markdown",
      "source": [
        "2. Read in CSV file from link."
      ],
      "metadata": {
        "id": "DODwg1Tvmms1"
      }
    },
    {
      "cell_type": "code",
      "source": [
        "hh_df = pd.read_csv(hh_url)\n",
        "hh_df.head()"
      ],
      "metadata": {
        "id": "6lVxpjChDjjE",
        "colab": {
          "base_uri": "https://localhost:8080/",
          "height": 382
        },
        "outputId": "af2cb90b-e760-41c3-a819-c9c8144cf62d"
      },
      "execution_count": 32,
      "outputs": [
        {
          "output_type": "execute_result",
          "data": {
            "text/plain": [
              "   Unnamed: 0 seasoned E.p#                 HOTEL     what city? which state?  \\\n",
              "0           1     1.01    1  Juniper Hill Inn!!!!        Windsor           VT   \n",
              "1           2        1    3       cambridge hotel      Cambridge           NY   \n",
              "2           3        1    4     The Keating Hotel      San Diego           CA   \n",
              "3           4        1    5        River Rock Inn        Milford           PA   \n",
              "4           5        1    6     The Roosevelt Inn   Cour d'Alene        idaho   \n",
              "\n",
              "  og air date OPEN/CLOSED? og film month year closed? 2-parter  \n",
              "0  2012-08-13     not open   Feb    2012         2014     Yes.  \n",
              "1  2012-08-20       closed      Jan 2012         2012    No...  \n",
              "2  2012-08-27         Open      Dec 2011         2022       No  \n",
              "3  2012-09-03       Closed      Jan 2012         2014       No  \n",
              "4  2012-09-03         Open      Feb 2012         2020       No  "
            ],
            "text/html": [
              "\n",
              "  <div id=\"df-1bf7bb7d-14a9-4bde-83c8-658ae9847247\" class=\"colab-df-container\">\n",
              "    <div>\n",
              "<style scoped>\n",
              "    .dataframe tbody tr th:only-of-type {\n",
              "        vertical-align: middle;\n",
              "    }\n",
              "\n",
              "    .dataframe tbody tr th {\n",
              "        vertical-align: top;\n",
              "    }\n",
              "\n",
              "    .dataframe thead th {\n",
              "        text-align: right;\n",
              "    }\n",
              "</style>\n",
              "<table border=\"1\" class=\"dataframe\">\n",
              "  <thead>\n",
              "    <tr style=\"text-align: right;\">\n",
              "      <th></th>\n",
              "      <th>Unnamed: 0</th>\n",
              "      <th>seasoned</th>\n",
              "      <th>E.p#</th>\n",
              "      <th>HOTEL</th>\n",
              "      <th>what city?</th>\n",
              "      <th>which state?</th>\n",
              "      <th>og air date</th>\n",
              "      <th>OPEN/CLOSED?</th>\n",
              "      <th>og film month</th>\n",
              "      <th>year closed?</th>\n",
              "      <th>2-parter</th>\n",
              "    </tr>\n",
              "  </thead>\n",
              "  <tbody>\n",
              "    <tr>\n",
              "      <th>0</th>\n",
              "      <td>1</td>\n",
              "      <td>1.01</td>\n",
              "      <td>1</td>\n",
              "      <td>Juniper Hill Inn!!!!</td>\n",
              "      <td>Windsor</td>\n",
              "      <td>VT</td>\n",
              "      <td>2012-08-13</td>\n",
              "      <td>not open</td>\n",
              "      <td>Feb    2012</td>\n",
              "      <td>2014</td>\n",
              "      <td>Yes.</td>\n",
              "    </tr>\n",
              "    <tr>\n",
              "      <th>1</th>\n",
              "      <td>2</td>\n",
              "      <td>1</td>\n",
              "      <td>3</td>\n",
              "      <td>cambridge hotel</td>\n",
              "      <td>Cambridge</td>\n",
              "      <td>NY</td>\n",
              "      <td>2012-08-20</td>\n",
              "      <td>closed</td>\n",
              "      <td>Jan 2012</td>\n",
              "      <td>2012</td>\n",
              "      <td>No...</td>\n",
              "    </tr>\n",
              "    <tr>\n",
              "      <th>2</th>\n",
              "      <td>3</td>\n",
              "      <td>1</td>\n",
              "      <td>4</td>\n",
              "      <td>The Keating Hotel</td>\n",
              "      <td>San Diego</td>\n",
              "      <td>CA</td>\n",
              "      <td>2012-08-27</td>\n",
              "      <td>Open</td>\n",
              "      <td>Dec 2011</td>\n",
              "      <td>2022</td>\n",
              "      <td>No</td>\n",
              "    </tr>\n",
              "    <tr>\n",
              "      <th>3</th>\n",
              "      <td>4</td>\n",
              "      <td>1</td>\n",
              "      <td>5</td>\n",
              "      <td>River Rock Inn</td>\n",
              "      <td>Milford</td>\n",
              "      <td>PA</td>\n",
              "      <td>2012-09-03</td>\n",
              "      <td>Closed</td>\n",
              "      <td>Jan 2012</td>\n",
              "      <td>2014</td>\n",
              "      <td>No</td>\n",
              "    </tr>\n",
              "    <tr>\n",
              "      <th>4</th>\n",
              "      <td>5</td>\n",
              "      <td>1</td>\n",
              "      <td>6</td>\n",
              "      <td>The Roosevelt Inn</td>\n",
              "      <td>Cour d'Alene</td>\n",
              "      <td>idaho</td>\n",
              "      <td>2012-09-03</td>\n",
              "      <td>Open</td>\n",
              "      <td>Feb 2012</td>\n",
              "      <td>2020</td>\n",
              "      <td>No</td>\n",
              "    </tr>\n",
              "  </tbody>\n",
              "</table>\n",
              "</div>\n",
              "    <div class=\"colab-df-buttons\">\n",
              "\n",
              "  <div class=\"colab-df-container\">\n",
              "    <button class=\"colab-df-convert\" onclick=\"convertToInteractive('df-1bf7bb7d-14a9-4bde-83c8-658ae9847247')\"\n",
              "            title=\"Convert this dataframe to an interactive table.\"\n",
              "            style=\"display:none;\">\n",
              "\n",
              "  <svg xmlns=\"http://www.w3.org/2000/svg\" height=\"24px\" viewBox=\"0 -960 960 960\">\n",
              "    <path d=\"M120-120v-720h720v720H120Zm60-500h600v-160H180v160Zm220 220h160v-160H400v160Zm0 220h160v-160H400v160ZM180-400h160v-160H180v160Zm440 0h160v-160H620v160ZM180-180h160v-160H180v160Zm440 0h160v-160H620v160Z\"/>\n",
              "  </svg>\n",
              "    </button>\n",
              "\n",
              "  <style>\n",
              "    .colab-df-container {\n",
              "      display:flex;\n",
              "      gap: 12px;\n",
              "    }\n",
              "\n",
              "    .colab-df-convert {\n",
              "      background-color: #E8F0FE;\n",
              "      border: none;\n",
              "      border-radius: 50%;\n",
              "      cursor: pointer;\n",
              "      display: none;\n",
              "      fill: #1967D2;\n",
              "      height: 32px;\n",
              "      padding: 0 0 0 0;\n",
              "      width: 32px;\n",
              "    }\n",
              "\n",
              "    .colab-df-convert:hover {\n",
              "      background-color: #E2EBFA;\n",
              "      box-shadow: 0px 1px 2px rgba(60, 64, 67, 0.3), 0px 1px 3px 1px rgba(60, 64, 67, 0.15);\n",
              "      fill: #174EA6;\n",
              "    }\n",
              "\n",
              "    .colab-df-buttons div {\n",
              "      margin-bottom: 4px;\n",
              "    }\n",
              "\n",
              "    [theme=dark] .colab-df-convert {\n",
              "      background-color: #3B4455;\n",
              "      fill: #D2E3FC;\n",
              "    }\n",
              "\n",
              "    [theme=dark] .colab-df-convert:hover {\n",
              "      background-color: #434B5C;\n",
              "      box-shadow: 0px 1px 3px 1px rgba(0, 0, 0, 0.15);\n",
              "      filter: drop-shadow(0px 1px 2px rgba(0, 0, 0, 0.3));\n",
              "      fill: #FFFFFF;\n",
              "    }\n",
              "  </style>\n",
              "\n",
              "    <script>\n",
              "      const buttonEl =\n",
              "        document.querySelector('#df-1bf7bb7d-14a9-4bde-83c8-658ae9847247 button.colab-df-convert');\n",
              "      buttonEl.style.display =\n",
              "        google.colab.kernel.accessAllowed ? 'block' : 'none';\n",
              "\n",
              "      async function convertToInteractive(key) {\n",
              "        const element = document.querySelector('#df-1bf7bb7d-14a9-4bde-83c8-658ae9847247');\n",
              "        const dataTable =\n",
              "          await google.colab.kernel.invokeFunction('convertToInteractive',\n",
              "                                                    [key], {});\n",
              "        if (!dataTable) return;\n",
              "\n",
              "        const docLinkHtml = 'Like what you see? Visit the ' +\n",
              "          '<a target=\"_blank\" href=https://colab.research.google.com/notebooks/data_table.ipynb>data table notebook</a>'\n",
              "          + ' to learn more about interactive tables.';\n",
              "        element.innerHTML = '';\n",
              "        dataTable['output_type'] = 'display_data';\n",
              "        await google.colab.output.renderOutput(dataTable, element);\n",
              "        const docLink = document.createElement('div');\n",
              "        docLink.innerHTML = docLinkHtml;\n",
              "        element.appendChild(docLink);\n",
              "      }\n",
              "    </script>\n",
              "  </div>\n",
              "\n",
              "\n",
              "<div id=\"df-c309d0e0-c46e-4c66-abbf-77d25f4e59f0\">\n",
              "  <button class=\"colab-df-quickchart\" onclick=\"quickchart('df-c309d0e0-c46e-4c66-abbf-77d25f4e59f0')\"\n",
              "            title=\"Suggest charts\"\n",
              "            style=\"display:none;\">\n",
              "\n",
              "<svg xmlns=\"http://www.w3.org/2000/svg\" height=\"24px\"viewBox=\"0 0 24 24\"\n",
              "     width=\"24px\">\n",
              "    <g>\n",
              "        <path d=\"M19 3H5c-1.1 0-2 .9-2 2v14c0 1.1.9 2 2 2h14c1.1 0 2-.9 2-2V5c0-1.1-.9-2-2-2zM9 17H7v-7h2v7zm4 0h-2V7h2v10zm4 0h-2v-4h2v4z\"/>\n",
              "    </g>\n",
              "</svg>\n",
              "  </button>\n",
              "\n",
              "<style>\n",
              "  .colab-df-quickchart {\n",
              "      --bg-color: #E8F0FE;\n",
              "      --fill-color: #1967D2;\n",
              "      --hover-bg-color: #E2EBFA;\n",
              "      --hover-fill-color: #174EA6;\n",
              "      --disabled-fill-color: #AAA;\n",
              "      --disabled-bg-color: #DDD;\n",
              "  }\n",
              "\n",
              "  [theme=dark] .colab-df-quickchart {\n",
              "      --bg-color: #3B4455;\n",
              "      --fill-color: #D2E3FC;\n",
              "      --hover-bg-color: #434B5C;\n",
              "      --hover-fill-color: #FFFFFF;\n",
              "      --disabled-bg-color: #3B4455;\n",
              "      --disabled-fill-color: #666;\n",
              "  }\n",
              "\n",
              "  .colab-df-quickchart {\n",
              "    background-color: var(--bg-color);\n",
              "    border: none;\n",
              "    border-radius: 50%;\n",
              "    cursor: pointer;\n",
              "    display: none;\n",
              "    fill: var(--fill-color);\n",
              "    height: 32px;\n",
              "    padding: 0;\n",
              "    width: 32px;\n",
              "  }\n",
              "\n",
              "  .colab-df-quickchart:hover {\n",
              "    background-color: var(--hover-bg-color);\n",
              "    box-shadow: 0 1px 2px rgba(60, 64, 67, 0.3), 0 1px 3px 1px rgba(60, 64, 67, 0.15);\n",
              "    fill: var(--button-hover-fill-color);\n",
              "  }\n",
              "\n",
              "  .colab-df-quickchart-complete:disabled,\n",
              "  .colab-df-quickchart-complete:disabled:hover {\n",
              "    background-color: var(--disabled-bg-color);\n",
              "    fill: var(--disabled-fill-color);\n",
              "    box-shadow: none;\n",
              "  }\n",
              "\n",
              "  .colab-df-spinner {\n",
              "    border: 2px solid var(--fill-color);\n",
              "    border-color: transparent;\n",
              "    border-bottom-color: var(--fill-color);\n",
              "    animation:\n",
              "      spin 1s steps(1) infinite;\n",
              "  }\n",
              "\n",
              "  @keyframes spin {\n",
              "    0% {\n",
              "      border-color: transparent;\n",
              "      border-bottom-color: var(--fill-color);\n",
              "      border-left-color: var(--fill-color);\n",
              "    }\n",
              "    20% {\n",
              "      border-color: transparent;\n",
              "      border-left-color: var(--fill-color);\n",
              "      border-top-color: var(--fill-color);\n",
              "    }\n",
              "    30% {\n",
              "      border-color: transparent;\n",
              "      border-left-color: var(--fill-color);\n",
              "      border-top-color: var(--fill-color);\n",
              "      border-right-color: var(--fill-color);\n",
              "    }\n",
              "    40% {\n",
              "      border-color: transparent;\n",
              "      border-right-color: var(--fill-color);\n",
              "      border-top-color: var(--fill-color);\n",
              "    }\n",
              "    60% {\n",
              "      border-color: transparent;\n",
              "      border-right-color: var(--fill-color);\n",
              "    }\n",
              "    80% {\n",
              "      border-color: transparent;\n",
              "      border-right-color: var(--fill-color);\n",
              "      border-bottom-color: var(--fill-color);\n",
              "    }\n",
              "    90% {\n",
              "      border-color: transparent;\n",
              "      border-bottom-color: var(--fill-color);\n",
              "    }\n",
              "  }\n",
              "</style>\n",
              "\n",
              "  <script>\n",
              "    async function quickchart(key) {\n",
              "      const quickchartButtonEl =\n",
              "        document.querySelector('#' + key + ' button');\n",
              "      quickchartButtonEl.disabled = true;  // To prevent multiple clicks.\n",
              "      quickchartButtonEl.classList.add('colab-df-spinner');\n",
              "      try {\n",
              "        const charts = await google.colab.kernel.invokeFunction(\n",
              "            'suggestCharts', [key], {});\n",
              "      } catch (error) {\n",
              "        console.error('Error during call to suggestCharts:', error);\n",
              "      }\n",
              "      quickchartButtonEl.classList.remove('colab-df-spinner');\n",
              "      quickchartButtonEl.classList.add('colab-df-quickchart-complete');\n",
              "    }\n",
              "    (() => {\n",
              "      let quickchartButtonEl =\n",
              "        document.querySelector('#df-c309d0e0-c46e-4c66-abbf-77d25f4e59f0 button');\n",
              "      quickchartButtonEl.style.display =\n",
              "        google.colab.kernel.accessAllowed ? 'block' : 'none';\n",
              "    })();\n",
              "  </script>\n",
              "</div>\n",
              "\n",
              "    </div>\n",
              "  </div>\n"
            ],
            "application/vnd.google.colaboratory.intrinsic+json": {
              "type": "dataframe",
              "variable_name": "hh_df",
              "summary": "{\n  \"name\": \"hh_df\",\n  \"rows\": 20,\n  \"fields\": [\n    {\n      \"column\": \"Unnamed: 0\",\n      \"properties\": {\n        \"dtype\": \"number\",\n        \"std\": 5,\n        \"min\": 1,\n        \"max\": 20,\n        \"num_unique_values\": 20,\n        \"samples\": [\n          1,\n          18,\n          16\n        ],\n        \"semantic_type\": \"\",\n        \"description\": \"\"\n      }\n    },\n    {\n      \"column\": \"seasoned\",\n      \"properties\": {\n        \"dtype\": \"category\",\n        \"num_unique_values\": 6,\n        \"samples\": [\n          \"1.01\",\n          \"1\",\n          \"3.\"\n        ],\n        \"semantic_type\": \"\",\n        \"description\": \"\"\n      }\n    },\n    {\n      \"column\": \"E.p#\",\n      \"properties\": {\n        \"dtype\": \"string\",\n        \"num_unique_values\": 12,\n        \"samples\": [\n          \"five\",\n          \"8.\",\n          \"1\"\n        ],\n        \"semantic_type\": \"\",\n        \"description\": \"\"\n      }\n    },\n    {\n      \"column\": \"HOTEL\",\n      \"properties\": {\n        \"dtype\": \"string\",\n        \"num_unique_values\": 20,\n        \"samples\": [\n          \"Juniper Hill Inn!!!!\",\n          \"Brick Hotel\",\n          \" Town's Inn, Part 1\"\n        ],\n        \"semantic_type\": \"\",\n        \"description\": \"\"\n      }\n    },\n    {\n      \"column\": \"what city?\",\n      \"properties\": {\n        \"dtype\": \"string\",\n        \"num_unique_values\": 20,\n        \"samples\": [\n          \"Windsor\",\n          \"Newtown,\",\n          \"Harpers Ferry...\"\n        ],\n        \"semantic_type\": \"\",\n        \"description\": \"\"\n      }\n    },\n    {\n      \"column\": \"which state?\",\n      \"properties\": {\n        \"dtype\": \"string\",\n        \"num_unique_values\": 17,\n        \"samples\": [\n          \"VT\",\n          \"NY\",\n          \"NM\"\n        ],\n        \"semantic_type\": \"\",\n        \"description\": \"\"\n      }\n    },\n    {\n      \"column\": \"og air date\",\n      \"properties\": {\n        \"dtype\": \"string\",\n        \"num_unique_values\": 19,\n        \"samples\": [\n          \"2012-08-13\",\n          \"2014-07-28\",\n          \"2014-09-09\"\n        ],\n        \"semantic_type\": \"\",\n        \"description\": \"\"\n      }\n    },\n    {\n      \"column\": \"OPEN/CLOSED?\",\n      \"properties\": {\n        \"dtype\": \"category\",\n        \"num_unique_values\": 8,\n        \"samples\": [\n          \"closed\",\n          \"sold\",\n          \" not open\"\n        ],\n        \"semantic_type\": \"\",\n        \"description\": \"\"\n      }\n    },\n    {\n      \"column\": \"og film month\",\n      \"properties\": {\n        \"dtype\": \"object\",\n        \"num_unique_values\": 13,\n        \"samples\": [\n          \"Oct ,2015\",\n          \"Nov, 2015\",\n          \"Feb    2012\"\n        ],\n        \"semantic_type\": \"\",\n        \"description\": \"\"\n      }\n    },\n    {\n      \"column\": \"year closed?\",\n      \"properties\": {\n        \"dtype\": \"category\",\n        \"num_unique_values\": 9,\n        \"samples\": [\n          \"2019\",\n          \"2012\",\n          \"2017\"\n        ],\n        \"semantic_type\": \"\",\n        \"description\": \"\"\n      }\n    },\n    {\n      \"column\": \"2-parter\",\n      \"properties\": {\n        \"dtype\": \"category\",\n        \"num_unique_values\": 8,\n        \"samples\": [\n          \" No...\",\n          \"No!\",\n          \"Yes.\"\n        ],\n        \"semantic_type\": \"\",\n        \"description\": \"\"\n      }\n    }\n  ]\n}"
            }
          },
          "metadata": {},
          "execution_count": 32
        }
      ]
    },
    {
      "cell_type": "markdown",
      "source": [
        "3. Clean column names and drop the first column because it is unnecessary."
      ],
      "metadata": {
        "id": "ElyPeheTnRwe"
      }
    },
    {
      "cell_type": "code",
      "source": [
        "hh_df.columns\n",
        "\n",
        "hh_df = hh_df.drop(columns=['Unnamed: 0'])\n",
        "\n",
        "hh_df.columns = ['season', 'episode', 'hotel', 'city', 'state', 'air_date', 'status', 'film_month', 'closing_year', 'two_parts']\n",
        "\n",
        "hh_df.columns"
      ],
      "metadata": {
        "colab": {
          "base_uri": "https://localhost:8080/"
        },
        "id": "OhthzZfdnXAt",
        "outputId": "fe289e77-1544-4a1d-b98c-f0e8c87f5876"
      },
      "execution_count": 33,
      "outputs": [
        {
          "output_type": "execute_result",
          "data": {
            "text/plain": [
              "Index(['season', 'episode', 'hotel', 'city', 'state', 'air_date', 'status',\n",
              "       'film_month', 'closing_year', 'two_parts'],\n",
              "      dtype='object')"
            ]
          },
          "metadata": {},
          "execution_count": 33
        }
      ]
    },
    {
      "cell_type": "markdown",
      "source": [
        "4. Next, we will check for all unique values in the 'season' column."
      ],
      "metadata": {
        "id": "20a5ZF9QpJVo"
      }
    },
    {
      "cell_type": "code",
      "source": [
        "hh_df['season'].unique()"
      ],
      "metadata": {
        "colab": {
          "base_uri": "https://localhost:8080/"
        },
        "id": "eCiyIeaxpR8g",
        "outputId": "cbd42435-e181-4237-dcc2-6ebaf27b3ba4"
      },
      "execution_count": 34,
      "outputs": [
        {
          "output_type": "execute_result",
          "data": {
            "text/plain": [
              "array(['1.01', '1', '2', '2,', '3', '3.'], dtype=object)"
            ]
          },
          "metadata": {},
          "execution_count": 34
        }
      ]
    },
    {
      "cell_type": "markdown",
      "source": [
        "5. Some of the values were input incorrectly so we will manually change them. Then, we'll re-call the unique values to make sure there are only 3 possible values."
      ],
      "metadata": {
        "id": "gxW8nIiQpVJA"
      }
    },
    {
      "cell_type": "code",
      "source": [
        "hh_df.loc[hh_df['season'] == '1.01', 'season'] = '1'\n",
        "hh_df.loc[hh_df['season'] == '2,', 'season'] = '2'\n",
        "hh_df.loc[hh_df['season'] == '3.', 'season'] = '3'\n",
        "\n",
        "hh_df['season'].unique()"
      ],
      "metadata": {
        "colab": {
          "base_uri": "https://localhost:8080/"
        },
        "id": "TB338IuhpgtO",
        "outputId": "bccd8b66-3067-419c-8741-c36e5f7e3c55"
      },
      "execution_count": 35,
      "outputs": [
        {
          "output_type": "execute_result",
          "data": {
            "text/plain": [
              "array(['1', '2', '3'], dtype=object)"
            ]
          },
          "metadata": {},
          "execution_count": 35
        }
      ]
    },
    {
      "cell_type": "markdown",
      "source": [
        "6. Next, we will check for all unique values in the 'episode' column."
      ],
      "metadata": {
        "id": "vbvk8_DGsxkN"
      }
    },
    {
      "cell_type": "code",
      "source": [
        "hh_df['episode'].unique()"
      ],
      "metadata": {
        "colab": {
          "base_uri": "https://localhost:8080/"
        },
        "id": "Um4YFXUPs2LZ",
        "outputId": "409c79ab-f33a-4462-df23-dc9fce3d44bc"
      },
      "execution_count": 36,
      "outputs": [
        {
          "output_type": "execute_result",
          "data": {
            "text/plain": [
              "array(['1', '3', '4', '5', ' 6', '1.0', '2', '6', '7', '8.', 'five', '8'],\n",
              "      dtype=object)"
            ]
          },
          "metadata": {},
          "execution_count": 36
        }
      ]
    },
    {
      "cell_type": "markdown",
      "source": [
        "7. Some of the values are incorrect, so we need to manually change them. Then, re-call unique values to make sure changes stuck."
      ],
      "metadata": {
        "id": "W4eHf_sis4Z5"
      }
    },
    {
      "cell_type": "code",
      "source": [
        "hh_df.loc[hh_df['episode'] == ' 6', 'episode'] = '6'\n",
        "hh_df.loc[hh_df['episode'] == '1.0', 'episode'] = '1'\n",
        "hh_df.loc[hh_df['episode'] == '8.', 'episode'] = '8'\n",
        "hh_df.loc[hh_df['episode'] == 'five', 'episode'] = '5'\n",
        "\n",
        "hh_df['episode'].unique()"
      ],
      "metadata": {
        "colab": {
          "base_uri": "https://localhost:8080/"
        },
        "id": "YmXoqjiCtBBF",
        "outputId": "740c53a2-2ccb-4feb-9b28-4ba7cae8a2a3"
      },
      "execution_count": 37,
      "outputs": [
        {
          "output_type": "execute_result",
          "data": {
            "text/plain": [
              "array(['1', '3', '4', '5', '6', '2', '7', '8'], dtype=object)"
            ]
          },
          "metadata": {},
          "execution_count": 37
        }
      ]
    },
    {
      "cell_type": "markdown",
      "source": [
        "8. Next, we will check for all unique values in the 'hotel' column."
      ],
      "metadata": {
        "id": "x78zONUjunQg"
      }
    },
    {
      "cell_type": "code",
      "source": [
        "hh_df['hotel'].unique()"
      ],
      "metadata": {
        "colab": {
          "base_uri": "https://localhost:8080/"
        },
        "id": "j0MD2DJCurTx",
        "outputId": "f27ee655-346f-41ef-8efc-446deb992fc4"
      },
      "execution_count": 38,
      "outputs": [
        {
          "output_type": "execute_result",
          "data": {
            "text/plain": [
              "array(['Juniper Hill Inn!!!!', ' cambridge hotel', 'The Keating Hotel',\n",
              "       'River Rock Inn', 'The Roosevelt Inn', 'Meson De Mesilla',\n",
              "       'Monticello Hotel', 'Applegate River Lodge', 'Hotel Chester',\n",
              "       'Calumet Inn', 'Four Seasons Inn', ' Curtis House?',\n",
              "       'Murphys Hotel', \"Angler's Lodge\", 'Vienna/Inn',\n",
              "       \" Town's Inn, Part 1\", 'Lakeview Hotel', 'Brick Hotel',\n",
              "       'Beachfront Inn & Inlet', \"Landoll's Mohican Castle\"], dtype=object)"
            ]
          },
          "metadata": {},
          "execution_count": 38
        }
      ]
    },
    {
      "cell_type": "markdown",
      "source": [
        "9. We need to manually change some values. Then, we will re-call the unique values to check our work."
      ],
      "metadata": {
        "id": "BvJWXo6uuufe"
      }
    },
    {
      "cell_type": "code",
      "source": [
        "hh_df.loc[hh_df['hotel'] == 'Juniper Hill Inn!!!!', 'hotel'] = 'Juniper Hill Inn'\n",
        "hh_df.loc[hh_df['hotel'] == ' cambridge hotel', 'hotel'] = 'Cambridge Hotel'\n",
        "hh_df.loc[hh_df['hotel'] == 'Vienna/Inn', 'hotel'] = 'Vienna Inn'\n",
        "hh_df.loc[hh_df['hotel'] == \" Town's Inn, Part 1\", 'hotel'] = \"Town's Inn\"\n",
        "hh_df.loc[hh_df['hotel'] == ' Curtis House?', 'hotel'] = 'Curtis House'\n",
        "\n",
        "hh_df['hotel'].unique()"
      ],
      "metadata": {
        "colab": {
          "base_uri": "https://localhost:8080/"
        },
        "id": "cUpmCyXfu7ma",
        "outputId": "3a1fc604-4dd3-4ccf-daa5-efff92a69fc7"
      },
      "execution_count": 39,
      "outputs": [
        {
          "output_type": "execute_result",
          "data": {
            "text/plain": [
              "array(['Juniper Hill Inn', 'Cambridge Hotel', 'The Keating Hotel',\n",
              "       'River Rock Inn', 'The Roosevelt Inn', 'Meson De Mesilla',\n",
              "       'Monticello Hotel', 'Applegate River Lodge', 'Hotel Chester',\n",
              "       'Calumet Inn', 'Four Seasons Inn', 'Curtis House', 'Murphys Hotel',\n",
              "       \"Angler's Lodge\", 'Vienna Inn', \"Town's Inn\", 'Lakeview Hotel',\n",
              "       'Brick Hotel', 'Beachfront Inn & Inlet',\n",
              "       \"Landoll's Mohican Castle\"], dtype=object)"
            ]
          },
          "metadata": {},
          "execution_count": 39
        }
      ]
    },
    {
      "cell_type": "markdown",
      "source": [
        "10. Next, let's check for unique values in the 'city' column."
      ],
      "metadata": {
        "id": "w_jnVR03c2_Y"
      }
    },
    {
      "cell_type": "code",
      "source": [
        "hh_df['city'].unique()"
      ],
      "metadata": {
        "colab": {
          "base_uri": "https://localhost:8080/"
        },
        "id": "nTCwQg3wc6XM",
        "outputId": "cb1696c1-63b4-46d9-b2a1-750525ec8961"
      },
      "execution_count": 40,
      "outputs": [
        {
          "output_type": "execute_result",
          "data": {
            "text/plain": [
              "array(['Windsor', 'Cambridge', 'San Diego', 'Milford', \" Cour d'Alene\",\n",
              "       'Las Cruces', 'Longview', 'applegate', 'Starkville', 'Pipestone',\n",
              "       'West Dover', 'WOODBURY', 'Murphys', 'Island Park', 'Southbridge',\n",
              "       'Harpers Ferry...', 'Chelan', 'Newtown,', 'Fort Pierce',\n",
              "       'Loudonville'], dtype=object)"
            ]
          },
          "metadata": {},
          "execution_count": 40
        }
      ]
    },
    {
      "cell_type": "markdown",
      "source": [
        "11. There are a few values that need to be manually changed. Then, we will re-call the unique values to check our work."
      ],
      "metadata": {
        "id": "Odl8ZTaic8X-"
      }
    },
    {
      "cell_type": "code",
      "source": [
        "hh_df.loc[hh_df['city'] == \" Cour d'Alene\", 'city'] = \"Cour d'Alene\"\n",
        "hh_df.loc[hh_df['city'] == 'applegate', 'city'] = 'Applegate'\n",
        "hh_df.loc[hh_df['city'] == 'WOODBURY', 'city'] = 'Woodbury'\n",
        "hh_df.loc[hh_df['city'] == 'Harpers Ferry...', 'city'] = 'Harpers Ferry'\n",
        "hh_df.loc[hh_df['city'] == 'Newtown,', 'city'] = 'Newtown'\n",
        "\n",
        "hh_df['city'].unique()"
      ],
      "metadata": {
        "colab": {
          "base_uri": "https://localhost:8080/"
        },
        "id": "vfNxuI81dDBc",
        "outputId": "efed3489-44a0-460c-d28c-6c5ece0acda1"
      },
      "execution_count": 41,
      "outputs": [
        {
          "output_type": "execute_result",
          "data": {
            "text/plain": [
              "array(['Windsor', 'Cambridge', 'San Diego', 'Milford', \"Cour d'Alene\",\n",
              "       'Las Cruces', 'Longview', 'Applegate', 'Starkville', 'Pipestone',\n",
              "       'West Dover', 'Woodbury', 'Murphys', 'Island Park', 'Southbridge',\n",
              "       'Harpers Ferry', 'Chelan', 'Newtown', 'Fort Pierce', 'Loudonville'],\n",
              "      dtype=object)"
            ]
          },
          "metadata": {},
          "execution_count": 41
        }
      ]
    },
    {
      "cell_type": "markdown",
      "source": [
        "12. Next, let's check for unique values in the 'state' column."
      ],
      "metadata": {
        "id": "OVGiN4vqduVa"
      }
    },
    {
      "cell_type": "code",
      "source": [
        "hh_df['state'].unique()"
      ],
      "metadata": {
        "colab": {
          "base_uri": "https://localhost:8080/"
        },
        "id": "1M_eUcEmdyLh",
        "outputId": "c5eda44f-7284-4aa7-915f-76e092ee88e5"
      },
      "execution_count": 42,
      "outputs": [
        {
          "output_type": "execute_result",
          "data": {
            "text/plain": [
              "array(['VT', 'NY', 'CA', 'PA', 'idaho', 'NM', 'WA', ' or', 'MS', 'MN',\n",
              "       'CT', 'ID', ' MA', 'WV', 'washington', 'FL', 'OH!'], dtype=object)"
            ]
          },
          "metadata": {},
          "execution_count": 42
        }
      ]
    },
    {
      "cell_type": "markdown",
      "source": [
        "13. We want to manually change some values and then re-call the unique values to check our work."
      ],
      "metadata": {
        "id": "TMx4VVfcd4dx"
      }
    },
    {
      "cell_type": "code",
      "source": [
        "hh_df.loc[hh_df['state'] == 'idaho', 'state'] = 'ID'\n",
        "hh_df.loc[hh_df['state'] == ' or', 'state'] = 'OR'\n",
        "hh_df.loc[hh_df['state'] == 'idaho', 'state'] = 'ID'\n",
        "hh_df.loc[hh_df['state'] == ' or', 'state'] = 'OR'\n",
        "hh_df.loc[hh_df['state'] == ' MA', 'state'] = 'MA'\n",
        "hh_df.loc[hh_df['state'] == 'washington', 'state'] = 'WA'\n",
        "hh_df.loc[hh_df['state'] == 'OH!', 'state'] = 'OH'\n",
        "\n",
        "hh_df['state'].unique()"
      ],
      "metadata": {
        "colab": {
          "base_uri": "https://localhost:8080/"
        },
        "id": "06M-Q3GDd_gS",
        "outputId": "f09bc53c-4ffc-49f1-f44a-32892531be75"
      },
      "execution_count": 43,
      "outputs": [
        {
          "output_type": "execute_result",
          "data": {
            "text/plain": [
              "array(['VT', 'NY', 'CA', 'PA', 'ID', 'NM', 'WA', 'OR', 'MS', 'MN', 'CT',\n",
              "       'MA', 'WV', 'FL', 'OH'], dtype=object)"
            ]
          },
          "metadata": {},
          "execution_count": 43
        }
      ]
    },
    {
      "cell_type": "markdown",
      "source": [
        "14. Next, we will check unique valus in the 'air_date' column."
      ],
      "metadata": {
        "id": "m5uqkZubeqFU"
      }
    },
    {
      "cell_type": "code",
      "source": [
        "hh_df['air_date'].unique()"
      ],
      "metadata": {
        "colab": {
          "base_uri": "https://localhost:8080/"
        },
        "id": "0Ynh_QxmevUK",
        "outputId": "191c94b7-79e4-4e76-d54b-58051687dd86"
      },
      "execution_count": 44,
      "outputs": [
        {
          "output_type": "execute_result",
          "data": {
            "text/plain": [
              "array(['2012-08-13', '2012-08-20', '2012-08-27', '2012-09-03',\n",
              "       'july 21 2014', '2014-07-28', '2014-08-04', '2014-08-11',\n",
              "       '2014-08-18', '2014-08-25', '1st of september 2014', '2014-09-09',\n",
              "       '2016-05-24', '2016-05-31', '06-07-2016', '2016-06-21',\n",
              "       '2016-06-28', '2016-07-19', '2016-07-26'], dtype=object)"
            ]
          },
          "metadata": {},
          "execution_count": 44
        }
      ]
    },
    {
      "cell_type": "markdown",
      "source": [
        "15. We want to make sure everything is in the correct date format so it can be interpreted correctly by Python. Let's manually change incorrect values to the format Y-M-D. Then, we'll re-call the unique values to check our work."
      ],
      "metadata": {
        "id": "kbB-q8sdewvB"
      }
    },
    {
      "cell_type": "code",
      "source": [
        "hh_df.loc[hh_df['air_date'] == 'july 21 2014', 'air_date'] = '2014-07-21'\n",
        "hh_df.loc[hh_df['air_date'] == '1st of september 2014', 'air_date'] = '2014-09-01'\n",
        "hh_df.loc[hh_df['air_date'] == '06-07-2016', 'air_date'] = '2016-06-07'\n",
        "\n",
        "hh_df['air_date'].unique()"
      ],
      "metadata": {
        "colab": {
          "base_uri": "https://localhost:8080/"
        },
        "id": "72BhJ8D9e7rO",
        "outputId": "371ea4a3-a68b-4279-ba97-9ff5b0464e1f"
      },
      "execution_count": 45,
      "outputs": [
        {
          "output_type": "execute_result",
          "data": {
            "text/plain": [
              "array(['2012-08-13', '2012-08-20', '2012-08-27', '2012-09-03',\n",
              "       '2014-07-21', '2014-07-28', '2014-08-04', '2014-08-11',\n",
              "       '2014-08-18', '2014-08-25', '2014-09-01', '2014-09-09',\n",
              "       '2016-05-24', '2016-05-31', '2016-06-07', '2016-06-21',\n",
              "       '2016-06-28', '2016-07-19', '2016-07-26'], dtype=object)"
            ]
          },
          "metadata": {},
          "execution_count": 45
        }
      ]
    },
    {
      "cell_type": "markdown",
      "source": [
        "16. Next, we will check unique values in the 'status' column."
      ],
      "metadata": {
        "id": "3jcu8751fd5K"
      }
    },
    {
      "cell_type": "code",
      "source": [
        "hh_df['status'].unique()"
      ],
      "metadata": {
        "colab": {
          "base_uri": "https://localhost:8080/"
        },
        "id": "FGlbeJJ5foEl",
        "outputId": "90a74008-b265-497c-8701-1c9e33ac370a"
      },
      "execution_count": 46,
      "outputs": [
        {
          "output_type": "execute_result",
          "data": {
            "text/plain": [
              "array([' not open', 'closed', ' Open', 'Closed', 'Open', 'sold',\n",
              "       ' closed down', ' Closed'], dtype=object)"
            ]
          },
          "metadata": {},
          "execution_count": 46
        }
      ]
    },
    {
      "cell_type": "markdown",
      "source": [
        "17. We should change values manually to create only two possible values- 'closed' and 'open'. Then, we'll re-call the unique values to check our work."
      ],
      "metadata": {
        "id": "Z3NqB79yfpgq"
      }
    },
    {
      "cell_type": "code",
      "source": [
        "hh_df.loc[hh_df['status'] == ' not open', 'status'] = 'closed'\n",
        "hh_df.loc[hh_df['status'] == ' Open', 'status'] = 'open'\n",
        "hh_df.loc[hh_df['status'] == 'Closed', 'status'] = 'closed'\n",
        "hh_df.loc[hh_df['status'] == 'Open', 'status'] = 'open'\n",
        "hh_df.loc[hh_df['status'] == 'sold', 'status'] = 'closed'\n",
        "hh_df.loc[hh_df['status'] == ' closed down', 'status'] = 'closed'\n",
        "hh_df.loc[hh_df['status'] == ' Closed', 'status'] = 'closed'\n",
        "\n",
        "hh_df['status'].unique()"
      ],
      "metadata": {
        "colab": {
          "base_uri": "https://localhost:8080/"
        },
        "id": "4rAVO1fsfzbL",
        "outputId": "654aea58-6196-49be-e388-0dce293c95fd"
      },
      "execution_count": 47,
      "outputs": [
        {
          "output_type": "execute_result",
          "data": {
            "text/plain": [
              "array(['closed', 'open'], dtype=object)"
            ]
          },
          "metadata": {},
          "execution_count": 47
        }
      ]
    },
    {
      "cell_type": "markdown",
      "source": [
        "18. Next, let's check unique values in the 'film_month' column."
      ],
      "metadata": {
        "id": "D_ivlZU8gPfE"
      }
    },
    {
      "cell_type": "code",
      "source": [
        "hh_df['film_month'].unique()"
      ],
      "metadata": {
        "colab": {
          "base_uri": "https://localhost:8080/"
        },
        "id": "2k4upEZ_h_DT",
        "outputId": "b3ab0715-0159-49a8-8ed6-642bf402a967"
      },
      "execution_count": 48,
      "outputs": [
        {
          "output_type": "execute_result",
          "data": {
            "text/plain": [
              "array(['Feb    2012', 'Jan 2012', 'Dec 2011', ' Feb 2012', 'June 2013',\n",
              "       'June, 2013', ' May 2013', 'May 2013', 'June 2013.', 'Nov, 2015',\n",
              "       'Nov 2015', 'Oct ,2015', 'Dec 2015'], dtype=object)"
            ]
          },
          "metadata": {},
          "execution_count": 48
        }
      ]
    },
    {
      "cell_type": "markdown",
      "source": [
        "19. We should change some values manually and then re-call the unique values to check our work."
      ],
      "metadata": {
        "id": "i6f7S1eViBD3"
      }
    },
    {
      "cell_type": "code",
      "source": [
        "hh_df.loc[hh_df['film_month'] == 'Feb    2012', 'film_month'] = 'Feb 2012'\n",
        "hh_df.loc[hh_df['film_month'] == ' Feb 2012', 'film_month'] = 'Feb 2012'\n",
        "hh_df.loc[hh_df['film_month'] == 'June, 2013', 'film_month'] = 'June 2013'\n",
        "hh_df.loc[hh_df['film_month'] == ' May 2013', 'film_month'] = 'May 2013'\n",
        "hh_df.loc[hh_df['film_month'] == 'June 2013.', 'film_month'] = 'June 2013'\n",
        "hh_df.loc[hh_df['film_month'] == 'Nov, 2015', 'film_month'] = 'Nov 2015'\n",
        "hh_df.loc[hh_df['film_month'] == 'Oct ,2015', 'film_month'] = 'Oct 2015'\n",
        "\n",
        "hh_df['film_month'].unique()"
      ],
      "metadata": {
        "colab": {
          "base_uri": "https://localhost:8080/"
        },
        "id": "o33cZEHwiImZ",
        "outputId": "8932715a-bcfd-4223-981e-51242f6e4445"
      },
      "execution_count": 49,
      "outputs": [
        {
          "output_type": "execute_result",
          "data": {
            "text/plain": [
              "array(['Feb 2012', 'Jan 2012', 'Dec 2011', 'June 2013', 'May 2013',\n",
              "       'Nov 2015', 'Oct 2015', 'Dec 2015'], dtype=object)"
            ]
          },
          "metadata": {},
          "execution_count": 49
        }
      ]
    },
    {
      "cell_type": "markdown",
      "source": [
        "20. Next, let's check unique values for 'closing_year'."
      ],
      "metadata": {
        "id": "iMbEgo_Gitf0"
      }
    },
    {
      "cell_type": "code",
      "source": [
        "hh_df['closing_year'].unique()"
      ],
      "metadata": {
        "colab": {
          "base_uri": "https://localhost:8080/"
        },
        "id": "JFmnhJnziyC8",
        "outputId": "38913fb4-8f62-4eb4-8c91-9b0de5075b15"
      },
      "execution_count": 50,
      "outputs": [
        {
          "output_type": "execute_result",
          "data": {
            "text/plain": [
              "array(['2014', '2012', '2022', '2020', ' na', '2017', nan,\n",
              "       'not applicable', '2019', '2021'], dtype=object)"
            ]
          },
          "metadata": {},
          "execution_count": 50
        }
      ]
    },
    {
      "cell_type": "markdown",
      "source": [
        "21. There are many different values that need to be read in by Python as nan values and need to be manually changed to nans. After, we will re-call unique values to check our work."
      ],
      "metadata": {
        "id": "f5Z1IxlNjGcP"
      }
    },
    {
      "cell_type": "code",
      "source": [
        "hh_df.replace([\"N/A\", \"#N/A\", \" na\", \"not applicable\"], np.nan, inplace=True)\n",
        "\n",
        "hh_df['closing_year'].unique()"
      ],
      "metadata": {
        "colab": {
          "base_uri": "https://localhost:8080/"
        },
        "id": "xSnwU9w2jF2x",
        "outputId": "c47c644f-925d-4f50-d3e7-348786e9e18a"
      },
      "execution_count": 51,
      "outputs": [
        {
          "output_type": "execute_result",
          "data": {
            "text/plain": [
              "array(['2014', '2012', '2022', '2020', nan, '2017', '2019', '2021'],\n",
              "      dtype=object)"
            ]
          },
          "metadata": {},
          "execution_count": 51
        }
      ]
    },
    {
      "cell_type": "markdown",
      "source": [
        "22. Next, we will look at the unique values for 'two_parts'."
      ],
      "metadata": {
        "id": "2L6-WYR0joTb"
      }
    },
    {
      "cell_type": "code",
      "source": [
        "hh_df['two_parts'].unique()"
      ],
      "metadata": {
        "colab": {
          "base_uri": "https://localhost:8080/"
        },
        "id": "EVJO95H2j7Q0",
        "outputId": "dd79f785-d197-4cda-f413-bafab750289b"
      },
      "execution_count": 52,
      "outputs": [
        {
          "output_type": "execute_result",
          "data": {
            "text/plain": [
              "array(['Yes.', ' No...', 'No', 'No...', ' No', 'No!', 'YES.', 'NO'],\n",
              "      dtype=object)"
            ]
          },
          "metadata": {},
          "execution_count": 52
        }
      ]
    },
    {
      "cell_type": "markdown",
      "source": [
        "23. We need to manually change some values, and then re-call the frequency table to make sure there are only two possible values- 'Yes' and 'No'."
      ],
      "metadata": {
        "id": "-pXnB6cGj87C"
      }
    },
    {
      "cell_type": "code",
      "source": [
        "hh_df.loc[hh_df['two_parts'] == 'Yes.', 'two_parts'] = 'Yes'\n",
        "hh_df.loc[hh_df['two_parts'] == ' No...', 'two_parts'] = 'No'\n",
        "hh_df.loc[hh_df['two_parts'] == 'No...', 'two_parts'] = 'No'\n",
        "hh_df.loc[hh_df['two_parts'] == ' No', 'two_parts'] = 'No'\n",
        "hh_df.loc[hh_df['two_parts'] == 'No!', 'two_parts'] = 'No'\n",
        "hh_df.loc[hh_df['two_parts'] == 'YES.', 'two_parts'] = 'Yes'\n",
        "hh_df.loc[hh_df['two_parts'] == 'NO', 'two_parts'] = 'No'\n",
        "\n",
        "hh_df['two_parts'].unique()"
      ],
      "metadata": {
        "colab": {
          "base_uri": "https://localhost:8080/"
        },
        "id": "srcbQL3ckFGW",
        "outputId": "8e99d9d4-87eb-43b0-bf5e-cf54a35537e0"
      },
      "execution_count": 53,
      "outputs": [
        {
          "output_type": "execute_result",
          "data": {
            "text/plain": [
              "array(['Yes', 'No'], dtype=object)"
            ]
          },
          "metadata": {},
          "execution_count": 53
        }
      ]
    },
    {
      "cell_type": "markdown",
      "source": [
        "24. Saving the cleaned Hotel Hell data set to CSV."
      ],
      "metadata": {
        "id": "r3hhU__bkqty"
      }
    },
    {
      "cell_type": "code",
      "source": [
        "hh_df.to_csv('cleaned_hotel_hell.csv', index=False)"
      ],
      "metadata": {
        "id": "tNTlzlK4k47d"
      },
      "execution_count": 54,
      "outputs": []
    },
    {
      "cell_type": "markdown",
      "source": [
        "## Data Formatting"
      ],
      "metadata": {
        "id": "Ln-ux87aDhsr"
      }
    },
    {
      "cell_type": "markdown",
      "source": [
        "1. Read in Clean Hotel Hell Data from Github link."
      ],
      "metadata": {
        "id": "rIyHeCuqce_S"
      }
    },
    {
      "cell_type": "code",
      "source": [
        "clean_hh_link = \"https://github.com/Personal-Portfolio-Gordon-Ramsay-TCG/Gordon_Ramsay/raw/refs/heads/main/Clean%20Data/cleaned_hotel_hell.csv\"\n",
        "clean_hh = pd.read_csv(clean_hh_link)\n",
        "clean_hh.info()"
      ],
      "metadata": {
        "colab": {
          "base_uri": "https://localhost:8080/"
        },
        "id": "GIj8HzT1cep-",
        "outputId": "09a56ef9-5bc6-42e5-ba38-07ea64585e20"
      },
      "execution_count": 58,
      "outputs": [
        {
          "output_type": "stream",
          "name": "stdout",
          "text": [
            "<class 'pandas.core.frame.DataFrame'>\n",
            "RangeIndex: 20 entries, 0 to 19\n",
            "Data columns (total 10 columns):\n",
            " #   Column        Non-Null Count  Dtype  \n",
            "---  ------        --------------  -----  \n",
            " 0   season        20 non-null     int64  \n",
            " 1   episode       20 non-null     int64  \n",
            " 2   hotel         20 non-null     object \n",
            " 3   city          20 non-null     object \n",
            " 4   state         20 non-null     object \n",
            " 5   air_date      20 non-null     object \n",
            " 6   status        20 non-null     object \n",
            " 7   film_month    20 non-null     object \n",
            " 8   closing_year  12 non-null     float64\n",
            " 9   two_parts     20 non-null     object \n",
            "dtypes: float64(1), int64(2), object(7)\n",
            "memory usage: 1.7+ KB\n"
          ]
        }
      ]
    },
    {
      "cell_type": "markdown",
      "source": [
        "2. TEXT DATA\n",
        "\n",
        "We have many columns of text data (hotel, city, state, status, two_parts) here that we want to make sure are all in lower case."
      ],
      "metadata": {
        "id": "KuvWI5oMef8K"
      }
    },
    {
      "cell_type": "code",
      "source": [
        "clean_hh['hotel'] = clean_hh['hotel'].str.lower()\n",
        "clean_hh['city'] = clean_hh['city'].str.lower()\n",
        "clean_hh['state'] = clean_hh['state'].str.lower()\n",
        "clean_hh['status'] = clean_hh['status'].str.lower()\n",
        "clean_hh['two_parts'] = clean_hh['two_parts'].str.lower()\n",
        "\n",
        "clean_hh.head()"
      ],
      "metadata": {
        "colab": {
          "base_uri": "https://localhost:8080/",
          "height": 347
        },
        "id": "uFa2fTv_etsa",
        "outputId": "1761d231-076d-4123-9c88-73814da02955"
      },
      "execution_count": 60,
      "outputs": [
        {
          "output_type": "execute_result",
          "data": {
            "text/plain": [
              "   season  episode              hotel          city state    air_date  status  \\\n",
              "0       1        1   juniper hill inn       windsor    vt  2012-08-13  closed   \n",
              "1       1        3    cambridge hotel     cambridge    ny  2012-08-20  closed   \n",
              "2       1        4  the keating hotel     san diego    ca  2012-08-27    open   \n",
              "3       1        5     river rock inn       milford    pa  2012-09-03  closed   \n",
              "4       1        6  the roosevelt inn  cour d'alene    id  2012-09-03    open   \n",
              "\n",
              "  film_month  closing_year two_parts  \n",
              "0   Feb 2012        2014.0       yes  \n",
              "1   Jan 2012        2012.0        no  \n",
              "2   Dec 2011        2022.0        no  \n",
              "3   Jan 2012        2014.0        no  \n",
              "4   Feb 2012        2020.0        no  "
            ],
            "text/html": [
              "\n",
              "  <div id=\"df-c77ecc02-dd0f-4dbd-88bd-ba387dbfb15d\" class=\"colab-df-container\">\n",
              "    <div>\n",
              "<style scoped>\n",
              "    .dataframe tbody tr th:only-of-type {\n",
              "        vertical-align: middle;\n",
              "    }\n",
              "\n",
              "    .dataframe tbody tr th {\n",
              "        vertical-align: top;\n",
              "    }\n",
              "\n",
              "    .dataframe thead th {\n",
              "        text-align: right;\n",
              "    }\n",
              "</style>\n",
              "<table border=\"1\" class=\"dataframe\">\n",
              "  <thead>\n",
              "    <tr style=\"text-align: right;\">\n",
              "      <th></th>\n",
              "      <th>season</th>\n",
              "      <th>episode</th>\n",
              "      <th>hotel</th>\n",
              "      <th>city</th>\n",
              "      <th>state</th>\n",
              "      <th>air_date</th>\n",
              "      <th>status</th>\n",
              "      <th>film_month</th>\n",
              "      <th>closing_year</th>\n",
              "      <th>two_parts</th>\n",
              "    </tr>\n",
              "  </thead>\n",
              "  <tbody>\n",
              "    <tr>\n",
              "      <th>0</th>\n",
              "      <td>1</td>\n",
              "      <td>1</td>\n",
              "      <td>juniper hill inn</td>\n",
              "      <td>windsor</td>\n",
              "      <td>vt</td>\n",
              "      <td>2012-08-13</td>\n",
              "      <td>closed</td>\n",
              "      <td>Feb 2012</td>\n",
              "      <td>2014.0</td>\n",
              "      <td>yes</td>\n",
              "    </tr>\n",
              "    <tr>\n",
              "      <th>1</th>\n",
              "      <td>1</td>\n",
              "      <td>3</td>\n",
              "      <td>cambridge hotel</td>\n",
              "      <td>cambridge</td>\n",
              "      <td>ny</td>\n",
              "      <td>2012-08-20</td>\n",
              "      <td>closed</td>\n",
              "      <td>Jan 2012</td>\n",
              "      <td>2012.0</td>\n",
              "      <td>no</td>\n",
              "    </tr>\n",
              "    <tr>\n",
              "      <th>2</th>\n",
              "      <td>1</td>\n",
              "      <td>4</td>\n",
              "      <td>the keating hotel</td>\n",
              "      <td>san diego</td>\n",
              "      <td>ca</td>\n",
              "      <td>2012-08-27</td>\n",
              "      <td>open</td>\n",
              "      <td>Dec 2011</td>\n",
              "      <td>2022.0</td>\n",
              "      <td>no</td>\n",
              "    </tr>\n",
              "    <tr>\n",
              "      <th>3</th>\n",
              "      <td>1</td>\n",
              "      <td>5</td>\n",
              "      <td>river rock inn</td>\n",
              "      <td>milford</td>\n",
              "      <td>pa</td>\n",
              "      <td>2012-09-03</td>\n",
              "      <td>closed</td>\n",
              "      <td>Jan 2012</td>\n",
              "      <td>2014.0</td>\n",
              "      <td>no</td>\n",
              "    </tr>\n",
              "    <tr>\n",
              "      <th>4</th>\n",
              "      <td>1</td>\n",
              "      <td>6</td>\n",
              "      <td>the roosevelt inn</td>\n",
              "      <td>cour d'alene</td>\n",
              "      <td>id</td>\n",
              "      <td>2012-09-03</td>\n",
              "      <td>open</td>\n",
              "      <td>Feb 2012</td>\n",
              "      <td>2020.0</td>\n",
              "      <td>no</td>\n",
              "    </tr>\n",
              "  </tbody>\n",
              "</table>\n",
              "</div>\n",
              "    <div class=\"colab-df-buttons\">\n",
              "\n",
              "  <div class=\"colab-df-container\">\n",
              "    <button class=\"colab-df-convert\" onclick=\"convertToInteractive('df-c77ecc02-dd0f-4dbd-88bd-ba387dbfb15d')\"\n",
              "            title=\"Convert this dataframe to an interactive table.\"\n",
              "            style=\"display:none;\">\n",
              "\n",
              "  <svg xmlns=\"http://www.w3.org/2000/svg\" height=\"24px\" viewBox=\"0 -960 960 960\">\n",
              "    <path d=\"M120-120v-720h720v720H120Zm60-500h600v-160H180v160Zm220 220h160v-160H400v160Zm0 220h160v-160H400v160ZM180-400h160v-160H180v160Zm440 0h160v-160H620v160ZM180-180h160v-160H180v160Zm440 0h160v-160H620v160Z\"/>\n",
              "  </svg>\n",
              "    </button>\n",
              "\n",
              "  <style>\n",
              "    .colab-df-container {\n",
              "      display:flex;\n",
              "      gap: 12px;\n",
              "    }\n",
              "\n",
              "    .colab-df-convert {\n",
              "      background-color: #E8F0FE;\n",
              "      border: none;\n",
              "      border-radius: 50%;\n",
              "      cursor: pointer;\n",
              "      display: none;\n",
              "      fill: #1967D2;\n",
              "      height: 32px;\n",
              "      padding: 0 0 0 0;\n",
              "      width: 32px;\n",
              "    }\n",
              "\n",
              "    .colab-df-convert:hover {\n",
              "      background-color: #E2EBFA;\n",
              "      box-shadow: 0px 1px 2px rgba(60, 64, 67, 0.3), 0px 1px 3px 1px rgba(60, 64, 67, 0.15);\n",
              "      fill: #174EA6;\n",
              "    }\n",
              "\n",
              "    .colab-df-buttons div {\n",
              "      margin-bottom: 4px;\n",
              "    }\n",
              "\n",
              "    [theme=dark] .colab-df-convert {\n",
              "      background-color: #3B4455;\n",
              "      fill: #D2E3FC;\n",
              "    }\n",
              "\n",
              "    [theme=dark] .colab-df-convert:hover {\n",
              "      background-color: #434B5C;\n",
              "      box-shadow: 0px 1px 3px 1px rgba(0, 0, 0, 0.15);\n",
              "      filter: drop-shadow(0px 1px 2px rgba(0, 0, 0, 0.3));\n",
              "      fill: #FFFFFF;\n",
              "    }\n",
              "  </style>\n",
              "\n",
              "    <script>\n",
              "      const buttonEl =\n",
              "        document.querySelector('#df-c77ecc02-dd0f-4dbd-88bd-ba387dbfb15d button.colab-df-convert');\n",
              "      buttonEl.style.display =\n",
              "        google.colab.kernel.accessAllowed ? 'block' : 'none';\n",
              "\n",
              "      async function convertToInteractive(key) {\n",
              "        const element = document.querySelector('#df-c77ecc02-dd0f-4dbd-88bd-ba387dbfb15d');\n",
              "        const dataTable =\n",
              "          await google.colab.kernel.invokeFunction('convertToInteractive',\n",
              "                                                    [key], {});\n",
              "        if (!dataTable) return;\n",
              "\n",
              "        const docLinkHtml = 'Like what you see? Visit the ' +\n",
              "          '<a target=\"_blank\" href=https://colab.research.google.com/notebooks/data_table.ipynb>data table notebook</a>'\n",
              "          + ' to learn more about interactive tables.';\n",
              "        element.innerHTML = '';\n",
              "        dataTable['output_type'] = 'display_data';\n",
              "        await google.colab.output.renderOutput(dataTable, element);\n",
              "        const docLink = document.createElement('div');\n",
              "        docLink.innerHTML = docLinkHtml;\n",
              "        element.appendChild(docLink);\n",
              "      }\n",
              "    </script>\n",
              "  </div>\n",
              "\n",
              "\n",
              "<div id=\"df-fd4137f0-27d9-4ccf-ba07-a3373aaddcea\">\n",
              "  <button class=\"colab-df-quickchart\" onclick=\"quickchart('df-fd4137f0-27d9-4ccf-ba07-a3373aaddcea')\"\n",
              "            title=\"Suggest charts\"\n",
              "            style=\"display:none;\">\n",
              "\n",
              "<svg xmlns=\"http://www.w3.org/2000/svg\" height=\"24px\"viewBox=\"0 0 24 24\"\n",
              "     width=\"24px\">\n",
              "    <g>\n",
              "        <path d=\"M19 3H5c-1.1 0-2 .9-2 2v14c0 1.1.9 2 2 2h14c1.1 0 2-.9 2-2V5c0-1.1-.9-2-2-2zM9 17H7v-7h2v7zm4 0h-2V7h2v10zm4 0h-2v-4h2v4z\"/>\n",
              "    </g>\n",
              "</svg>\n",
              "  </button>\n",
              "\n",
              "<style>\n",
              "  .colab-df-quickchart {\n",
              "      --bg-color: #E8F0FE;\n",
              "      --fill-color: #1967D2;\n",
              "      --hover-bg-color: #E2EBFA;\n",
              "      --hover-fill-color: #174EA6;\n",
              "      --disabled-fill-color: #AAA;\n",
              "      --disabled-bg-color: #DDD;\n",
              "  }\n",
              "\n",
              "  [theme=dark] .colab-df-quickchart {\n",
              "      --bg-color: #3B4455;\n",
              "      --fill-color: #D2E3FC;\n",
              "      --hover-bg-color: #434B5C;\n",
              "      --hover-fill-color: #FFFFFF;\n",
              "      --disabled-bg-color: #3B4455;\n",
              "      --disabled-fill-color: #666;\n",
              "  }\n",
              "\n",
              "  .colab-df-quickchart {\n",
              "    background-color: var(--bg-color);\n",
              "    border: none;\n",
              "    border-radius: 50%;\n",
              "    cursor: pointer;\n",
              "    display: none;\n",
              "    fill: var(--fill-color);\n",
              "    height: 32px;\n",
              "    padding: 0;\n",
              "    width: 32px;\n",
              "  }\n",
              "\n",
              "  .colab-df-quickchart:hover {\n",
              "    background-color: var(--hover-bg-color);\n",
              "    box-shadow: 0 1px 2px rgba(60, 64, 67, 0.3), 0 1px 3px 1px rgba(60, 64, 67, 0.15);\n",
              "    fill: var(--button-hover-fill-color);\n",
              "  }\n",
              "\n",
              "  .colab-df-quickchart-complete:disabled,\n",
              "  .colab-df-quickchart-complete:disabled:hover {\n",
              "    background-color: var(--disabled-bg-color);\n",
              "    fill: var(--disabled-fill-color);\n",
              "    box-shadow: none;\n",
              "  }\n",
              "\n",
              "  .colab-df-spinner {\n",
              "    border: 2px solid var(--fill-color);\n",
              "    border-color: transparent;\n",
              "    border-bottom-color: var(--fill-color);\n",
              "    animation:\n",
              "      spin 1s steps(1) infinite;\n",
              "  }\n",
              "\n",
              "  @keyframes spin {\n",
              "    0% {\n",
              "      border-color: transparent;\n",
              "      border-bottom-color: var(--fill-color);\n",
              "      border-left-color: var(--fill-color);\n",
              "    }\n",
              "    20% {\n",
              "      border-color: transparent;\n",
              "      border-left-color: var(--fill-color);\n",
              "      border-top-color: var(--fill-color);\n",
              "    }\n",
              "    30% {\n",
              "      border-color: transparent;\n",
              "      border-left-color: var(--fill-color);\n",
              "      border-top-color: var(--fill-color);\n",
              "      border-right-color: var(--fill-color);\n",
              "    }\n",
              "    40% {\n",
              "      border-color: transparent;\n",
              "      border-right-color: var(--fill-color);\n",
              "      border-top-color: var(--fill-color);\n",
              "    }\n",
              "    60% {\n",
              "      border-color: transparent;\n",
              "      border-right-color: var(--fill-color);\n",
              "    }\n",
              "    80% {\n",
              "      border-color: transparent;\n",
              "      border-right-color: var(--fill-color);\n",
              "      border-bottom-color: var(--fill-color);\n",
              "    }\n",
              "    90% {\n",
              "      border-color: transparent;\n",
              "      border-bottom-color: var(--fill-color);\n",
              "    }\n",
              "  }\n",
              "</style>\n",
              "\n",
              "  <script>\n",
              "    async function quickchart(key) {\n",
              "      const quickchartButtonEl =\n",
              "        document.querySelector('#' + key + ' button');\n",
              "      quickchartButtonEl.disabled = true;  // To prevent multiple clicks.\n",
              "      quickchartButtonEl.classList.add('colab-df-spinner');\n",
              "      try {\n",
              "        const charts = await google.colab.kernel.invokeFunction(\n",
              "            'suggestCharts', [key], {});\n",
              "      } catch (error) {\n",
              "        console.error('Error during call to suggestCharts:', error);\n",
              "      }\n",
              "      quickchartButtonEl.classList.remove('colab-df-spinner');\n",
              "      quickchartButtonEl.classList.add('colab-df-quickchart-complete');\n",
              "    }\n",
              "    (() => {\n",
              "      let quickchartButtonEl =\n",
              "        document.querySelector('#df-fd4137f0-27d9-4ccf-ba07-a3373aaddcea button');\n",
              "      quickchartButtonEl.style.display =\n",
              "        google.colab.kernel.accessAllowed ? 'block' : 'none';\n",
              "    })();\n",
              "  </script>\n",
              "</div>\n",
              "\n",
              "    </div>\n",
              "  </div>\n"
            ],
            "application/vnd.google.colaboratory.intrinsic+json": {
              "type": "dataframe",
              "variable_name": "clean_hh",
              "summary": "{\n  \"name\": \"clean_hh\",\n  \"rows\": 20,\n  \"fields\": [\n    {\n      \"column\": \"season\",\n      \"properties\": {\n        \"dtype\": \"number\",\n        \"std\": 0,\n        \"min\": 1,\n        \"max\": 3,\n        \"num_unique_values\": 3,\n        \"samples\": [\n          1,\n          2,\n          3\n        ],\n        \"semantic_type\": \"\",\n        \"description\": \"\"\n      }\n    },\n    {\n      \"column\": \"episode\",\n      \"properties\": {\n        \"dtype\": \"number\",\n        \"std\": 2,\n        \"min\": 1,\n        \"max\": 8,\n        \"num_unique_values\": 8,\n        \"samples\": [\n          3,\n          2,\n          1\n        ],\n        \"semantic_type\": \"\",\n        \"description\": \"\"\n      }\n    },\n    {\n      \"column\": \"hotel\",\n      \"properties\": {\n        \"dtype\": \"string\",\n        \"num_unique_values\": 20,\n        \"samples\": [\n          \"juniper hill inn\",\n          \"brick hotel\",\n          \"town's inn\"\n        ],\n        \"semantic_type\": \"\",\n        \"description\": \"\"\n      }\n    },\n    {\n      \"column\": \"city\",\n      \"properties\": {\n        \"dtype\": \"string\",\n        \"num_unique_values\": 20,\n        \"samples\": [\n          \"windsor\",\n          \"newtown\",\n          \"harpers ferry\"\n        ],\n        \"semantic_type\": \"\",\n        \"description\": \"\"\n      }\n    },\n    {\n      \"column\": \"state\",\n      \"properties\": {\n        \"dtype\": \"string\",\n        \"num_unique_values\": 15,\n        \"samples\": [\n          \"mn\",\n          \"ma\",\n          \"vt\"\n        ],\n        \"semantic_type\": \"\",\n        \"description\": \"\"\n      }\n    },\n    {\n      \"column\": \"air_date\",\n      \"properties\": {\n        \"dtype\": \"object\",\n        \"num_unique_values\": 19,\n        \"samples\": [\n          \"2012-08-13\",\n          \"2014-07-28\",\n          \"2014-09-09\"\n        ],\n        \"semantic_type\": \"\",\n        \"description\": \"\"\n      }\n    },\n    {\n      \"column\": \"status\",\n      \"properties\": {\n        \"dtype\": \"category\",\n        \"num_unique_values\": 2,\n        \"samples\": [\n          \"open\",\n          \"closed\"\n        ],\n        \"semantic_type\": \"\",\n        \"description\": \"\"\n      }\n    },\n    {\n      \"column\": \"film_month\",\n      \"properties\": {\n        \"dtype\": \"object\",\n        \"num_unique_values\": 8,\n        \"samples\": [\n          \"Jan 2012\",\n          \"Nov 2015\"\n        ],\n        \"semantic_type\": \"\",\n        \"description\": \"\"\n      }\n    },\n    {\n      \"column\": \"closing_year\",\n      \"properties\": {\n        \"dtype\": \"number\",\n        \"std\": 3.467380462644282,\n        \"min\": 2012.0,\n        \"max\": 2022.0,\n        \"num_unique_values\": 7,\n        \"samples\": [\n          2014.0,\n          2012.0\n        ],\n        \"semantic_type\": \"\",\n        \"description\": \"\"\n      }\n    },\n    {\n      \"column\": \"two_parts\",\n      \"properties\": {\n        \"dtype\": \"category\",\n        \"num_unique_values\": 2,\n        \"samples\": [\n          \"no\",\n          \"yes\"\n        ],\n        \"semantic_type\": \"\",\n        \"description\": \"\"\n      }\n    }\n  ]\n}"
            }
          },
          "metadata": {},
          "execution_count": 60
        }
      ]
    },
    {
      "cell_type": "markdown",
      "source": [
        "3. NUMERIC DATA\n",
        "\n",
        "First, we will create a new column for film_year and remove film_month since the month does not tell us much in terms of analysis."
      ],
      "metadata": {
        "id": "yt2JsOEWe_dk"
      }
    },
    {
      "cell_type": "code",
      "source": [
        "#split 'film_month' column into 'month' and 'year' columns\n",
        "clean_hh[['month', 'year']] = clean_hh['film_month'].str.split(' ', expand=True)\n",
        "\n",
        "#remove 'month' and 'film_month' columns\n",
        "clean_hh = clean_hh.drop(columns=['film_month'])\n",
        "clean_hh = clean_hh.drop(columns=['month'])\n",
        "\n",
        "#relocate column back to original position\n",
        "col = clean_hh.pop('year')\n",
        "clean_hh.insert(7, 'year', col)\n",
        "\n",
        "#rename 'year' column\n",
        "clean_hh = clean_hh.rename(columns={'year': 'film_year'})\n",
        "\n",
        "clean_hh.head()"
      ],
      "metadata": {
        "colab": {
          "base_uri": "https://localhost:8080/",
          "height": 347
        },
        "id": "JyB-KiiWfH0Q",
        "outputId": "4008af53-8989-4621-ce6b-7411063c943c"
      },
      "execution_count": 61,
      "outputs": [
        {
          "output_type": "execute_result",
          "data": {
            "text/plain": [
              "   season  episode              hotel          city state    air_date  status  \\\n",
              "0       1        1   juniper hill inn       windsor    vt  2012-08-13  closed   \n",
              "1       1        3    cambridge hotel     cambridge    ny  2012-08-20  closed   \n",
              "2       1        4  the keating hotel     san diego    ca  2012-08-27    open   \n",
              "3       1        5     river rock inn       milford    pa  2012-09-03  closed   \n",
              "4       1        6  the roosevelt inn  cour d'alene    id  2012-09-03    open   \n",
              "\n",
              "  film_year  closing_year two_parts  \n",
              "0      2012        2014.0       yes  \n",
              "1      2012        2012.0        no  \n",
              "2      2011        2022.0        no  \n",
              "3      2012        2014.0        no  \n",
              "4      2012        2020.0        no  "
            ],
            "text/html": [
              "\n",
              "  <div id=\"df-a26cce59-9966-47bf-9cd6-0de98bc0e498\" class=\"colab-df-container\">\n",
              "    <div>\n",
              "<style scoped>\n",
              "    .dataframe tbody tr th:only-of-type {\n",
              "        vertical-align: middle;\n",
              "    }\n",
              "\n",
              "    .dataframe tbody tr th {\n",
              "        vertical-align: top;\n",
              "    }\n",
              "\n",
              "    .dataframe thead th {\n",
              "        text-align: right;\n",
              "    }\n",
              "</style>\n",
              "<table border=\"1\" class=\"dataframe\">\n",
              "  <thead>\n",
              "    <tr style=\"text-align: right;\">\n",
              "      <th></th>\n",
              "      <th>season</th>\n",
              "      <th>episode</th>\n",
              "      <th>hotel</th>\n",
              "      <th>city</th>\n",
              "      <th>state</th>\n",
              "      <th>air_date</th>\n",
              "      <th>status</th>\n",
              "      <th>film_year</th>\n",
              "      <th>closing_year</th>\n",
              "      <th>two_parts</th>\n",
              "    </tr>\n",
              "  </thead>\n",
              "  <tbody>\n",
              "    <tr>\n",
              "      <th>0</th>\n",
              "      <td>1</td>\n",
              "      <td>1</td>\n",
              "      <td>juniper hill inn</td>\n",
              "      <td>windsor</td>\n",
              "      <td>vt</td>\n",
              "      <td>2012-08-13</td>\n",
              "      <td>closed</td>\n",
              "      <td>2012</td>\n",
              "      <td>2014.0</td>\n",
              "      <td>yes</td>\n",
              "    </tr>\n",
              "    <tr>\n",
              "      <th>1</th>\n",
              "      <td>1</td>\n",
              "      <td>3</td>\n",
              "      <td>cambridge hotel</td>\n",
              "      <td>cambridge</td>\n",
              "      <td>ny</td>\n",
              "      <td>2012-08-20</td>\n",
              "      <td>closed</td>\n",
              "      <td>2012</td>\n",
              "      <td>2012.0</td>\n",
              "      <td>no</td>\n",
              "    </tr>\n",
              "    <tr>\n",
              "      <th>2</th>\n",
              "      <td>1</td>\n",
              "      <td>4</td>\n",
              "      <td>the keating hotel</td>\n",
              "      <td>san diego</td>\n",
              "      <td>ca</td>\n",
              "      <td>2012-08-27</td>\n",
              "      <td>open</td>\n",
              "      <td>2011</td>\n",
              "      <td>2022.0</td>\n",
              "      <td>no</td>\n",
              "    </tr>\n",
              "    <tr>\n",
              "      <th>3</th>\n",
              "      <td>1</td>\n",
              "      <td>5</td>\n",
              "      <td>river rock inn</td>\n",
              "      <td>milford</td>\n",
              "      <td>pa</td>\n",
              "      <td>2012-09-03</td>\n",
              "      <td>closed</td>\n",
              "      <td>2012</td>\n",
              "      <td>2014.0</td>\n",
              "      <td>no</td>\n",
              "    </tr>\n",
              "    <tr>\n",
              "      <th>4</th>\n",
              "      <td>1</td>\n",
              "      <td>6</td>\n",
              "      <td>the roosevelt inn</td>\n",
              "      <td>cour d'alene</td>\n",
              "      <td>id</td>\n",
              "      <td>2012-09-03</td>\n",
              "      <td>open</td>\n",
              "      <td>2012</td>\n",
              "      <td>2020.0</td>\n",
              "      <td>no</td>\n",
              "    </tr>\n",
              "  </tbody>\n",
              "</table>\n",
              "</div>\n",
              "    <div class=\"colab-df-buttons\">\n",
              "\n",
              "  <div class=\"colab-df-container\">\n",
              "    <button class=\"colab-df-convert\" onclick=\"convertToInteractive('df-a26cce59-9966-47bf-9cd6-0de98bc0e498')\"\n",
              "            title=\"Convert this dataframe to an interactive table.\"\n",
              "            style=\"display:none;\">\n",
              "\n",
              "  <svg xmlns=\"http://www.w3.org/2000/svg\" height=\"24px\" viewBox=\"0 -960 960 960\">\n",
              "    <path d=\"M120-120v-720h720v720H120Zm60-500h600v-160H180v160Zm220 220h160v-160H400v160Zm0 220h160v-160H400v160ZM180-400h160v-160H180v160Zm440 0h160v-160H620v160ZM180-180h160v-160H180v160Zm440 0h160v-160H620v160Z\"/>\n",
              "  </svg>\n",
              "    </button>\n",
              "\n",
              "  <style>\n",
              "    .colab-df-container {\n",
              "      display:flex;\n",
              "      gap: 12px;\n",
              "    }\n",
              "\n",
              "    .colab-df-convert {\n",
              "      background-color: #E8F0FE;\n",
              "      border: none;\n",
              "      border-radius: 50%;\n",
              "      cursor: pointer;\n",
              "      display: none;\n",
              "      fill: #1967D2;\n",
              "      height: 32px;\n",
              "      padding: 0 0 0 0;\n",
              "      width: 32px;\n",
              "    }\n",
              "\n",
              "    .colab-df-convert:hover {\n",
              "      background-color: #E2EBFA;\n",
              "      box-shadow: 0px 1px 2px rgba(60, 64, 67, 0.3), 0px 1px 3px 1px rgba(60, 64, 67, 0.15);\n",
              "      fill: #174EA6;\n",
              "    }\n",
              "\n",
              "    .colab-df-buttons div {\n",
              "      margin-bottom: 4px;\n",
              "    }\n",
              "\n",
              "    [theme=dark] .colab-df-convert {\n",
              "      background-color: #3B4455;\n",
              "      fill: #D2E3FC;\n",
              "    }\n",
              "\n",
              "    [theme=dark] .colab-df-convert:hover {\n",
              "      background-color: #434B5C;\n",
              "      box-shadow: 0px 1px 3px 1px rgba(0, 0, 0, 0.15);\n",
              "      filter: drop-shadow(0px 1px 2px rgba(0, 0, 0, 0.3));\n",
              "      fill: #FFFFFF;\n",
              "    }\n",
              "  </style>\n",
              "\n",
              "    <script>\n",
              "      const buttonEl =\n",
              "        document.querySelector('#df-a26cce59-9966-47bf-9cd6-0de98bc0e498 button.colab-df-convert');\n",
              "      buttonEl.style.display =\n",
              "        google.colab.kernel.accessAllowed ? 'block' : 'none';\n",
              "\n",
              "      async function convertToInteractive(key) {\n",
              "        const element = document.querySelector('#df-a26cce59-9966-47bf-9cd6-0de98bc0e498');\n",
              "        const dataTable =\n",
              "          await google.colab.kernel.invokeFunction('convertToInteractive',\n",
              "                                                    [key], {});\n",
              "        if (!dataTable) return;\n",
              "\n",
              "        const docLinkHtml = 'Like what you see? Visit the ' +\n",
              "          '<a target=\"_blank\" href=https://colab.research.google.com/notebooks/data_table.ipynb>data table notebook</a>'\n",
              "          + ' to learn more about interactive tables.';\n",
              "        element.innerHTML = '';\n",
              "        dataTable['output_type'] = 'display_data';\n",
              "        await google.colab.output.renderOutput(dataTable, element);\n",
              "        const docLink = document.createElement('div');\n",
              "        docLink.innerHTML = docLinkHtml;\n",
              "        element.appendChild(docLink);\n",
              "      }\n",
              "    </script>\n",
              "  </div>\n",
              "\n",
              "\n",
              "<div id=\"df-755f3bbf-f851-49f1-88d8-ba7aa4a90c1e\">\n",
              "  <button class=\"colab-df-quickchart\" onclick=\"quickchart('df-755f3bbf-f851-49f1-88d8-ba7aa4a90c1e')\"\n",
              "            title=\"Suggest charts\"\n",
              "            style=\"display:none;\">\n",
              "\n",
              "<svg xmlns=\"http://www.w3.org/2000/svg\" height=\"24px\"viewBox=\"0 0 24 24\"\n",
              "     width=\"24px\">\n",
              "    <g>\n",
              "        <path d=\"M19 3H5c-1.1 0-2 .9-2 2v14c0 1.1.9 2 2 2h14c1.1 0 2-.9 2-2V5c0-1.1-.9-2-2-2zM9 17H7v-7h2v7zm4 0h-2V7h2v10zm4 0h-2v-4h2v4z\"/>\n",
              "    </g>\n",
              "</svg>\n",
              "  </button>\n",
              "\n",
              "<style>\n",
              "  .colab-df-quickchart {\n",
              "      --bg-color: #E8F0FE;\n",
              "      --fill-color: #1967D2;\n",
              "      --hover-bg-color: #E2EBFA;\n",
              "      --hover-fill-color: #174EA6;\n",
              "      --disabled-fill-color: #AAA;\n",
              "      --disabled-bg-color: #DDD;\n",
              "  }\n",
              "\n",
              "  [theme=dark] .colab-df-quickchart {\n",
              "      --bg-color: #3B4455;\n",
              "      --fill-color: #D2E3FC;\n",
              "      --hover-bg-color: #434B5C;\n",
              "      --hover-fill-color: #FFFFFF;\n",
              "      --disabled-bg-color: #3B4455;\n",
              "      --disabled-fill-color: #666;\n",
              "  }\n",
              "\n",
              "  .colab-df-quickchart {\n",
              "    background-color: var(--bg-color);\n",
              "    border: none;\n",
              "    border-radius: 50%;\n",
              "    cursor: pointer;\n",
              "    display: none;\n",
              "    fill: var(--fill-color);\n",
              "    height: 32px;\n",
              "    padding: 0;\n",
              "    width: 32px;\n",
              "  }\n",
              "\n",
              "  .colab-df-quickchart:hover {\n",
              "    background-color: var(--hover-bg-color);\n",
              "    box-shadow: 0 1px 2px rgba(60, 64, 67, 0.3), 0 1px 3px 1px rgba(60, 64, 67, 0.15);\n",
              "    fill: var(--button-hover-fill-color);\n",
              "  }\n",
              "\n",
              "  .colab-df-quickchart-complete:disabled,\n",
              "  .colab-df-quickchart-complete:disabled:hover {\n",
              "    background-color: var(--disabled-bg-color);\n",
              "    fill: var(--disabled-fill-color);\n",
              "    box-shadow: none;\n",
              "  }\n",
              "\n",
              "  .colab-df-spinner {\n",
              "    border: 2px solid var(--fill-color);\n",
              "    border-color: transparent;\n",
              "    border-bottom-color: var(--fill-color);\n",
              "    animation:\n",
              "      spin 1s steps(1) infinite;\n",
              "  }\n",
              "\n",
              "  @keyframes spin {\n",
              "    0% {\n",
              "      border-color: transparent;\n",
              "      border-bottom-color: var(--fill-color);\n",
              "      border-left-color: var(--fill-color);\n",
              "    }\n",
              "    20% {\n",
              "      border-color: transparent;\n",
              "      border-left-color: var(--fill-color);\n",
              "      border-top-color: var(--fill-color);\n",
              "    }\n",
              "    30% {\n",
              "      border-color: transparent;\n",
              "      border-left-color: var(--fill-color);\n",
              "      border-top-color: var(--fill-color);\n",
              "      border-right-color: var(--fill-color);\n",
              "    }\n",
              "    40% {\n",
              "      border-color: transparent;\n",
              "      border-right-color: var(--fill-color);\n",
              "      border-top-color: var(--fill-color);\n",
              "    }\n",
              "    60% {\n",
              "      border-color: transparent;\n",
              "      border-right-color: var(--fill-color);\n",
              "    }\n",
              "    80% {\n",
              "      border-color: transparent;\n",
              "      border-right-color: var(--fill-color);\n",
              "      border-bottom-color: var(--fill-color);\n",
              "    }\n",
              "    90% {\n",
              "      border-color: transparent;\n",
              "      border-bottom-color: var(--fill-color);\n",
              "    }\n",
              "  }\n",
              "</style>\n",
              "\n",
              "  <script>\n",
              "    async function quickchart(key) {\n",
              "      const quickchartButtonEl =\n",
              "        document.querySelector('#' + key + ' button');\n",
              "      quickchartButtonEl.disabled = true;  // To prevent multiple clicks.\n",
              "      quickchartButtonEl.classList.add('colab-df-spinner');\n",
              "      try {\n",
              "        const charts = await google.colab.kernel.invokeFunction(\n",
              "            'suggestCharts', [key], {});\n",
              "      } catch (error) {\n",
              "        console.error('Error during call to suggestCharts:', error);\n",
              "      }\n",
              "      quickchartButtonEl.classList.remove('colab-df-spinner');\n",
              "      quickchartButtonEl.classList.add('colab-df-quickchart-complete');\n",
              "    }\n",
              "    (() => {\n",
              "      let quickchartButtonEl =\n",
              "        document.querySelector('#df-755f3bbf-f851-49f1-88d8-ba7aa4a90c1e button');\n",
              "      quickchartButtonEl.style.display =\n",
              "        google.colab.kernel.accessAllowed ? 'block' : 'none';\n",
              "    })();\n",
              "  </script>\n",
              "</div>\n",
              "\n",
              "    </div>\n",
              "  </div>\n"
            ],
            "application/vnd.google.colaboratory.intrinsic+json": {
              "type": "dataframe",
              "variable_name": "clean_hh",
              "summary": "{\n  \"name\": \"clean_hh\",\n  \"rows\": 20,\n  \"fields\": [\n    {\n      \"column\": \"season\",\n      \"properties\": {\n        \"dtype\": \"number\",\n        \"std\": 0,\n        \"min\": 1,\n        \"max\": 3,\n        \"num_unique_values\": 3,\n        \"samples\": [\n          1,\n          2,\n          3\n        ],\n        \"semantic_type\": \"\",\n        \"description\": \"\"\n      }\n    },\n    {\n      \"column\": \"episode\",\n      \"properties\": {\n        \"dtype\": \"number\",\n        \"std\": 2,\n        \"min\": 1,\n        \"max\": 8,\n        \"num_unique_values\": 8,\n        \"samples\": [\n          3,\n          2,\n          1\n        ],\n        \"semantic_type\": \"\",\n        \"description\": \"\"\n      }\n    },\n    {\n      \"column\": \"hotel\",\n      \"properties\": {\n        \"dtype\": \"string\",\n        \"num_unique_values\": 20,\n        \"samples\": [\n          \"juniper hill inn\",\n          \"brick hotel\",\n          \"town's inn\"\n        ],\n        \"semantic_type\": \"\",\n        \"description\": \"\"\n      }\n    },\n    {\n      \"column\": \"city\",\n      \"properties\": {\n        \"dtype\": \"string\",\n        \"num_unique_values\": 20,\n        \"samples\": [\n          \"windsor\",\n          \"newtown\",\n          \"harpers ferry\"\n        ],\n        \"semantic_type\": \"\",\n        \"description\": \"\"\n      }\n    },\n    {\n      \"column\": \"state\",\n      \"properties\": {\n        \"dtype\": \"string\",\n        \"num_unique_values\": 15,\n        \"samples\": [\n          \"mn\",\n          \"ma\",\n          \"vt\"\n        ],\n        \"semantic_type\": \"\",\n        \"description\": \"\"\n      }\n    },\n    {\n      \"column\": \"air_date\",\n      \"properties\": {\n        \"dtype\": \"object\",\n        \"num_unique_values\": 19,\n        \"samples\": [\n          \"2012-08-13\",\n          \"2014-07-28\",\n          \"2014-09-09\"\n        ],\n        \"semantic_type\": \"\",\n        \"description\": \"\"\n      }\n    },\n    {\n      \"column\": \"status\",\n      \"properties\": {\n        \"dtype\": \"category\",\n        \"num_unique_values\": 2,\n        \"samples\": [\n          \"open\",\n          \"closed\"\n        ],\n        \"semantic_type\": \"\",\n        \"description\": \"\"\n      }\n    },\n    {\n      \"column\": \"film_year\",\n      \"properties\": {\n        \"dtype\": \"object\",\n        \"num_unique_values\": 4,\n        \"samples\": [\n          \"2011\",\n          \"2015\"\n        ],\n        \"semantic_type\": \"\",\n        \"description\": \"\"\n      }\n    },\n    {\n      \"column\": \"closing_year\",\n      \"properties\": {\n        \"dtype\": \"number\",\n        \"std\": 3.467380462644282,\n        \"min\": 2012.0,\n        \"max\": 2022.0,\n        \"num_unique_values\": 7,\n        \"samples\": [\n          2014.0,\n          2012.0\n        ],\n        \"semantic_type\": \"\",\n        \"description\": \"\"\n      }\n    },\n    {\n      \"column\": \"two_parts\",\n      \"properties\": {\n        \"dtype\": \"category\",\n        \"num_unique_values\": 2,\n        \"samples\": [\n          \"no\",\n          \"yes\"\n        ],\n        \"semantic_type\": \"\",\n        \"description\": \"\"\n      }\n    }\n  ]\n}"
            }
          },
          "metadata": {},
          "execution_count": 61
        }
      ]
    },
    {
      "cell_type": "markdown",
      "source": [
        "We have four columns of data that need to be read in as numeric data by Python (season, episode, film_year, closing_year)."
      ],
      "metadata": {
        "id": "UekKcYBYfXpB"
      }
    },
    {
      "cell_type": "code",
      "source": [
        "clean_hh['season'] = pd.to_numeric(clean_hh['season'])\n",
        "clean_hh['episode'] = pd.to_numeric(clean_hh['episode'])\n",
        "clean_hh['film_year'] = pd.to_numeric(clean_hh['film_year'])\n",
        "clean_hh['closing_year'] = pd.to_numeric(clean_hh['closing_year'])\n",
        "\n",
        "clean_hh.info()"
      ],
      "metadata": {
        "colab": {
          "base_uri": "https://localhost:8080/"
        },
        "id": "qo6TE30qff0_",
        "outputId": "9b7524bb-595f-428f-9499-6a438d0a365b"
      },
      "execution_count": 63,
      "outputs": [
        {
          "output_type": "stream",
          "name": "stdout",
          "text": [
            "<class 'pandas.core.frame.DataFrame'>\n",
            "RangeIndex: 20 entries, 0 to 19\n",
            "Data columns (total 10 columns):\n",
            " #   Column        Non-Null Count  Dtype  \n",
            "---  ------        --------------  -----  \n",
            " 0   season        20 non-null     int64  \n",
            " 1   episode       20 non-null     int64  \n",
            " 2   hotel         20 non-null     object \n",
            " 3   city          20 non-null     object \n",
            " 4   state         20 non-null     object \n",
            " 5   air_date      20 non-null     object \n",
            " 6   status        20 non-null     object \n",
            " 7   film_year     20 non-null     int64  \n",
            " 8   closing_year  12 non-null     float64\n",
            " 9   two_parts     20 non-null     object \n",
            "dtypes: float64(1), int64(3), object(6)\n",
            "memory usage: 1.7+ KB\n"
          ]
        }
      ]
    },
    {
      "cell_type": "markdown",
      "source": [
        "4. DATE DATA\n",
        "\n",
        "There is one column that needs to be recognized as a date format (air_date)."
      ],
      "metadata": {
        "id": "ZYZu20q_fx-W"
      }
    },
    {
      "cell_type": "code",
      "source": [
        "clean_hh['air_date'] = pd.to_datetime(clean_hh['air_date'])\n",
        "\n",
        "clean_hh.info()"
      ],
      "metadata": {
        "colab": {
          "base_uri": "https://localhost:8080/"
        },
        "id": "itstxFZNfzq5",
        "outputId": "733ad519-46ed-4fc4-a643-a1988c9890de"
      },
      "execution_count": 64,
      "outputs": [
        {
          "output_type": "stream",
          "name": "stdout",
          "text": [
            "<class 'pandas.core.frame.DataFrame'>\n",
            "RangeIndex: 20 entries, 0 to 19\n",
            "Data columns (total 10 columns):\n",
            " #   Column        Non-Null Count  Dtype         \n",
            "---  ------        --------------  -----         \n",
            " 0   season        20 non-null     int64         \n",
            " 1   episode       20 non-null     int64         \n",
            " 2   hotel         20 non-null     object        \n",
            " 3   city          20 non-null     object        \n",
            " 4   state         20 non-null     object        \n",
            " 5   air_date      20 non-null     datetime64[ns]\n",
            " 6   status        20 non-null     object        \n",
            " 7   film_year     20 non-null     int64         \n",
            " 8   closing_year  12 non-null     float64       \n",
            " 9   two_parts     20 non-null     object        \n",
            "dtypes: datetime64[ns](1), float64(1), int64(3), object(5)\n",
            "memory usage: 1.7+ KB\n"
          ]
        }
      ]
    },
    {
      "cell_type": "markdown",
      "source": [
        "5. Finally, we'll save the formatted data as a CSV file."
      ],
      "metadata": {
        "id": "-5kO1rgEgElZ"
      }
    },
    {
      "cell_type": "code",
      "source": [
        "clean_hh.to_feather('formatted_hotel_hell.feather')"
      ],
      "metadata": {
        "id": "CHrKGIkagL53"
      },
      "execution_count": 68,
      "outputs": []
    },
    {
      "cell_type": "markdown",
      "source": [
        "# Merging KN/HH Data"
      ],
      "metadata": {
        "id": "_jpOyJB2gW9v"
      }
    },
    {
      "cell_type": "markdown",
      "source": [
        "1. Read in Formatted Kitchen Nightmares data from Github."
      ],
      "metadata": {
        "id": "jLxMO4-2u-Xn"
      }
    },
    {
      "cell_type": "code",
      "source": [
        "formatted_kn_link = \"https://github.com/Personal-Portfolio-Gordon-Ramsay-TCG/Gordon_Ramsay/raw/refs/heads/main/Formatted%20Data/formatted_kitchen_nightmares.feather\"\n",
        "\n",
        "formatted_kn = pd.read_feather(formatted_kn_link)\n",
        "\n",
        "formatted_kn.head()"
      ],
      "metadata": {
        "colab": {
          "base_uri": "https://localhost:8080/",
          "height": 206
        },
        "id": "HSppDhSTgaqV",
        "outputId": "7a29fd7a-1417-4323-cd19-c1311c6842be"
      },
      "execution_count": 71,
      "outputs": [
        {
          "output_type": "execute_result",
          "data": {
            "text/plain": [
              "   season  episode           restaurant           city state   air_date  \\\n",
              "0       1        1              peter's        babylon    ny 2007-09-19   \n",
              "1       1        2             dillon's  new york city    ny 2007-09-26   \n",
              "2       1        3      the mixing bowl       bellmore    ny 2007-10-03   \n",
              "3       1        4             seascape          islip    ny 2007-10-10   \n",
              "4       1        5  the olde stone mill       tuckahoe    ny 2007-10-17   \n",
              "\n",
              "   status  film_year  closing_year   cuisine revisited two_parts  \n",
              "0  closed       2007        2008.0   italian        no        no  \n",
              "1  closed       2007        2008.0    indian        no        no  \n",
              "2  closed       2007        2009.0  american        no        no  \n",
              "3  closed       2007        2007.0   seafood        no        no  \n",
              "4  closed       2007        2022.0  american       yes        no  "
            ],
            "text/html": [
              "\n",
              "  <div id=\"df-990d549a-04da-4be1-bbe5-ee04b81bfb87\" class=\"colab-df-container\">\n",
              "    <div>\n",
              "<style scoped>\n",
              "    .dataframe tbody tr th:only-of-type {\n",
              "        vertical-align: middle;\n",
              "    }\n",
              "\n",
              "    .dataframe tbody tr th {\n",
              "        vertical-align: top;\n",
              "    }\n",
              "\n",
              "    .dataframe thead th {\n",
              "        text-align: right;\n",
              "    }\n",
              "</style>\n",
              "<table border=\"1\" class=\"dataframe\">\n",
              "  <thead>\n",
              "    <tr style=\"text-align: right;\">\n",
              "      <th></th>\n",
              "      <th>season</th>\n",
              "      <th>episode</th>\n",
              "      <th>restaurant</th>\n",
              "      <th>city</th>\n",
              "      <th>state</th>\n",
              "      <th>air_date</th>\n",
              "      <th>status</th>\n",
              "      <th>film_year</th>\n",
              "      <th>closing_year</th>\n",
              "      <th>cuisine</th>\n",
              "      <th>revisited</th>\n",
              "      <th>two_parts</th>\n",
              "    </tr>\n",
              "  </thead>\n",
              "  <tbody>\n",
              "    <tr>\n",
              "      <th>0</th>\n",
              "      <td>1</td>\n",
              "      <td>1</td>\n",
              "      <td>peter's</td>\n",
              "      <td>babylon</td>\n",
              "      <td>ny</td>\n",
              "      <td>2007-09-19</td>\n",
              "      <td>closed</td>\n",
              "      <td>2007</td>\n",
              "      <td>2008.0</td>\n",
              "      <td>italian</td>\n",
              "      <td>no</td>\n",
              "      <td>no</td>\n",
              "    </tr>\n",
              "    <tr>\n",
              "      <th>1</th>\n",
              "      <td>1</td>\n",
              "      <td>2</td>\n",
              "      <td>dillon's</td>\n",
              "      <td>new york city</td>\n",
              "      <td>ny</td>\n",
              "      <td>2007-09-26</td>\n",
              "      <td>closed</td>\n",
              "      <td>2007</td>\n",
              "      <td>2008.0</td>\n",
              "      <td>indian</td>\n",
              "      <td>no</td>\n",
              "      <td>no</td>\n",
              "    </tr>\n",
              "    <tr>\n",
              "      <th>2</th>\n",
              "      <td>1</td>\n",
              "      <td>3</td>\n",
              "      <td>the mixing bowl</td>\n",
              "      <td>bellmore</td>\n",
              "      <td>ny</td>\n",
              "      <td>2007-10-03</td>\n",
              "      <td>closed</td>\n",
              "      <td>2007</td>\n",
              "      <td>2009.0</td>\n",
              "      <td>american</td>\n",
              "      <td>no</td>\n",
              "      <td>no</td>\n",
              "    </tr>\n",
              "    <tr>\n",
              "      <th>3</th>\n",
              "      <td>1</td>\n",
              "      <td>4</td>\n",
              "      <td>seascape</td>\n",
              "      <td>islip</td>\n",
              "      <td>ny</td>\n",
              "      <td>2007-10-10</td>\n",
              "      <td>closed</td>\n",
              "      <td>2007</td>\n",
              "      <td>2007.0</td>\n",
              "      <td>seafood</td>\n",
              "      <td>no</td>\n",
              "      <td>no</td>\n",
              "    </tr>\n",
              "    <tr>\n",
              "      <th>4</th>\n",
              "      <td>1</td>\n",
              "      <td>5</td>\n",
              "      <td>the olde stone mill</td>\n",
              "      <td>tuckahoe</td>\n",
              "      <td>ny</td>\n",
              "      <td>2007-10-17</td>\n",
              "      <td>closed</td>\n",
              "      <td>2007</td>\n",
              "      <td>2022.0</td>\n",
              "      <td>american</td>\n",
              "      <td>yes</td>\n",
              "      <td>no</td>\n",
              "    </tr>\n",
              "  </tbody>\n",
              "</table>\n",
              "</div>\n",
              "    <div class=\"colab-df-buttons\">\n",
              "\n",
              "  <div class=\"colab-df-container\">\n",
              "    <button class=\"colab-df-convert\" onclick=\"convertToInteractive('df-990d549a-04da-4be1-bbe5-ee04b81bfb87')\"\n",
              "            title=\"Convert this dataframe to an interactive table.\"\n",
              "            style=\"display:none;\">\n",
              "\n",
              "  <svg xmlns=\"http://www.w3.org/2000/svg\" height=\"24px\" viewBox=\"0 -960 960 960\">\n",
              "    <path d=\"M120-120v-720h720v720H120Zm60-500h600v-160H180v160Zm220 220h160v-160H400v160Zm0 220h160v-160H400v160ZM180-400h160v-160H180v160Zm440 0h160v-160H620v160ZM180-180h160v-160H180v160Zm440 0h160v-160H620v160Z\"/>\n",
              "  </svg>\n",
              "    </button>\n",
              "\n",
              "  <style>\n",
              "    .colab-df-container {\n",
              "      display:flex;\n",
              "      gap: 12px;\n",
              "    }\n",
              "\n",
              "    .colab-df-convert {\n",
              "      background-color: #E8F0FE;\n",
              "      border: none;\n",
              "      border-radius: 50%;\n",
              "      cursor: pointer;\n",
              "      display: none;\n",
              "      fill: #1967D2;\n",
              "      height: 32px;\n",
              "      padding: 0 0 0 0;\n",
              "      width: 32px;\n",
              "    }\n",
              "\n",
              "    .colab-df-convert:hover {\n",
              "      background-color: #E2EBFA;\n",
              "      box-shadow: 0px 1px 2px rgba(60, 64, 67, 0.3), 0px 1px 3px 1px rgba(60, 64, 67, 0.15);\n",
              "      fill: #174EA6;\n",
              "    }\n",
              "\n",
              "    .colab-df-buttons div {\n",
              "      margin-bottom: 4px;\n",
              "    }\n",
              "\n",
              "    [theme=dark] .colab-df-convert {\n",
              "      background-color: #3B4455;\n",
              "      fill: #D2E3FC;\n",
              "    }\n",
              "\n",
              "    [theme=dark] .colab-df-convert:hover {\n",
              "      background-color: #434B5C;\n",
              "      box-shadow: 0px 1px 3px 1px rgba(0, 0, 0, 0.15);\n",
              "      filter: drop-shadow(0px 1px 2px rgba(0, 0, 0, 0.3));\n",
              "      fill: #FFFFFF;\n",
              "    }\n",
              "  </style>\n",
              "\n",
              "    <script>\n",
              "      const buttonEl =\n",
              "        document.querySelector('#df-990d549a-04da-4be1-bbe5-ee04b81bfb87 button.colab-df-convert');\n",
              "      buttonEl.style.display =\n",
              "        google.colab.kernel.accessAllowed ? 'block' : 'none';\n",
              "\n",
              "      async function convertToInteractive(key) {\n",
              "        const element = document.querySelector('#df-990d549a-04da-4be1-bbe5-ee04b81bfb87');\n",
              "        const dataTable =\n",
              "          await google.colab.kernel.invokeFunction('convertToInteractive',\n",
              "                                                    [key], {});\n",
              "        if (!dataTable) return;\n",
              "\n",
              "        const docLinkHtml = 'Like what you see? Visit the ' +\n",
              "          '<a target=\"_blank\" href=https://colab.research.google.com/notebooks/data_table.ipynb>data table notebook</a>'\n",
              "          + ' to learn more about interactive tables.';\n",
              "        element.innerHTML = '';\n",
              "        dataTable['output_type'] = 'display_data';\n",
              "        await google.colab.output.renderOutput(dataTable, element);\n",
              "        const docLink = document.createElement('div');\n",
              "        docLink.innerHTML = docLinkHtml;\n",
              "        element.appendChild(docLink);\n",
              "      }\n",
              "    </script>\n",
              "  </div>\n",
              "\n",
              "\n",
              "<div id=\"df-5d43c01e-c01e-4433-b211-1c3410c7dc5c\">\n",
              "  <button class=\"colab-df-quickchart\" onclick=\"quickchart('df-5d43c01e-c01e-4433-b211-1c3410c7dc5c')\"\n",
              "            title=\"Suggest charts\"\n",
              "            style=\"display:none;\">\n",
              "\n",
              "<svg xmlns=\"http://www.w3.org/2000/svg\" height=\"24px\"viewBox=\"0 0 24 24\"\n",
              "     width=\"24px\">\n",
              "    <g>\n",
              "        <path d=\"M19 3H5c-1.1 0-2 .9-2 2v14c0 1.1.9 2 2 2h14c1.1 0 2-.9 2-2V5c0-1.1-.9-2-2-2zM9 17H7v-7h2v7zm4 0h-2V7h2v10zm4 0h-2v-4h2v4z\"/>\n",
              "    </g>\n",
              "</svg>\n",
              "  </button>\n",
              "\n",
              "<style>\n",
              "  .colab-df-quickchart {\n",
              "      --bg-color: #E8F0FE;\n",
              "      --fill-color: #1967D2;\n",
              "      --hover-bg-color: #E2EBFA;\n",
              "      --hover-fill-color: #174EA6;\n",
              "      --disabled-fill-color: #AAA;\n",
              "      --disabled-bg-color: #DDD;\n",
              "  }\n",
              "\n",
              "  [theme=dark] .colab-df-quickchart {\n",
              "      --bg-color: #3B4455;\n",
              "      --fill-color: #D2E3FC;\n",
              "      --hover-bg-color: #434B5C;\n",
              "      --hover-fill-color: #FFFFFF;\n",
              "      --disabled-bg-color: #3B4455;\n",
              "      --disabled-fill-color: #666;\n",
              "  }\n",
              "\n",
              "  .colab-df-quickchart {\n",
              "    background-color: var(--bg-color);\n",
              "    border: none;\n",
              "    border-radius: 50%;\n",
              "    cursor: pointer;\n",
              "    display: none;\n",
              "    fill: var(--fill-color);\n",
              "    height: 32px;\n",
              "    padding: 0;\n",
              "    width: 32px;\n",
              "  }\n",
              "\n",
              "  .colab-df-quickchart:hover {\n",
              "    background-color: var(--hover-bg-color);\n",
              "    box-shadow: 0 1px 2px rgba(60, 64, 67, 0.3), 0 1px 3px 1px rgba(60, 64, 67, 0.15);\n",
              "    fill: var(--button-hover-fill-color);\n",
              "  }\n",
              "\n",
              "  .colab-df-quickchart-complete:disabled,\n",
              "  .colab-df-quickchart-complete:disabled:hover {\n",
              "    background-color: var(--disabled-bg-color);\n",
              "    fill: var(--disabled-fill-color);\n",
              "    box-shadow: none;\n",
              "  }\n",
              "\n",
              "  .colab-df-spinner {\n",
              "    border: 2px solid var(--fill-color);\n",
              "    border-color: transparent;\n",
              "    border-bottom-color: var(--fill-color);\n",
              "    animation:\n",
              "      spin 1s steps(1) infinite;\n",
              "  }\n",
              "\n",
              "  @keyframes spin {\n",
              "    0% {\n",
              "      border-color: transparent;\n",
              "      border-bottom-color: var(--fill-color);\n",
              "      border-left-color: var(--fill-color);\n",
              "    }\n",
              "    20% {\n",
              "      border-color: transparent;\n",
              "      border-left-color: var(--fill-color);\n",
              "      border-top-color: var(--fill-color);\n",
              "    }\n",
              "    30% {\n",
              "      border-color: transparent;\n",
              "      border-left-color: var(--fill-color);\n",
              "      border-top-color: var(--fill-color);\n",
              "      border-right-color: var(--fill-color);\n",
              "    }\n",
              "    40% {\n",
              "      border-color: transparent;\n",
              "      border-right-color: var(--fill-color);\n",
              "      border-top-color: var(--fill-color);\n",
              "    }\n",
              "    60% {\n",
              "      border-color: transparent;\n",
              "      border-right-color: var(--fill-color);\n",
              "    }\n",
              "    80% {\n",
              "      border-color: transparent;\n",
              "      border-right-color: var(--fill-color);\n",
              "      border-bottom-color: var(--fill-color);\n",
              "    }\n",
              "    90% {\n",
              "      border-color: transparent;\n",
              "      border-bottom-color: var(--fill-color);\n",
              "    }\n",
              "  }\n",
              "</style>\n",
              "\n",
              "  <script>\n",
              "    async function quickchart(key) {\n",
              "      const quickchartButtonEl =\n",
              "        document.querySelector('#' + key + ' button');\n",
              "      quickchartButtonEl.disabled = true;  // To prevent multiple clicks.\n",
              "      quickchartButtonEl.classList.add('colab-df-spinner');\n",
              "      try {\n",
              "        const charts = await google.colab.kernel.invokeFunction(\n",
              "            'suggestCharts', [key], {});\n",
              "      } catch (error) {\n",
              "        console.error('Error during call to suggestCharts:', error);\n",
              "      }\n",
              "      quickchartButtonEl.classList.remove('colab-df-spinner');\n",
              "      quickchartButtonEl.classList.add('colab-df-quickchart-complete');\n",
              "    }\n",
              "    (() => {\n",
              "      let quickchartButtonEl =\n",
              "        document.querySelector('#df-5d43c01e-c01e-4433-b211-1c3410c7dc5c button');\n",
              "      quickchartButtonEl.style.display =\n",
              "        google.colab.kernel.accessAllowed ? 'block' : 'none';\n",
              "    })();\n",
              "  </script>\n",
              "</div>\n",
              "\n",
              "    </div>\n",
              "  </div>\n"
            ],
            "application/vnd.google.colaboratory.intrinsic+json": {
              "type": "dataframe",
              "variable_name": "formatted_kn",
              "summary": "{\n  \"name\": \"formatted_kn\",\n  \"rows\": 87,\n  \"fields\": [\n    {\n      \"column\": \"season\",\n      \"properties\": {\n        \"dtype\": \"number\",\n        \"std\": 2,\n        \"min\": 1,\n        \"max\": 8,\n        \"num_unique_values\": 8,\n        \"samples\": [\n          2,\n          6,\n          1\n        ],\n        \"semantic_type\": \"\",\n        \"description\": \"\"\n      }\n    },\n    {\n      \"column\": \"episode\",\n      \"properties\": {\n        \"dtype\": \"number\",\n        \"std\": 4,\n        \"min\": 1,\n        \"max\": 17,\n        \"num_unique_values\": 17,\n        \"samples\": [\n          1,\n          2,\n          6\n        ],\n        \"semantic_type\": \"\",\n        \"description\": \"\"\n      }\n    },\n    {\n      \"column\": \"restaurant\",\n      \"properties\": {\n        \"dtype\": \"string\",\n        \"num_unique_values\": 87,\n        \"samples\": [\n          \"bella luna\",\n          \"peter's\",\n          \"le bistro\"\n        ],\n        \"semantic_type\": \"\",\n        \"description\": \"\"\n      }\n    },\n    {\n      \"column\": \"city\",\n      \"properties\": {\n        \"dtype\": \"string\",\n        \"num_unique_values\": 77,\n        \"samples\": [\n          \"tuckahoe\",\n          \"providence\",\n          \"mount sinai\"\n        ],\n        \"semantic_type\": \"\",\n        \"description\": \"\"\n      }\n    },\n    {\n      \"column\": \"state\",\n      \"properties\": {\n        \"dtype\": \"category\",\n        \"num_unique_values\": 20,\n        \"samples\": [\n          \"ny\",\n          \"tn\",\n          \"oh\"\n        ],\n        \"semantic_type\": \"\",\n        \"description\": \"\"\n      }\n    },\n    {\n      \"column\": \"air_date\",\n      \"properties\": {\n        \"dtype\": \"date\",\n        \"min\": \"2007-09-19 00:00:00\",\n        \"max\": \"2023-12-04 00:00:00\",\n        \"num_unique_values\": 82,\n        \"samples\": [\n          \"2011-01-28 00:00:00\",\n          \"2007-09-19 00:00:00\",\n          \"2010-03-04 00:00:00\"\n        ],\n        \"semantic_type\": \"\",\n        \"description\": \"\"\n      }\n    },\n    {\n      \"column\": \"status\",\n      \"properties\": {\n        \"dtype\": \"category\",\n        \"num_unique_values\": 2,\n        \"samples\": [\n          \"open\",\n          \"closed\"\n        ],\n        \"semantic_type\": \"\",\n        \"description\": \"\"\n      }\n    },\n    {\n      \"column\": \"film_year\",\n      \"properties\": {\n        \"dtype\": \"number\",\n        \"std\": 4,\n        \"min\": 2007,\n        \"max\": 2023,\n        \"num_unique_values\": 8,\n        \"samples\": [\n          2008,\n          2012\n        ],\n        \"semantic_type\": \"\",\n        \"description\": \"\"\n      }\n    },\n    {\n      \"column\": \"closing_year\",\n      \"properties\": {\n        \"dtype\": \"number\",\n        \"std\": 4.426826790669782,\n        \"min\": 2007.0,\n        \"max\": 2024.0,\n        \"num_unique_values\": 16,\n        \"samples\": [\n          2008.0,\n          2009.0\n        ],\n        \"semantic_type\": \"\",\n        \"description\": \"\"\n      }\n    },\n    {\n      \"column\": \"cuisine\",\n      \"properties\": {\n        \"dtype\": \"category\",\n        \"num_unique_values\": 27,\n        \"samples\": [\n          \"mexican\",\n          \"japanese\"\n        ],\n        \"semantic_type\": \"\",\n        \"description\": \"\"\n      }\n    },\n    {\n      \"column\": \"revisited\",\n      \"properties\": {\n        \"dtype\": \"category\",\n        \"num_unique_values\": 2,\n        \"samples\": [\n          \"yes\",\n          \"no\"\n        ],\n        \"semantic_type\": \"\",\n        \"description\": \"\"\n      }\n    },\n    {\n      \"column\": \"two_parts\",\n      \"properties\": {\n        \"dtype\": \"category\",\n        \"num_unique_values\": 2,\n        \"samples\": [\n          \"yes\",\n          \"no\"\n        ],\n        \"semantic_type\": \"\",\n        \"description\": \"\"\n      }\n    }\n  ]\n}"
            }
          },
          "metadata": {},
          "execution_count": 71
        }
      ]
    },
    {
      "cell_type": "markdown",
      "source": [
        "2. Read in Formatted Hotel Hell data from Github."
      ],
      "metadata": {
        "id": "CIsfE44BxFJy"
      }
    },
    {
      "cell_type": "code",
      "source": [
        "formatted_hh_link = \"https://github.com/Personal-Portfolio-Gordon-Ramsay-TCG/Gordon_Ramsay/raw/refs/heads/main/Formatted%20Data/formatted_hotel_hell.feather\"\n",
        "\n",
        "formatted_hh = pd.read_feather(formatted_hh_link)\n",
        "\n",
        "formatted_hh.head()"
      ],
      "metadata": {
        "colab": {
          "base_uri": "https://localhost:8080/",
          "height": 206
        },
        "id": "SpOWphT1xK0o",
        "outputId": "36a5c414-ed1c-46a9-9487-38601e7cf165"
      },
      "execution_count": 72,
      "outputs": [
        {
          "output_type": "execute_result",
          "data": {
            "text/plain": [
              "   season  episode              hotel          city state   air_date  status  \\\n",
              "0       1        1   juniper hill inn       windsor    vt 2012-08-13  closed   \n",
              "1       1        3    cambridge hotel     cambridge    ny 2012-08-20  closed   \n",
              "2       1        4  the keating hotel     san diego    ca 2012-08-27    open   \n",
              "3       1        5     river rock inn       milford    pa 2012-09-03  closed   \n",
              "4       1        6  the roosevelt inn  cour d'alene    id 2012-09-03    open   \n",
              "\n",
              "   film_year  closing_year two_parts  \n",
              "0       2012        2014.0       yes  \n",
              "1       2012        2012.0        no  \n",
              "2       2011        2022.0        no  \n",
              "3       2012        2014.0        no  \n",
              "4       2012        2020.0        no  "
            ],
            "text/html": [
              "\n",
              "  <div id=\"df-29e4a2e4-b77a-45b5-8c85-2989355d4a82\" class=\"colab-df-container\">\n",
              "    <div>\n",
              "<style scoped>\n",
              "    .dataframe tbody tr th:only-of-type {\n",
              "        vertical-align: middle;\n",
              "    }\n",
              "\n",
              "    .dataframe tbody tr th {\n",
              "        vertical-align: top;\n",
              "    }\n",
              "\n",
              "    .dataframe thead th {\n",
              "        text-align: right;\n",
              "    }\n",
              "</style>\n",
              "<table border=\"1\" class=\"dataframe\">\n",
              "  <thead>\n",
              "    <tr style=\"text-align: right;\">\n",
              "      <th></th>\n",
              "      <th>season</th>\n",
              "      <th>episode</th>\n",
              "      <th>hotel</th>\n",
              "      <th>city</th>\n",
              "      <th>state</th>\n",
              "      <th>air_date</th>\n",
              "      <th>status</th>\n",
              "      <th>film_year</th>\n",
              "      <th>closing_year</th>\n",
              "      <th>two_parts</th>\n",
              "    </tr>\n",
              "  </thead>\n",
              "  <tbody>\n",
              "    <tr>\n",
              "      <th>0</th>\n",
              "      <td>1</td>\n",
              "      <td>1</td>\n",
              "      <td>juniper hill inn</td>\n",
              "      <td>windsor</td>\n",
              "      <td>vt</td>\n",
              "      <td>2012-08-13</td>\n",
              "      <td>closed</td>\n",
              "      <td>2012</td>\n",
              "      <td>2014.0</td>\n",
              "      <td>yes</td>\n",
              "    </tr>\n",
              "    <tr>\n",
              "      <th>1</th>\n",
              "      <td>1</td>\n",
              "      <td>3</td>\n",
              "      <td>cambridge hotel</td>\n",
              "      <td>cambridge</td>\n",
              "      <td>ny</td>\n",
              "      <td>2012-08-20</td>\n",
              "      <td>closed</td>\n",
              "      <td>2012</td>\n",
              "      <td>2012.0</td>\n",
              "      <td>no</td>\n",
              "    </tr>\n",
              "    <tr>\n",
              "      <th>2</th>\n",
              "      <td>1</td>\n",
              "      <td>4</td>\n",
              "      <td>the keating hotel</td>\n",
              "      <td>san diego</td>\n",
              "      <td>ca</td>\n",
              "      <td>2012-08-27</td>\n",
              "      <td>open</td>\n",
              "      <td>2011</td>\n",
              "      <td>2022.0</td>\n",
              "      <td>no</td>\n",
              "    </tr>\n",
              "    <tr>\n",
              "      <th>3</th>\n",
              "      <td>1</td>\n",
              "      <td>5</td>\n",
              "      <td>river rock inn</td>\n",
              "      <td>milford</td>\n",
              "      <td>pa</td>\n",
              "      <td>2012-09-03</td>\n",
              "      <td>closed</td>\n",
              "      <td>2012</td>\n",
              "      <td>2014.0</td>\n",
              "      <td>no</td>\n",
              "    </tr>\n",
              "    <tr>\n",
              "      <th>4</th>\n",
              "      <td>1</td>\n",
              "      <td>6</td>\n",
              "      <td>the roosevelt inn</td>\n",
              "      <td>cour d'alene</td>\n",
              "      <td>id</td>\n",
              "      <td>2012-09-03</td>\n",
              "      <td>open</td>\n",
              "      <td>2012</td>\n",
              "      <td>2020.0</td>\n",
              "      <td>no</td>\n",
              "    </tr>\n",
              "  </tbody>\n",
              "</table>\n",
              "</div>\n",
              "    <div class=\"colab-df-buttons\">\n",
              "\n",
              "  <div class=\"colab-df-container\">\n",
              "    <button class=\"colab-df-convert\" onclick=\"convertToInteractive('df-29e4a2e4-b77a-45b5-8c85-2989355d4a82')\"\n",
              "            title=\"Convert this dataframe to an interactive table.\"\n",
              "            style=\"display:none;\">\n",
              "\n",
              "  <svg xmlns=\"http://www.w3.org/2000/svg\" height=\"24px\" viewBox=\"0 -960 960 960\">\n",
              "    <path d=\"M120-120v-720h720v720H120Zm60-500h600v-160H180v160Zm220 220h160v-160H400v160Zm0 220h160v-160H400v160ZM180-400h160v-160H180v160Zm440 0h160v-160H620v160ZM180-180h160v-160H180v160Zm440 0h160v-160H620v160Z\"/>\n",
              "  </svg>\n",
              "    </button>\n",
              "\n",
              "  <style>\n",
              "    .colab-df-container {\n",
              "      display:flex;\n",
              "      gap: 12px;\n",
              "    }\n",
              "\n",
              "    .colab-df-convert {\n",
              "      background-color: #E8F0FE;\n",
              "      border: none;\n",
              "      border-radius: 50%;\n",
              "      cursor: pointer;\n",
              "      display: none;\n",
              "      fill: #1967D2;\n",
              "      height: 32px;\n",
              "      padding: 0 0 0 0;\n",
              "      width: 32px;\n",
              "    }\n",
              "\n",
              "    .colab-df-convert:hover {\n",
              "      background-color: #E2EBFA;\n",
              "      box-shadow: 0px 1px 2px rgba(60, 64, 67, 0.3), 0px 1px 3px 1px rgba(60, 64, 67, 0.15);\n",
              "      fill: #174EA6;\n",
              "    }\n",
              "\n",
              "    .colab-df-buttons div {\n",
              "      margin-bottom: 4px;\n",
              "    }\n",
              "\n",
              "    [theme=dark] .colab-df-convert {\n",
              "      background-color: #3B4455;\n",
              "      fill: #D2E3FC;\n",
              "    }\n",
              "\n",
              "    [theme=dark] .colab-df-convert:hover {\n",
              "      background-color: #434B5C;\n",
              "      box-shadow: 0px 1px 3px 1px rgba(0, 0, 0, 0.15);\n",
              "      filter: drop-shadow(0px 1px 2px rgba(0, 0, 0, 0.3));\n",
              "      fill: #FFFFFF;\n",
              "    }\n",
              "  </style>\n",
              "\n",
              "    <script>\n",
              "      const buttonEl =\n",
              "        document.querySelector('#df-29e4a2e4-b77a-45b5-8c85-2989355d4a82 button.colab-df-convert');\n",
              "      buttonEl.style.display =\n",
              "        google.colab.kernel.accessAllowed ? 'block' : 'none';\n",
              "\n",
              "      async function convertToInteractive(key) {\n",
              "        const element = document.querySelector('#df-29e4a2e4-b77a-45b5-8c85-2989355d4a82');\n",
              "        const dataTable =\n",
              "          await google.colab.kernel.invokeFunction('convertToInteractive',\n",
              "                                                    [key], {});\n",
              "        if (!dataTable) return;\n",
              "\n",
              "        const docLinkHtml = 'Like what you see? Visit the ' +\n",
              "          '<a target=\"_blank\" href=https://colab.research.google.com/notebooks/data_table.ipynb>data table notebook</a>'\n",
              "          + ' to learn more about interactive tables.';\n",
              "        element.innerHTML = '';\n",
              "        dataTable['output_type'] = 'display_data';\n",
              "        await google.colab.output.renderOutput(dataTable, element);\n",
              "        const docLink = document.createElement('div');\n",
              "        docLink.innerHTML = docLinkHtml;\n",
              "        element.appendChild(docLink);\n",
              "      }\n",
              "    </script>\n",
              "  </div>\n",
              "\n",
              "\n",
              "<div id=\"df-8a1a7d37-a806-465d-92bb-4c2c4ff7cd8b\">\n",
              "  <button class=\"colab-df-quickchart\" onclick=\"quickchart('df-8a1a7d37-a806-465d-92bb-4c2c4ff7cd8b')\"\n",
              "            title=\"Suggest charts\"\n",
              "            style=\"display:none;\">\n",
              "\n",
              "<svg xmlns=\"http://www.w3.org/2000/svg\" height=\"24px\"viewBox=\"0 0 24 24\"\n",
              "     width=\"24px\">\n",
              "    <g>\n",
              "        <path d=\"M19 3H5c-1.1 0-2 .9-2 2v14c0 1.1.9 2 2 2h14c1.1 0 2-.9 2-2V5c0-1.1-.9-2-2-2zM9 17H7v-7h2v7zm4 0h-2V7h2v10zm4 0h-2v-4h2v4z\"/>\n",
              "    </g>\n",
              "</svg>\n",
              "  </button>\n",
              "\n",
              "<style>\n",
              "  .colab-df-quickchart {\n",
              "      --bg-color: #E8F0FE;\n",
              "      --fill-color: #1967D2;\n",
              "      --hover-bg-color: #E2EBFA;\n",
              "      --hover-fill-color: #174EA6;\n",
              "      --disabled-fill-color: #AAA;\n",
              "      --disabled-bg-color: #DDD;\n",
              "  }\n",
              "\n",
              "  [theme=dark] .colab-df-quickchart {\n",
              "      --bg-color: #3B4455;\n",
              "      --fill-color: #D2E3FC;\n",
              "      --hover-bg-color: #434B5C;\n",
              "      --hover-fill-color: #FFFFFF;\n",
              "      --disabled-bg-color: #3B4455;\n",
              "      --disabled-fill-color: #666;\n",
              "  }\n",
              "\n",
              "  .colab-df-quickchart {\n",
              "    background-color: var(--bg-color);\n",
              "    border: none;\n",
              "    border-radius: 50%;\n",
              "    cursor: pointer;\n",
              "    display: none;\n",
              "    fill: var(--fill-color);\n",
              "    height: 32px;\n",
              "    padding: 0;\n",
              "    width: 32px;\n",
              "  }\n",
              "\n",
              "  .colab-df-quickchart:hover {\n",
              "    background-color: var(--hover-bg-color);\n",
              "    box-shadow: 0 1px 2px rgba(60, 64, 67, 0.3), 0 1px 3px 1px rgba(60, 64, 67, 0.15);\n",
              "    fill: var(--button-hover-fill-color);\n",
              "  }\n",
              "\n",
              "  .colab-df-quickchart-complete:disabled,\n",
              "  .colab-df-quickchart-complete:disabled:hover {\n",
              "    background-color: var(--disabled-bg-color);\n",
              "    fill: var(--disabled-fill-color);\n",
              "    box-shadow: none;\n",
              "  }\n",
              "\n",
              "  .colab-df-spinner {\n",
              "    border: 2px solid var(--fill-color);\n",
              "    border-color: transparent;\n",
              "    border-bottom-color: var(--fill-color);\n",
              "    animation:\n",
              "      spin 1s steps(1) infinite;\n",
              "  }\n",
              "\n",
              "  @keyframes spin {\n",
              "    0% {\n",
              "      border-color: transparent;\n",
              "      border-bottom-color: var(--fill-color);\n",
              "      border-left-color: var(--fill-color);\n",
              "    }\n",
              "    20% {\n",
              "      border-color: transparent;\n",
              "      border-left-color: var(--fill-color);\n",
              "      border-top-color: var(--fill-color);\n",
              "    }\n",
              "    30% {\n",
              "      border-color: transparent;\n",
              "      border-left-color: var(--fill-color);\n",
              "      border-top-color: var(--fill-color);\n",
              "      border-right-color: var(--fill-color);\n",
              "    }\n",
              "    40% {\n",
              "      border-color: transparent;\n",
              "      border-right-color: var(--fill-color);\n",
              "      border-top-color: var(--fill-color);\n",
              "    }\n",
              "    60% {\n",
              "      border-color: transparent;\n",
              "      border-right-color: var(--fill-color);\n",
              "    }\n",
              "    80% {\n",
              "      border-color: transparent;\n",
              "      border-right-color: var(--fill-color);\n",
              "      border-bottom-color: var(--fill-color);\n",
              "    }\n",
              "    90% {\n",
              "      border-color: transparent;\n",
              "      border-bottom-color: var(--fill-color);\n",
              "    }\n",
              "  }\n",
              "</style>\n",
              "\n",
              "  <script>\n",
              "    async function quickchart(key) {\n",
              "      const quickchartButtonEl =\n",
              "        document.querySelector('#' + key + ' button');\n",
              "      quickchartButtonEl.disabled = true;  // To prevent multiple clicks.\n",
              "      quickchartButtonEl.classList.add('colab-df-spinner');\n",
              "      try {\n",
              "        const charts = await google.colab.kernel.invokeFunction(\n",
              "            'suggestCharts', [key], {});\n",
              "      } catch (error) {\n",
              "        console.error('Error during call to suggestCharts:', error);\n",
              "      }\n",
              "      quickchartButtonEl.classList.remove('colab-df-spinner');\n",
              "      quickchartButtonEl.classList.add('colab-df-quickchart-complete');\n",
              "    }\n",
              "    (() => {\n",
              "      let quickchartButtonEl =\n",
              "        document.querySelector('#df-8a1a7d37-a806-465d-92bb-4c2c4ff7cd8b button');\n",
              "      quickchartButtonEl.style.display =\n",
              "        google.colab.kernel.accessAllowed ? 'block' : 'none';\n",
              "    })();\n",
              "  </script>\n",
              "</div>\n",
              "\n",
              "    </div>\n",
              "  </div>\n"
            ],
            "application/vnd.google.colaboratory.intrinsic+json": {
              "type": "dataframe",
              "variable_name": "formatted_hh",
              "summary": "{\n  \"name\": \"formatted_hh\",\n  \"rows\": 20,\n  \"fields\": [\n    {\n      \"column\": \"season\",\n      \"properties\": {\n        \"dtype\": \"number\",\n        \"std\": 0,\n        \"min\": 1,\n        \"max\": 3,\n        \"num_unique_values\": 3,\n        \"samples\": [\n          1,\n          2,\n          3\n        ],\n        \"semantic_type\": \"\",\n        \"description\": \"\"\n      }\n    },\n    {\n      \"column\": \"episode\",\n      \"properties\": {\n        \"dtype\": \"number\",\n        \"std\": 2,\n        \"min\": 1,\n        \"max\": 8,\n        \"num_unique_values\": 8,\n        \"samples\": [\n          3,\n          2,\n          1\n        ],\n        \"semantic_type\": \"\",\n        \"description\": \"\"\n      }\n    },\n    {\n      \"column\": \"hotel\",\n      \"properties\": {\n        \"dtype\": \"string\",\n        \"num_unique_values\": 20,\n        \"samples\": [\n          \"juniper hill inn\",\n          \"brick hotel\",\n          \"town's inn\"\n        ],\n        \"semantic_type\": \"\",\n        \"description\": \"\"\n      }\n    },\n    {\n      \"column\": \"city\",\n      \"properties\": {\n        \"dtype\": \"string\",\n        \"num_unique_values\": 20,\n        \"samples\": [\n          \"windsor\",\n          \"newtown\",\n          \"harpers ferry\"\n        ],\n        \"semantic_type\": \"\",\n        \"description\": \"\"\n      }\n    },\n    {\n      \"column\": \"state\",\n      \"properties\": {\n        \"dtype\": \"string\",\n        \"num_unique_values\": 15,\n        \"samples\": [\n          \"mn\",\n          \"ma\",\n          \"vt\"\n        ],\n        \"semantic_type\": \"\",\n        \"description\": \"\"\n      }\n    },\n    {\n      \"column\": \"air_date\",\n      \"properties\": {\n        \"dtype\": \"date\",\n        \"min\": \"2012-08-13 00:00:00\",\n        \"max\": \"2016-07-26 00:00:00\",\n        \"num_unique_values\": 19,\n        \"samples\": [\n          \"2012-08-13 00:00:00\",\n          \"2014-07-28 00:00:00\",\n          \"2014-09-09 00:00:00\"\n        ],\n        \"semantic_type\": \"\",\n        \"description\": \"\"\n      }\n    },\n    {\n      \"column\": \"status\",\n      \"properties\": {\n        \"dtype\": \"category\",\n        \"num_unique_values\": 2,\n        \"samples\": [\n          \"open\",\n          \"closed\"\n        ],\n        \"semantic_type\": \"\",\n        \"description\": \"\"\n      }\n    },\n    {\n      \"column\": \"film_year\",\n      \"properties\": {\n        \"dtype\": \"number\",\n        \"std\": 1,\n        \"min\": 2011,\n        \"max\": 2015,\n        \"num_unique_values\": 4,\n        \"samples\": [\n          2011,\n          2015\n        ],\n        \"semantic_type\": \"\",\n        \"description\": \"\"\n      }\n    },\n    {\n      \"column\": \"closing_year\",\n      \"properties\": {\n        \"dtype\": \"number\",\n        \"std\": 3.467380462644282,\n        \"min\": 2012.0,\n        \"max\": 2022.0,\n        \"num_unique_values\": 7,\n        \"samples\": [\n          2014.0,\n          2012.0\n        ],\n        \"semantic_type\": \"\",\n        \"description\": \"\"\n      }\n    },\n    {\n      \"column\": \"two_parts\",\n      \"properties\": {\n        \"dtype\": \"category\",\n        \"num_unique_values\": 2,\n        \"samples\": [\n          \"no\",\n          \"yes\"\n        ],\n        \"semantic_type\": \"\",\n        \"description\": \"\"\n      }\n    }\n  ]\n}"
            }
          },
          "metadata": {},
          "execution_count": 72
        }
      ]
    },
    {
      "cell_type": "markdown",
      "source": [
        "3. In order for the 'restaurant' and 'hotel' columns to be understood as the same thing, we should rename those columns in each data frame to simply be 'name'."
      ],
      "metadata": {
        "id": "-O80d62yxaty"
      }
    },
    {
      "cell_type": "code",
      "source": [
        "formatted_kn = formatted_kn.rename(columns={'restaurant': 'name'})\n",
        "formatted_hh = formatted_hh.rename(columns={'hotel': 'name'})\n",
        "\n",
        "print(formatted_kn.columns)\n",
        "print(formatted_kn.columns)"
      ],
      "metadata": {
        "colab": {
          "base_uri": "https://localhost:8080/"
        },
        "id": "X44fs21MxjVX",
        "outputId": "d857211a-ac84-4ab3-b874-6af814e37dc0"
      },
      "execution_count": 74,
      "outputs": [
        {
          "output_type": "stream",
          "name": "stdout",
          "text": [
            "Index(['season', 'episode', 'name', 'city', 'state', 'air_date', 'status',\n",
            "       'film_year', 'closing_year', 'cuisine', 'revisited', 'two_parts'],\n",
            "      dtype='object')\n",
            "Index(['season', 'episode', 'name', 'city', 'state', 'air_date', 'status',\n",
            "       'film_year', 'closing_year', 'cuisine', 'revisited', 'two_parts'],\n",
            "      dtype='object')\n"
          ]
        }
      ]
    },
    {
      "cell_type": "markdown",
      "source": [
        "4. There are two columns that formatted_kn has that formatted_hh does not. We should remove those so we have an easier time concatenating the two later."
      ],
      "metadata": {
        "id": "wgvvQpT-x5-S"
      }
    },
    {
      "cell_type": "code",
      "source": [
        "formatted_kn.drop('cuisine', axis = 1, inplace=True)\n",
        "formatted_kn.drop('revisited', axis = 1, inplace=True)\n",
        "\n",
        "formatted_kn.columns"
      ],
      "metadata": {
        "colab": {
          "base_uri": "https://localhost:8080/"
        },
        "id": "bUxFELQ5yCMi",
        "outputId": "2d94dcf4-b1d5-4457-c62b-c16bc31e3106"
      },
      "execution_count": 76,
      "outputs": [
        {
          "output_type": "execute_result",
          "data": {
            "text/plain": [
              "Index(['season', 'episode', 'name', 'city', 'state', 'air_date', 'status',\n",
              "       'film_year', 'closing_year', 'two_parts'],\n",
              "      dtype='object')"
            ]
          },
          "metadata": {},
          "execution_count": 76
        }
      ]
    },
    {
      "cell_type": "markdown",
      "source": [
        "5. Next, let's create a 'show' column in both data frames so that we can either label rows as being from Kitchen Nightmares or from Hotel Hell."
      ],
      "metadata": {
        "id": "TzYv9u8Iyg9q"
      }
    },
    {
      "cell_type": "code",
      "source": [
        "formatted_kn['show'] = 'kitchen nightmares'\n",
        "formatted_hh['show'] = 'hotel hell'\n",
        "\n",
        "print(formatted_kn.columns)\n",
        "print(formatted_hh.columns)"
      ],
      "metadata": {
        "colab": {
          "base_uri": "https://localhost:8080/"
        },
        "id": "ToI_6-tqy3wf",
        "outputId": "14649aeb-004e-415a-a710-979b26156e43"
      },
      "execution_count": 77,
      "outputs": [
        {
          "output_type": "stream",
          "name": "stdout",
          "text": [
            "Index(['season', 'episode', 'name', 'city', 'state', 'air_date', 'status',\n",
            "       'film_year', 'closing_year', 'two_parts', 'show'],\n",
            "      dtype='object')\n",
            "Index(['season', 'episode', 'name', 'city', 'state', 'air_date', 'status',\n",
            "       'film_year', 'closing_year', 'two_parts', 'show'],\n",
            "      dtype='object')\n"
          ]
        }
      ]
    },
    {
      "cell_type": "markdown",
      "source": [
        "6. Both data frames have the exact same column names so we can do a vertical merge. We want to add on formatted_hh onto the bottom of formatted_kn."
      ],
      "metadata": {
        "id": "jshX_Hp9zLZh"
      }
    },
    {
      "cell_type": "code",
      "source": [
        "merged_data = pd.concat([formatted_kn, formatted_hh])"
      ],
      "metadata": {
        "colab": {
          "base_uri": "https://localhost:8080/",
          "height": 206
        },
        "id": "dIXyl451zTet",
        "outputId": "eb01ab46-1568-43c4-8e99-334b057d2c78"
      },
      "execution_count": 78,
      "outputs": [
        {
          "output_type": "execute_result",
          "data": {
            "text/plain": [
              "   season  episode                 name           city state   air_date  \\\n",
              "0       1        1              peter's        babylon    ny 2007-09-19   \n",
              "1       1        2             dillon's  new york city    ny 2007-09-26   \n",
              "2       1        3      the mixing bowl       bellmore    ny 2007-10-03   \n",
              "3       1        4             seascape          islip    ny 2007-10-10   \n",
              "4       1        5  the olde stone mill       tuckahoe    ny 2007-10-17   \n",
              "\n",
              "   status  film_year  closing_year two_parts                show  \n",
              "0  closed       2007        2008.0        no  kitchen nightmares  \n",
              "1  closed       2007        2008.0        no  kitchen nightmares  \n",
              "2  closed       2007        2009.0        no  kitchen nightmares  \n",
              "3  closed       2007        2007.0        no  kitchen nightmares  \n",
              "4  closed       2007        2022.0        no  kitchen nightmares  "
            ],
            "text/html": [
              "\n",
              "  <div id=\"df-80947572-6551-4e76-be34-3caa9ef249d1\" class=\"colab-df-container\">\n",
              "    <div>\n",
              "<style scoped>\n",
              "    .dataframe tbody tr th:only-of-type {\n",
              "        vertical-align: middle;\n",
              "    }\n",
              "\n",
              "    .dataframe tbody tr th {\n",
              "        vertical-align: top;\n",
              "    }\n",
              "\n",
              "    .dataframe thead th {\n",
              "        text-align: right;\n",
              "    }\n",
              "</style>\n",
              "<table border=\"1\" class=\"dataframe\">\n",
              "  <thead>\n",
              "    <tr style=\"text-align: right;\">\n",
              "      <th></th>\n",
              "      <th>season</th>\n",
              "      <th>episode</th>\n",
              "      <th>name</th>\n",
              "      <th>city</th>\n",
              "      <th>state</th>\n",
              "      <th>air_date</th>\n",
              "      <th>status</th>\n",
              "      <th>film_year</th>\n",
              "      <th>closing_year</th>\n",
              "      <th>two_parts</th>\n",
              "      <th>show</th>\n",
              "    </tr>\n",
              "  </thead>\n",
              "  <tbody>\n",
              "    <tr>\n",
              "      <th>0</th>\n",
              "      <td>1</td>\n",
              "      <td>1</td>\n",
              "      <td>peter's</td>\n",
              "      <td>babylon</td>\n",
              "      <td>ny</td>\n",
              "      <td>2007-09-19</td>\n",
              "      <td>closed</td>\n",
              "      <td>2007</td>\n",
              "      <td>2008.0</td>\n",
              "      <td>no</td>\n",
              "      <td>kitchen nightmares</td>\n",
              "    </tr>\n",
              "    <tr>\n",
              "      <th>1</th>\n",
              "      <td>1</td>\n",
              "      <td>2</td>\n",
              "      <td>dillon's</td>\n",
              "      <td>new york city</td>\n",
              "      <td>ny</td>\n",
              "      <td>2007-09-26</td>\n",
              "      <td>closed</td>\n",
              "      <td>2007</td>\n",
              "      <td>2008.0</td>\n",
              "      <td>no</td>\n",
              "      <td>kitchen nightmares</td>\n",
              "    </tr>\n",
              "    <tr>\n",
              "      <th>2</th>\n",
              "      <td>1</td>\n",
              "      <td>3</td>\n",
              "      <td>the mixing bowl</td>\n",
              "      <td>bellmore</td>\n",
              "      <td>ny</td>\n",
              "      <td>2007-10-03</td>\n",
              "      <td>closed</td>\n",
              "      <td>2007</td>\n",
              "      <td>2009.0</td>\n",
              "      <td>no</td>\n",
              "      <td>kitchen nightmares</td>\n",
              "    </tr>\n",
              "    <tr>\n",
              "      <th>3</th>\n",
              "      <td>1</td>\n",
              "      <td>4</td>\n",
              "      <td>seascape</td>\n",
              "      <td>islip</td>\n",
              "      <td>ny</td>\n",
              "      <td>2007-10-10</td>\n",
              "      <td>closed</td>\n",
              "      <td>2007</td>\n",
              "      <td>2007.0</td>\n",
              "      <td>no</td>\n",
              "      <td>kitchen nightmares</td>\n",
              "    </tr>\n",
              "    <tr>\n",
              "      <th>4</th>\n",
              "      <td>1</td>\n",
              "      <td>5</td>\n",
              "      <td>the olde stone mill</td>\n",
              "      <td>tuckahoe</td>\n",
              "      <td>ny</td>\n",
              "      <td>2007-10-17</td>\n",
              "      <td>closed</td>\n",
              "      <td>2007</td>\n",
              "      <td>2022.0</td>\n",
              "      <td>no</td>\n",
              "      <td>kitchen nightmares</td>\n",
              "    </tr>\n",
              "  </tbody>\n",
              "</table>\n",
              "</div>\n",
              "    <div class=\"colab-df-buttons\">\n",
              "\n",
              "  <div class=\"colab-df-container\">\n",
              "    <button class=\"colab-df-convert\" onclick=\"convertToInteractive('df-80947572-6551-4e76-be34-3caa9ef249d1')\"\n",
              "            title=\"Convert this dataframe to an interactive table.\"\n",
              "            style=\"display:none;\">\n",
              "\n",
              "  <svg xmlns=\"http://www.w3.org/2000/svg\" height=\"24px\" viewBox=\"0 -960 960 960\">\n",
              "    <path d=\"M120-120v-720h720v720H120Zm60-500h600v-160H180v160Zm220 220h160v-160H400v160Zm0 220h160v-160H400v160ZM180-400h160v-160H180v160Zm440 0h160v-160H620v160ZM180-180h160v-160H180v160Zm440 0h160v-160H620v160Z\"/>\n",
              "  </svg>\n",
              "    </button>\n",
              "\n",
              "  <style>\n",
              "    .colab-df-container {\n",
              "      display:flex;\n",
              "      gap: 12px;\n",
              "    }\n",
              "\n",
              "    .colab-df-convert {\n",
              "      background-color: #E8F0FE;\n",
              "      border: none;\n",
              "      border-radius: 50%;\n",
              "      cursor: pointer;\n",
              "      display: none;\n",
              "      fill: #1967D2;\n",
              "      height: 32px;\n",
              "      padding: 0 0 0 0;\n",
              "      width: 32px;\n",
              "    }\n",
              "\n",
              "    .colab-df-convert:hover {\n",
              "      background-color: #E2EBFA;\n",
              "      box-shadow: 0px 1px 2px rgba(60, 64, 67, 0.3), 0px 1px 3px 1px rgba(60, 64, 67, 0.15);\n",
              "      fill: #174EA6;\n",
              "    }\n",
              "\n",
              "    .colab-df-buttons div {\n",
              "      margin-bottom: 4px;\n",
              "    }\n",
              "\n",
              "    [theme=dark] .colab-df-convert {\n",
              "      background-color: #3B4455;\n",
              "      fill: #D2E3FC;\n",
              "    }\n",
              "\n",
              "    [theme=dark] .colab-df-convert:hover {\n",
              "      background-color: #434B5C;\n",
              "      box-shadow: 0px 1px 3px 1px rgba(0, 0, 0, 0.15);\n",
              "      filter: drop-shadow(0px 1px 2px rgba(0, 0, 0, 0.3));\n",
              "      fill: #FFFFFF;\n",
              "    }\n",
              "  </style>\n",
              "\n",
              "    <script>\n",
              "      const buttonEl =\n",
              "        document.querySelector('#df-80947572-6551-4e76-be34-3caa9ef249d1 button.colab-df-convert');\n",
              "      buttonEl.style.display =\n",
              "        google.colab.kernel.accessAllowed ? 'block' : 'none';\n",
              "\n",
              "      async function convertToInteractive(key) {\n",
              "        const element = document.querySelector('#df-80947572-6551-4e76-be34-3caa9ef249d1');\n",
              "        const dataTable =\n",
              "          await google.colab.kernel.invokeFunction('convertToInteractive',\n",
              "                                                    [key], {});\n",
              "        if (!dataTable) return;\n",
              "\n",
              "        const docLinkHtml = 'Like what you see? Visit the ' +\n",
              "          '<a target=\"_blank\" href=https://colab.research.google.com/notebooks/data_table.ipynb>data table notebook</a>'\n",
              "          + ' to learn more about interactive tables.';\n",
              "        element.innerHTML = '';\n",
              "        dataTable['output_type'] = 'display_data';\n",
              "        await google.colab.output.renderOutput(dataTable, element);\n",
              "        const docLink = document.createElement('div');\n",
              "        docLink.innerHTML = docLinkHtml;\n",
              "        element.appendChild(docLink);\n",
              "      }\n",
              "    </script>\n",
              "  </div>\n",
              "\n",
              "\n",
              "<div id=\"df-dd997ec9-78b8-4435-b132-d718d4be43d0\">\n",
              "  <button class=\"colab-df-quickchart\" onclick=\"quickchart('df-dd997ec9-78b8-4435-b132-d718d4be43d0')\"\n",
              "            title=\"Suggest charts\"\n",
              "            style=\"display:none;\">\n",
              "\n",
              "<svg xmlns=\"http://www.w3.org/2000/svg\" height=\"24px\"viewBox=\"0 0 24 24\"\n",
              "     width=\"24px\">\n",
              "    <g>\n",
              "        <path d=\"M19 3H5c-1.1 0-2 .9-2 2v14c0 1.1.9 2 2 2h14c1.1 0 2-.9 2-2V5c0-1.1-.9-2-2-2zM9 17H7v-7h2v7zm4 0h-2V7h2v10zm4 0h-2v-4h2v4z\"/>\n",
              "    </g>\n",
              "</svg>\n",
              "  </button>\n",
              "\n",
              "<style>\n",
              "  .colab-df-quickchart {\n",
              "      --bg-color: #E8F0FE;\n",
              "      --fill-color: #1967D2;\n",
              "      --hover-bg-color: #E2EBFA;\n",
              "      --hover-fill-color: #174EA6;\n",
              "      --disabled-fill-color: #AAA;\n",
              "      --disabled-bg-color: #DDD;\n",
              "  }\n",
              "\n",
              "  [theme=dark] .colab-df-quickchart {\n",
              "      --bg-color: #3B4455;\n",
              "      --fill-color: #D2E3FC;\n",
              "      --hover-bg-color: #434B5C;\n",
              "      --hover-fill-color: #FFFFFF;\n",
              "      --disabled-bg-color: #3B4455;\n",
              "      --disabled-fill-color: #666;\n",
              "  }\n",
              "\n",
              "  .colab-df-quickchart {\n",
              "    background-color: var(--bg-color);\n",
              "    border: none;\n",
              "    border-radius: 50%;\n",
              "    cursor: pointer;\n",
              "    display: none;\n",
              "    fill: var(--fill-color);\n",
              "    height: 32px;\n",
              "    padding: 0;\n",
              "    width: 32px;\n",
              "  }\n",
              "\n",
              "  .colab-df-quickchart:hover {\n",
              "    background-color: var(--hover-bg-color);\n",
              "    box-shadow: 0 1px 2px rgba(60, 64, 67, 0.3), 0 1px 3px 1px rgba(60, 64, 67, 0.15);\n",
              "    fill: var(--button-hover-fill-color);\n",
              "  }\n",
              "\n",
              "  .colab-df-quickchart-complete:disabled,\n",
              "  .colab-df-quickchart-complete:disabled:hover {\n",
              "    background-color: var(--disabled-bg-color);\n",
              "    fill: var(--disabled-fill-color);\n",
              "    box-shadow: none;\n",
              "  }\n",
              "\n",
              "  .colab-df-spinner {\n",
              "    border: 2px solid var(--fill-color);\n",
              "    border-color: transparent;\n",
              "    border-bottom-color: var(--fill-color);\n",
              "    animation:\n",
              "      spin 1s steps(1) infinite;\n",
              "  }\n",
              "\n",
              "  @keyframes spin {\n",
              "    0% {\n",
              "      border-color: transparent;\n",
              "      border-bottom-color: var(--fill-color);\n",
              "      border-left-color: var(--fill-color);\n",
              "    }\n",
              "    20% {\n",
              "      border-color: transparent;\n",
              "      border-left-color: var(--fill-color);\n",
              "      border-top-color: var(--fill-color);\n",
              "    }\n",
              "    30% {\n",
              "      border-color: transparent;\n",
              "      border-left-color: var(--fill-color);\n",
              "      border-top-color: var(--fill-color);\n",
              "      border-right-color: var(--fill-color);\n",
              "    }\n",
              "    40% {\n",
              "      border-color: transparent;\n",
              "      border-right-color: var(--fill-color);\n",
              "      border-top-color: var(--fill-color);\n",
              "    }\n",
              "    60% {\n",
              "      border-color: transparent;\n",
              "      border-right-color: var(--fill-color);\n",
              "    }\n",
              "    80% {\n",
              "      border-color: transparent;\n",
              "      border-right-color: var(--fill-color);\n",
              "      border-bottom-color: var(--fill-color);\n",
              "    }\n",
              "    90% {\n",
              "      border-color: transparent;\n",
              "      border-bottom-color: var(--fill-color);\n",
              "    }\n",
              "  }\n",
              "</style>\n",
              "\n",
              "  <script>\n",
              "    async function quickchart(key) {\n",
              "      const quickchartButtonEl =\n",
              "        document.querySelector('#' + key + ' button');\n",
              "      quickchartButtonEl.disabled = true;  // To prevent multiple clicks.\n",
              "      quickchartButtonEl.classList.add('colab-df-spinner');\n",
              "      try {\n",
              "        const charts = await google.colab.kernel.invokeFunction(\n",
              "            'suggestCharts', [key], {});\n",
              "      } catch (error) {\n",
              "        console.error('Error during call to suggestCharts:', error);\n",
              "      }\n",
              "      quickchartButtonEl.classList.remove('colab-df-spinner');\n",
              "      quickchartButtonEl.classList.add('colab-df-quickchart-complete');\n",
              "    }\n",
              "    (() => {\n",
              "      let quickchartButtonEl =\n",
              "        document.querySelector('#df-dd997ec9-78b8-4435-b132-d718d4be43d0 button');\n",
              "      quickchartButtonEl.style.display =\n",
              "        google.colab.kernel.accessAllowed ? 'block' : 'none';\n",
              "    })();\n",
              "  </script>\n",
              "</div>\n",
              "\n",
              "    </div>\n",
              "  </div>\n"
            ],
            "application/vnd.google.colaboratory.intrinsic+json": {
              "type": "dataframe",
              "variable_name": "merged_data",
              "summary": "{\n  \"name\": \"merged_data\",\n  \"rows\": 107,\n  \"fields\": [\n    {\n      \"column\": \"season\",\n      \"properties\": {\n        \"dtype\": \"number\",\n        \"std\": 2,\n        \"min\": 1,\n        \"max\": 8,\n        \"num_unique_values\": 8,\n        \"samples\": [\n          2,\n          6,\n          1\n        ],\n        \"semantic_type\": \"\",\n        \"description\": \"\"\n      }\n    },\n    {\n      \"column\": \"episode\",\n      \"properties\": {\n        \"dtype\": \"number\",\n        \"std\": 4,\n        \"min\": 1,\n        \"max\": 17,\n        \"num_unique_values\": 17,\n        \"samples\": [\n          1,\n          2,\n          6\n        ],\n        \"semantic_type\": \"\",\n        \"description\": \"\"\n      }\n    },\n    {\n      \"column\": \"name\",\n      \"properties\": {\n        \"dtype\": \"string\",\n        \"num_unique_values\": 107,\n        \"samples\": [\n          \"bella luna\",\n          \"handlebar\",\n          \"the olde stone mill\"\n        ],\n        \"semantic_type\": \"\",\n        \"description\": \"\"\n      }\n    },\n    {\n      \"column\": \"city\",\n      \"properties\": {\n        \"dtype\": \"string\",\n        \"num_unique_values\": 97,\n        \"samples\": [\n          \"everett\",\n          \"metairie\",\n          \"chelan\"\n        ],\n        \"semantic_type\": \"\",\n        \"description\": \"\"\n      }\n    },\n    {\n      \"column\": \"state\",\n      \"properties\": {\n        \"dtype\": \"category\",\n        \"num_unique_values\": 27,\n        \"samples\": [\n          \"fl\",\n          \"tx\",\n          \"ma\"\n        ],\n        \"semantic_type\": \"\",\n        \"description\": \"\"\n      }\n    },\n    {\n      \"column\": \"air_date\",\n      \"properties\": {\n        \"dtype\": \"date\",\n        \"min\": \"2007-09-19 00:00:00\",\n        \"max\": \"2023-12-04 00:00:00\",\n        \"num_unique_values\": 101,\n        \"samples\": [\n          \"2012-08-27 00:00:00\",\n          \"2012-10-26 00:00:00\",\n          \"2013-05-03 00:00:00\"\n        ],\n        \"semantic_type\": \"\",\n        \"description\": \"\"\n      }\n    },\n    {\n      \"column\": \"status\",\n      \"properties\": {\n        \"dtype\": \"category\",\n        \"num_unique_values\": 2,\n        \"samples\": [\n          \"open\",\n          \"closed\"\n        ],\n        \"semantic_type\": \"\",\n        \"description\": \"\"\n      }\n    },\n    {\n      \"column\": \"film_year\",\n      \"properties\": {\n        \"dtype\": \"number\",\n        \"std\": 4,\n        \"min\": 2007,\n        \"max\": 2023,\n        \"num_unique_values\": 9,\n        \"samples\": [\n          2023,\n          2008\n        ],\n        \"semantic_type\": \"\",\n        \"description\": \"\"\n      }\n    },\n    {\n      \"column\": \"closing_year\",\n      \"properties\": {\n        \"dtype\": \"number\",\n        \"std\": 4.672570105670435,\n        \"min\": 2007.0,\n        \"max\": 2024.0,\n        \"num_unique_values\": 18,\n        \"samples\": [\n          2008.0,\n          2009.0\n        ],\n        \"semantic_type\": \"\",\n        \"description\": \"\"\n      }\n    },\n    {\n      \"column\": \"two_parts\",\n      \"properties\": {\n        \"dtype\": \"category\",\n        \"num_unique_values\": 2,\n        \"samples\": [\n          \"yes\",\n          \"no\"\n        ],\n        \"semantic_type\": \"\",\n        \"description\": \"\"\n      }\n    },\n    {\n      \"column\": \"show\",\n      \"properties\": {\n        \"dtype\": \"category\",\n        \"num_unique_values\": 2,\n        \"samples\": [\n          \"hotel hell\",\n          \"kitchen nightmares\"\n        ],\n        \"semantic_type\": \"\",\n        \"description\": \"\"\n      }\n    }\n  ]\n}"
            }
          },
          "metadata": {},
          "execution_count": 78
        }
      ]
    },
    {
      "cell_type": "markdown",
      "source": [
        "7. Let's check the first 5 and last 5 rows of the merged data frame in order to make sure it worked as intended."
      ],
      "metadata": {
        "id": "hFTxhD-BzkKl"
      }
    },
    {
      "cell_type": "code",
      "source": [
        "merged_data.head()"
      ],
      "metadata": {
        "colab": {
          "base_uri": "https://localhost:8080/",
          "height": 206
        },
        "id": "XkVn_dFlzqoQ",
        "outputId": "b8eb3ee7-af96-4efc-e13a-94c9c971517b"
      },
      "execution_count": 79,
      "outputs": [
        {
          "output_type": "execute_result",
          "data": {
            "text/plain": [
              "   season  episode                 name           city state   air_date  \\\n",
              "0       1        1              peter's        babylon    ny 2007-09-19   \n",
              "1       1        2             dillon's  new york city    ny 2007-09-26   \n",
              "2       1        3      the mixing bowl       bellmore    ny 2007-10-03   \n",
              "3       1        4             seascape          islip    ny 2007-10-10   \n",
              "4       1        5  the olde stone mill       tuckahoe    ny 2007-10-17   \n",
              "\n",
              "   status  film_year  closing_year two_parts                show  \n",
              "0  closed       2007        2008.0        no  kitchen nightmares  \n",
              "1  closed       2007        2008.0        no  kitchen nightmares  \n",
              "2  closed       2007        2009.0        no  kitchen nightmares  \n",
              "3  closed       2007        2007.0        no  kitchen nightmares  \n",
              "4  closed       2007        2022.0        no  kitchen nightmares  "
            ],
            "text/html": [
              "\n",
              "  <div id=\"df-a429d5f9-2fe5-4f88-8b6d-e15dcfa789fb\" class=\"colab-df-container\">\n",
              "    <div>\n",
              "<style scoped>\n",
              "    .dataframe tbody tr th:only-of-type {\n",
              "        vertical-align: middle;\n",
              "    }\n",
              "\n",
              "    .dataframe tbody tr th {\n",
              "        vertical-align: top;\n",
              "    }\n",
              "\n",
              "    .dataframe thead th {\n",
              "        text-align: right;\n",
              "    }\n",
              "</style>\n",
              "<table border=\"1\" class=\"dataframe\">\n",
              "  <thead>\n",
              "    <tr style=\"text-align: right;\">\n",
              "      <th></th>\n",
              "      <th>season</th>\n",
              "      <th>episode</th>\n",
              "      <th>name</th>\n",
              "      <th>city</th>\n",
              "      <th>state</th>\n",
              "      <th>air_date</th>\n",
              "      <th>status</th>\n",
              "      <th>film_year</th>\n",
              "      <th>closing_year</th>\n",
              "      <th>two_parts</th>\n",
              "      <th>show</th>\n",
              "    </tr>\n",
              "  </thead>\n",
              "  <tbody>\n",
              "    <tr>\n",
              "      <th>0</th>\n",
              "      <td>1</td>\n",
              "      <td>1</td>\n",
              "      <td>peter's</td>\n",
              "      <td>babylon</td>\n",
              "      <td>ny</td>\n",
              "      <td>2007-09-19</td>\n",
              "      <td>closed</td>\n",
              "      <td>2007</td>\n",
              "      <td>2008.0</td>\n",
              "      <td>no</td>\n",
              "      <td>kitchen nightmares</td>\n",
              "    </tr>\n",
              "    <tr>\n",
              "      <th>1</th>\n",
              "      <td>1</td>\n",
              "      <td>2</td>\n",
              "      <td>dillon's</td>\n",
              "      <td>new york city</td>\n",
              "      <td>ny</td>\n",
              "      <td>2007-09-26</td>\n",
              "      <td>closed</td>\n",
              "      <td>2007</td>\n",
              "      <td>2008.0</td>\n",
              "      <td>no</td>\n",
              "      <td>kitchen nightmares</td>\n",
              "    </tr>\n",
              "    <tr>\n",
              "      <th>2</th>\n",
              "      <td>1</td>\n",
              "      <td>3</td>\n",
              "      <td>the mixing bowl</td>\n",
              "      <td>bellmore</td>\n",
              "      <td>ny</td>\n",
              "      <td>2007-10-03</td>\n",
              "      <td>closed</td>\n",
              "      <td>2007</td>\n",
              "      <td>2009.0</td>\n",
              "      <td>no</td>\n",
              "      <td>kitchen nightmares</td>\n",
              "    </tr>\n",
              "    <tr>\n",
              "      <th>3</th>\n",
              "      <td>1</td>\n",
              "      <td>4</td>\n",
              "      <td>seascape</td>\n",
              "      <td>islip</td>\n",
              "      <td>ny</td>\n",
              "      <td>2007-10-10</td>\n",
              "      <td>closed</td>\n",
              "      <td>2007</td>\n",
              "      <td>2007.0</td>\n",
              "      <td>no</td>\n",
              "      <td>kitchen nightmares</td>\n",
              "    </tr>\n",
              "    <tr>\n",
              "      <th>4</th>\n",
              "      <td>1</td>\n",
              "      <td>5</td>\n",
              "      <td>the olde stone mill</td>\n",
              "      <td>tuckahoe</td>\n",
              "      <td>ny</td>\n",
              "      <td>2007-10-17</td>\n",
              "      <td>closed</td>\n",
              "      <td>2007</td>\n",
              "      <td>2022.0</td>\n",
              "      <td>no</td>\n",
              "      <td>kitchen nightmares</td>\n",
              "    </tr>\n",
              "  </tbody>\n",
              "</table>\n",
              "</div>\n",
              "    <div class=\"colab-df-buttons\">\n",
              "\n",
              "  <div class=\"colab-df-container\">\n",
              "    <button class=\"colab-df-convert\" onclick=\"convertToInteractive('df-a429d5f9-2fe5-4f88-8b6d-e15dcfa789fb')\"\n",
              "            title=\"Convert this dataframe to an interactive table.\"\n",
              "            style=\"display:none;\">\n",
              "\n",
              "  <svg xmlns=\"http://www.w3.org/2000/svg\" height=\"24px\" viewBox=\"0 -960 960 960\">\n",
              "    <path d=\"M120-120v-720h720v720H120Zm60-500h600v-160H180v160Zm220 220h160v-160H400v160Zm0 220h160v-160H400v160ZM180-400h160v-160H180v160Zm440 0h160v-160H620v160ZM180-180h160v-160H180v160Zm440 0h160v-160H620v160Z\"/>\n",
              "  </svg>\n",
              "    </button>\n",
              "\n",
              "  <style>\n",
              "    .colab-df-container {\n",
              "      display:flex;\n",
              "      gap: 12px;\n",
              "    }\n",
              "\n",
              "    .colab-df-convert {\n",
              "      background-color: #E8F0FE;\n",
              "      border: none;\n",
              "      border-radius: 50%;\n",
              "      cursor: pointer;\n",
              "      display: none;\n",
              "      fill: #1967D2;\n",
              "      height: 32px;\n",
              "      padding: 0 0 0 0;\n",
              "      width: 32px;\n",
              "    }\n",
              "\n",
              "    .colab-df-convert:hover {\n",
              "      background-color: #E2EBFA;\n",
              "      box-shadow: 0px 1px 2px rgba(60, 64, 67, 0.3), 0px 1px 3px 1px rgba(60, 64, 67, 0.15);\n",
              "      fill: #174EA6;\n",
              "    }\n",
              "\n",
              "    .colab-df-buttons div {\n",
              "      margin-bottom: 4px;\n",
              "    }\n",
              "\n",
              "    [theme=dark] .colab-df-convert {\n",
              "      background-color: #3B4455;\n",
              "      fill: #D2E3FC;\n",
              "    }\n",
              "\n",
              "    [theme=dark] .colab-df-convert:hover {\n",
              "      background-color: #434B5C;\n",
              "      box-shadow: 0px 1px 3px 1px rgba(0, 0, 0, 0.15);\n",
              "      filter: drop-shadow(0px 1px 2px rgba(0, 0, 0, 0.3));\n",
              "      fill: #FFFFFF;\n",
              "    }\n",
              "  </style>\n",
              "\n",
              "    <script>\n",
              "      const buttonEl =\n",
              "        document.querySelector('#df-a429d5f9-2fe5-4f88-8b6d-e15dcfa789fb button.colab-df-convert');\n",
              "      buttonEl.style.display =\n",
              "        google.colab.kernel.accessAllowed ? 'block' : 'none';\n",
              "\n",
              "      async function convertToInteractive(key) {\n",
              "        const element = document.querySelector('#df-a429d5f9-2fe5-4f88-8b6d-e15dcfa789fb');\n",
              "        const dataTable =\n",
              "          await google.colab.kernel.invokeFunction('convertToInteractive',\n",
              "                                                    [key], {});\n",
              "        if (!dataTable) return;\n",
              "\n",
              "        const docLinkHtml = 'Like what you see? Visit the ' +\n",
              "          '<a target=\"_blank\" href=https://colab.research.google.com/notebooks/data_table.ipynb>data table notebook</a>'\n",
              "          + ' to learn more about interactive tables.';\n",
              "        element.innerHTML = '';\n",
              "        dataTable['output_type'] = 'display_data';\n",
              "        await google.colab.output.renderOutput(dataTable, element);\n",
              "        const docLink = document.createElement('div');\n",
              "        docLink.innerHTML = docLinkHtml;\n",
              "        element.appendChild(docLink);\n",
              "      }\n",
              "    </script>\n",
              "  </div>\n",
              "\n",
              "\n",
              "<div id=\"df-c817bf51-591d-491b-83f3-0a86f213fb91\">\n",
              "  <button class=\"colab-df-quickchart\" onclick=\"quickchart('df-c817bf51-591d-491b-83f3-0a86f213fb91')\"\n",
              "            title=\"Suggest charts\"\n",
              "            style=\"display:none;\">\n",
              "\n",
              "<svg xmlns=\"http://www.w3.org/2000/svg\" height=\"24px\"viewBox=\"0 0 24 24\"\n",
              "     width=\"24px\">\n",
              "    <g>\n",
              "        <path d=\"M19 3H5c-1.1 0-2 .9-2 2v14c0 1.1.9 2 2 2h14c1.1 0 2-.9 2-2V5c0-1.1-.9-2-2-2zM9 17H7v-7h2v7zm4 0h-2V7h2v10zm4 0h-2v-4h2v4z\"/>\n",
              "    </g>\n",
              "</svg>\n",
              "  </button>\n",
              "\n",
              "<style>\n",
              "  .colab-df-quickchart {\n",
              "      --bg-color: #E8F0FE;\n",
              "      --fill-color: #1967D2;\n",
              "      --hover-bg-color: #E2EBFA;\n",
              "      --hover-fill-color: #174EA6;\n",
              "      --disabled-fill-color: #AAA;\n",
              "      --disabled-bg-color: #DDD;\n",
              "  }\n",
              "\n",
              "  [theme=dark] .colab-df-quickchart {\n",
              "      --bg-color: #3B4455;\n",
              "      --fill-color: #D2E3FC;\n",
              "      --hover-bg-color: #434B5C;\n",
              "      --hover-fill-color: #FFFFFF;\n",
              "      --disabled-bg-color: #3B4455;\n",
              "      --disabled-fill-color: #666;\n",
              "  }\n",
              "\n",
              "  .colab-df-quickchart {\n",
              "    background-color: var(--bg-color);\n",
              "    border: none;\n",
              "    border-radius: 50%;\n",
              "    cursor: pointer;\n",
              "    display: none;\n",
              "    fill: var(--fill-color);\n",
              "    height: 32px;\n",
              "    padding: 0;\n",
              "    width: 32px;\n",
              "  }\n",
              "\n",
              "  .colab-df-quickchart:hover {\n",
              "    background-color: var(--hover-bg-color);\n",
              "    box-shadow: 0 1px 2px rgba(60, 64, 67, 0.3), 0 1px 3px 1px rgba(60, 64, 67, 0.15);\n",
              "    fill: var(--button-hover-fill-color);\n",
              "  }\n",
              "\n",
              "  .colab-df-quickchart-complete:disabled,\n",
              "  .colab-df-quickchart-complete:disabled:hover {\n",
              "    background-color: var(--disabled-bg-color);\n",
              "    fill: var(--disabled-fill-color);\n",
              "    box-shadow: none;\n",
              "  }\n",
              "\n",
              "  .colab-df-spinner {\n",
              "    border: 2px solid var(--fill-color);\n",
              "    border-color: transparent;\n",
              "    border-bottom-color: var(--fill-color);\n",
              "    animation:\n",
              "      spin 1s steps(1) infinite;\n",
              "  }\n",
              "\n",
              "  @keyframes spin {\n",
              "    0% {\n",
              "      border-color: transparent;\n",
              "      border-bottom-color: var(--fill-color);\n",
              "      border-left-color: var(--fill-color);\n",
              "    }\n",
              "    20% {\n",
              "      border-color: transparent;\n",
              "      border-left-color: var(--fill-color);\n",
              "      border-top-color: var(--fill-color);\n",
              "    }\n",
              "    30% {\n",
              "      border-color: transparent;\n",
              "      border-left-color: var(--fill-color);\n",
              "      border-top-color: var(--fill-color);\n",
              "      border-right-color: var(--fill-color);\n",
              "    }\n",
              "    40% {\n",
              "      border-color: transparent;\n",
              "      border-right-color: var(--fill-color);\n",
              "      border-top-color: var(--fill-color);\n",
              "    }\n",
              "    60% {\n",
              "      border-color: transparent;\n",
              "      border-right-color: var(--fill-color);\n",
              "    }\n",
              "    80% {\n",
              "      border-color: transparent;\n",
              "      border-right-color: var(--fill-color);\n",
              "      border-bottom-color: var(--fill-color);\n",
              "    }\n",
              "    90% {\n",
              "      border-color: transparent;\n",
              "      border-bottom-color: var(--fill-color);\n",
              "    }\n",
              "  }\n",
              "</style>\n",
              "\n",
              "  <script>\n",
              "    async function quickchart(key) {\n",
              "      const quickchartButtonEl =\n",
              "        document.querySelector('#' + key + ' button');\n",
              "      quickchartButtonEl.disabled = true;  // To prevent multiple clicks.\n",
              "      quickchartButtonEl.classList.add('colab-df-spinner');\n",
              "      try {\n",
              "        const charts = await google.colab.kernel.invokeFunction(\n",
              "            'suggestCharts', [key], {});\n",
              "      } catch (error) {\n",
              "        console.error('Error during call to suggestCharts:', error);\n",
              "      }\n",
              "      quickchartButtonEl.classList.remove('colab-df-spinner');\n",
              "      quickchartButtonEl.classList.add('colab-df-quickchart-complete');\n",
              "    }\n",
              "    (() => {\n",
              "      let quickchartButtonEl =\n",
              "        document.querySelector('#df-c817bf51-591d-491b-83f3-0a86f213fb91 button');\n",
              "      quickchartButtonEl.style.display =\n",
              "        google.colab.kernel.accessAllowed ? 'block' : 'none';\n",
              "    })();\n",
              "  </script>\n",
              "</div>\n",
              "\n",
              "    </div>\n",
              "  </div>\n"
            ],
            "application/vnd.google.colaboratory.intrinsic+json": {
              "type": "dataframe",
              "variable_name": "merged_data",
              "summary": "{\n  \"name\": \"merged_data\",\n  \"rows\": 107,\n  \"fields\": [\n    {\n      \"column\": \"season\",\n      \"properties\": {\n        \"dtype\": \"number\",\n        \"std\": 2,\n        \"min\": 1,\n        \"max\": 8,\n        \"num_unique_values\": 8,\n        \"samples\": [\n          2,\n          6,\n          1\n        ],\n        \"semantic_type\": \"\",\n        \"description\": \"\"\n      }\n    },\n    {\n      \"column\": \"episode\",\n      \"properties\": {\n        \"dtype\": \"number\",\n        \"std\": 4,\n        \"min\": 1,\n        \"max\": 17,\n        \"num_unique_values\": 17,\n        \"samples\": [\n          1,\n          2,\n          6\n        ],\n        \"semantic_type\": \"\",\n        \"description\": \"\"\n      }\n    },\n    {\n      \"column\": \"name\",\n      \"properties\": {\n        \"dtype\": \"string\",\n        \"num_unique_values\": 107,\n        \"samples\": [\n          \"bella luna\",\n          \"handlebar\",\n          \"the olde stone mill\"\n        ],\n        \"semantic_type\": \"\",\n        \"description\": \"\"\n      }\n    },\n    {\n      \"column\": \"city\",\n      \"properties\": {\n        \"dtype\": \"string\",\n        \"num_unique_values\": 97,\n        \"samples\": [\n          \"everett\",\n          \"metairie\",\n          \"chelan\"\n        ],\n        \"semantic_type\": \"\",\n        \"description\": \"\"\n      }\n    },\n    {\n      \"column\": \"state\",\n      \"properties\": {\n        \"dtype\": \"category\",\n        \"num_unique_values\": 27,\n        \"samples\": [\n          \"fl\",\n          \"tx\",\n          \"ma\"\n        ],\n        \"semantic_type\": \"\",\n        \"description\": \"\"\n      }\n    },\n    {\n      \"column\": \"air_date\",\n      \"properties\": {\n        \"dtype\": \"date\",\n        \"min\": \"2007-09-19 00:00:00\",\n        \"max\": \"2023-12-04 00:00:00\",\n        \"num_unique_values\": 101,\n        \"samples\": [\n          \"2012-08-27 00:00:00\",\n          \"2012-10-26 00:00:00\",\n          \"2013-05-03 00:00:00\"\n        ],\n        \"semantic_type\": \"\",\n        \"description\": \"\"\n      }\n    },\n    {\n      \"column\": \"status\",\n      \"properties\": {\n        \"dtype\": \"category\",\n        \"num_unique_values\": 2,\n        \"samples\": [\n          \"open\",\n          \"closed\"\n        ],\n        \"semantic_type\": \"\",\n        \"description\": \"\"\n      }\n    },\n    {\n      \"column\": \"film_year\",\n      \"properties\": {\n        \"dtype\": \"number\",\n        \"std\": 4,\n        \"min\": 2007,\n        \"max\": 2023,\n        \"num_unique_values\": 9,\n        \"samples\": [\n          2023,\n          2008\n        ],\n        \"semantic_type\": \"\",\n        \"description\": \"\"\n      }\n    },\n    {\n      \"column\": \"closing_year\",\n      \"properties\": {\n        \"dtype\": \"number\",\n        \"std\": 4.672570105670435,\n        \"min\": 2007.0,\n        \"max\": 2024.0,\n        \"num_unique_values\": 18,\n        \"samples\": [\n          2008.0,\n          2009.0\n        ],\n        \"semantic_type\": \"\",\n        \"description\": \"\"\n      }\n    },\n    {\n      \"column\": \"two_parts\",\n      \"properties\": {\n        \"dtype\": \"category\",\n        \"num_unique_values\": 2,\n        \"samples\": [\n          \"yes\",\n          \"no\"\n        ],\n        \"semantic_type\": \"\",\n        \"description\": \"\"\n      }\n    },\n    {\n      \"column\": \"show\",\n      \"properties\": {\n        \"dtype\": \"category\",\n        \"num_unique_values\": 2,\n        \"samples\": [\n          \"hotel hell\",\n          \"kitchen nightmares\"\n        ],\n        \"semantic_type\": \"\",\n        \"description\": \"\"\n      }\n    }\n  ]\n}"
            }
          },
          "metadata": {},
          "execution_count": 79
        }
      ]
    },
    {
      "cell_type": "code",
      "source": [
        "merged_data.tail()"
      ],
      "metadata": {
        "colab": {
          "base_uri": "https://localhost:8080/",
          "height": 206
        },
        "id": "d8wX-ILtzvOJ",
        "outputId": "02039d6f-f12a-4e34-9f52-7b784b78dce7"
      },
      "execution_count": 80,
      "outputs": [
        {
          "output_type": "execute_result",
          "data": {
            "text/plain": [
              "    season  episode                      name           city state   air_date  \\\n",
              "15       3        3                town's inn  harpers ferry    wv 2016-06-07   \n",
              "16       3        5            lakeview hotel         chelan    wa 2016-06-21   \n",
              "17       3        6               brick hotel        newtown    pa 2016-06-28   \n",
              "18       3        7    beachfront inn & inlet    fort pierce    fl 2016-07-19   \n",
              "19       3        8  landoll's mohican castle    loudonville    oh 2016-07-26   \n",
              "\n",
              "    status  film_year  closing_year two_parts        show  \n",
              "15    open       2015           NaN       yes  hotel hell  \n",
              "16  closed       2015        2021.0        no  hotel hell  \n",
              "17    open       2015           NaN        no  hotel hell  \n",
              "18  closed       2015        2019.0        no  hotel hell  \n",
              "19    open       2015           NaN        no  hotel hell  "
            ],
            "text/html": [
              "\n",
              "  <div id=\"df-50c072f0-611d-445f-8d82-41cec3e737ac\" class=\"colab-df-container\">\n",
              "    <div>\n",
              "<style scoped>\n",
              "    .dataframe tbody tr th:only-of-type {\n",
              "        vertical-align: middle;\n",
              "    }\n",
              "\n",
              "    .dataframe tbody tr th {\n",
              "        vertical-align: top;\n",
              "    }\n",
              "\n",
              "    .dataframe thead th {\n",
              "        text-align: right;\n",
              "    }\n",
              "</style>\n",
              "<table border=\"1\" class=\"dataframe\">\n",
              "  <thead>\n",
              "    <tr style=\"text-align: right;\">\n",
              "      <th></th>\n",
              "      <th>season</th>\n",
              "      <th>episode</th>\n",
              "      <th>name</th>\n",
              "      <th>city</th>\n",
              "      <th>state</th>\n",
              "      <th>air_date</th>\n",
              "      <th>status</th>\n",
              "      <th>film_year</th>\n",
              "      <th>closing_year</th>\n",
              "      <th>two_parts</th>\n",
              "      <th>show</th>\n",
              "    </tr>\n",
              "  </thead>\n",
              "  <tbody>\n",
              "    <tr>\n",
              "      <th>15</th>\n",
              "      <td>3</td>\n",
              "      <td>3</td>\n",
              "      <td>town's inn</td>\n",
              "      <td>harpers ferry</td>\n",
              "      <td>wv</td>\n",
              "      <td>2016-06-07</td>\n",
              "      <td>open</td>\n",
              "      <td>2015</td>\n",
              "      <td>NaN</td>\n",
              "      <td>yes</td>\n",
              "      <td>hotel hell</td>\n",
              "    </tr>\n",
              "    <tr>\n",
              "      <th>16</th>\n",
              "      <td>3</td>\n",
              "      <td>5</td>\n",
              "      <td>lakeview hotel</td>\n",
              "      <td>chelan</td>\n",
              "      <td>wa</td>\n",
              "      <td>2016-06-21</td>\n",
              "      <td>closed</td>\n",
              "      <td>2015</td>\n",
              "      <td>2021.0</td>\n",
              "      <td>no</td>\n",
              "      <td>hotel hell</td>\n",
              "    </tr>\n",
              "    <tr>\n",
              "      <th>17</th>\n",
              "      <td>3</td>\n",
              "      <td>6</td>\n",
              "      <td>brick hotel</td>\n",
              "      <td>newtown</td>\n",
              "      <td>pa</td>\n",
              "      <td>2016-06-28</td>\n",
              "      <td>open</td>\n",
              "      <td>2015</td>\n",
              "      <td>NaN</td>\n",
              "      <td>no</td>\n",
              "      <td>hotel hell</td>\n",
              "    </tr>\n",
              "    <tr>\n",
              "      <th>18</th>\n",
              "      <td>3</td>\n",
              "      <td>7</td>\n",
              "      <td>beachfront inn &amp; inlet</td>\n",
              "      <td>fort pierce</td>\n",
              "      <td>fl</td>\n",
              "      <td>2016-07-19</td>\n",
              "      <td>closed</td>\n",
              "      <td>2015</td>\n",
              "      <td>2019.0</td>\n",
              "      <td>no</td>\n",
              "      <td>hotel hell</td>\n",
              "    </tr>\n",
              "    <tr>\n",
              "      <th>19</th>\n",
              "      <td>3</td>\n",
              "      <td>8</td>\n",
              "      <td>landoll's mohican castle</td>\n",
              "      <td>loudonville</td>\n",
              "      <td>oh</td>\n",
              "      <td>2016-07-26</td>\n",
              "      <td>open</td>\n",
              "      <td>2015</td>\n",
              "      <td>NaN</td>\n",
              "      <td>no</td>\n",
              "      <td>hotel hell</td>\n",
              "    </tr>\n",
              "  </tbody>\n",
              "</table>\n",
              "</div>\n",
              "    <div class=\"colab-df-buttons\">\n",
              "\n",
              "  <div class=\"colab-df-container\">\n",
              "    <button class=\"colab-df-convert\" onclick=\"convertToInteractive('df-50c072f0-611d-445f-8d82-41cec3e737ac')\"\n",
              "            title=\"Convert this dataframe to an interactive table.\"\n",
              "            style=\"display:none;\">\n",
              "\n",
              "  <svg xmlns=\"http://www.w3.org/2000/svg\" height=\"24px\" viewBox=\"0 -960 960 960\">\n",
              "    <path d=\"M120-120v-720h720v720H120Zm60-500h600v-160H180v160Zm220 220h160v-160H400v160Zm0 220h160v-160H400v160ZM180-400h160v-160H180v160Zm440 0h160v-160H620v160ZM180-180h160v-160H180v160Zm440 0h160v-160H620v160Z\"/>\n",
              "  </svg>\n",
              "    </button>\n",
              "\n",
              "  <style>\n",
              "    .colab-df-container {\n",
              "      display:flex;\n",
              "      gap: 12px;\n",
              "    }\n",
              "\n",
              "    .colab-df-convert {\n",
              "      background-color: #E8F0FE;\n",
              "      border: none;\n",
              "      border-radius: 50%;\n",
              "      cursor: pointer;\n",
              "      display: none;\n",
              "      fill: #1967D2;\n",
              "      height: 32px;\n",
              "      padding: 0 0 0 0;\n",
              "      width: 32px;\n",
              "    }\n",
              "\n",
              "    .colab-df-convert:hover {\n",
              "      background-color: #E2EBFA;\n",
              "      box-shadow: 0px 1px 2px rgba(60, 64, 67, 0.3), 0px 1px 3px 1px rgba(60, 64, 67, 0.15);\n",
              "      fill: #174EA6;\n",
              "    }\n",
              "\n",
              "    .colab-df-buttons div {\n",
              "      margin-bottom: 4px;\n",
              "    }\n",
              "\n",
              "    [theme=dark] .colab-df-convert {\n",
              "      background-color: #3B4455;\n",
              "      fill: #D2E3FC;\n",
              "    }\n",
              "\n",
              "    [theme=dark] .colab-df-convert:hover {\n",
              "      background-color: #434B5C;\n",
              "      box-shadow: 0px 1px 3px 1px rgba(0, 0, 0, 0.15);\n",
              "      filter: drop-shadow(0px 1px 2px rgba(0, 0, 0, 0.3));\n",
              "      fill: #FFFFFF;\n",
              "    }\n",
              "  </style>\n",
              "\n",
              "    <script>\n",
              "      const buttonEl =\n",
              "        document.querySelector('#df-50c072f0-611d-445f-8d82-41cec3e737ac button.colab-df-convert');\n",
              "      buttonEl.style.display =\n",
              "        google.colab.kernel.accessAllowed ? 'block' : 'none';\n",
              "\n",
              "      async function convertToInteractive(key) {\n",
              "        const element = document.querySelector('#df-50c072f0-611d-445f-8d82-41cec3e737ac');\n",
              "        const dataTable =\n",
              "          await google.colab.kernel.invokeFunction('convertToInteractive',\n",
              "                                                    [key], {});\n",
              "        if (!dataTable) return;\n",
              "\n",
              "        const docLinkHtml = 'Like what you see? Visit the ' +\n",
              "          '<a target=\"_blank\" href=https://colab.research.google.com/notebooks/data_table.ipynb>data table notebook</a>'\n",
              "          + ' to learn more about interactive tables.';\n",
              "        element.innerHTML = '';\n",
              "        dataTable['output_type'] = 'display_data';\n",
              "        await google.colab.output.renderOutput(dataTable, element);\n",
              "        const docLink = document.createElement('div');\n",
              "        docLink.innerHTML = docLinkHtml;\n",
              "        element.appendChild(docLink);\n",
              "      }\n",
              "    </script>\n",
              "  </div>\n",
              "\n",
              "\n",
              "<div id=\"df-6c329bb1-132c-4707-aad0-2b7b14c826b6\">\n",
              "  <button class=\"colab-df-quickchart\" onclick=\"quickchart('df-6c329bb1-132c-4707-aad0-2b7b14c826b6')\"\n",
              "            title=\"Suggest charts\"\n",
              "            style=\"display:none;\">\n",
              "\n",
              "<svg xmlns=\"http://www.w3.org/2000/svg\" height=\"24px\"viewBox=\"0 0 24 24\"\n",
              "     width=\"24px\">\n",
              "    <g>\n",
              "        <path d=\"M19 3H5c-1.1 0-2 .9-2 2v14c0 1.1.9 2 2 2h14c1.1 0 2-.9 2-2V5c0-1.1-.9-2-2-2zM9 17H7v-7h2v7zm4 0h-2V7h2v10zm4 0h-2v-4h2v4z\"/>\n",
              "    </g>\n",
              "</svg>\n",
              "  </button>\n",
              "\n",
              "<style>\n",
              "  .colab-df-quickchart {\n",
              "      --bg-color: #E8F0FE;\n",
              "      --fill-color: #1967D2;\n",
              "      --hover-bg-color: #E2EBFA;\n",
              "      --hover-fill-color: #174EA6;\n",
              "      --disabled-fill-color: #AAA;\n",
              "      --disabled-bg-color: #DDD;\n",
              "  }\n",
              "\n",
              "  [theme=dark] .colab-df-quickchart {\n",
              "      --bg-color: #3B4455;\n",
              "      --fill-color: #D2E3FC;\n",
              "      --hover-bg-color: #434B5C;\n",
              "      --hover-fill-color: #FFFFFF;\n",
              "      --disabled-bg-color: #3B4455;\n",
              "      --disabled-fill-color: #666;\n",
              "  }\n",
              "\n",
              "  .colab-df-quickchart {\n",
              "    background-color: var(--bg-color);\n",
              "    border: none;\n",
              "    border-radius: 50%;\n",
              "    cursor: pointer;\n",
              "    display: none;\n",
              "    fill: var(--fill-color);\n",
              "    height: 32px;\n",
              "    padding: 0;\n",
              "    width: 32px;\n",
              "  }\n",
              "\n",
              "  .colab-df-quickchart:hover {\n",
              "    background-color: var(--hover-bg-color);\n",
              "    box-shadow: 0 1px 2px rgba(60, 64, 67, 0.3), 0 1px 3px 1px rgba(60, 64, 67, 0.15);\n",
              "    fill: var(--button-hover-fill-color);\n",
              "  }\n",
              "\n",
              "  .colab-df-quickchart-complete:disabled,\n",
              "  .colab-df-quickchart-complete:disabled:hover {\n",
              "    background-color: var(--disabled-bg-color);\n",
              "    fill: var(--disabled-fill-color);\n",
              "    box-shadow: none;\n",
              "  }\n",
              "\n",
              "  .colab-df-spinner {\n",
              "    border: 2px solid var(--fill-color);\n",
              "    border-color: transparent;\n",
              "    border-bottom-color: var(--fill-color);\n",
              "    animation:\n",
              "      spin 1s steps(1) infinite;\n",
              "  }\n",
              "\n",
              "  @keyframes spin {\n",
              "    0% {\n",
              "      border-color: transparent;\n",
              "      border-bottom-color: var(--fill-color);\n",
              "      border-left-color: var(--fill-color);\n",
              "    }\n",
              "    20% {\n",
              "      border-color: transparent;\n",
              "      border-left-color: var(--fill-color);\n",
              "      border-top-color: var(--fill-color);\n",
              "    }\n",
              "    30% {\n",
              "      border-color: transparent;\n",
              "      border-left-color: var(--fill-color);\n",
              "      border-top-color: var(--fill-color);\n",
              "      border-right-color: var(--fill-color);\n",
              "    }\n",
              "    40% {\n",
              "      border-color: transparent;\n",
              "      border-right-color: var(--fill-color);\n",
              "      border-top-color: var(--fill-color);\n",
              "    }\n",
              "    60% {\n",
              "      border-color: transparent;\n",
              "      border-right-color: var(--fill-color);\n",
              "    }\n",
              "    80% {\n",
              "      border-color: transparent;\n",
              "      border-right-color: var(--fill-color);\n",
              "      border-bottom-color: var(--fill-color);\n",
              "    }\n",
              "    90% {\n",
              "      border-color: transparent;\n",
              "      border-bottom-color: var(--fill-color);\n",
              "    }\n",
              "  }\n",
              "</style>\n",
              "\n",
              "  <script>\n",
              "    async function quickchart(key) {\n",
              "      const quickchartButtonEl =\n",
              "        document.querySelector('#' + key + ' button');\n",
              "      quickchartButtonEl.disabled = true;  // To prevent multiple clicks.\n",
              "      quickchartButtonEl.classList.add('colab-df-spinner');\n",
              "      try {\n",
              "        const charts = await google.colab.kernel.invokeFunction(\n",
              "            'suggestCharts', [key], {});\n",
              "      } catch (error) {\n",
              "        console.error('Error during call to suggestCharts:', error);\n",
              "      }\n",
              "      quickchartButtonEl.classList.remove('colab-df-spinner');\n",
              "      quickchartButtonEl.classList.add('colab-df-quickchart-complete');\n",
              "    }\n",
              "    (() => {\n",
              "      let quickchartButtonEl =\n",
              "        document.querySelector('#df-6c329bb1-132c-4707-aad0-2b7b14c826b6 button');\n",
              "      quickchartButtonEl.style.display =\n",
              "        google.colab.kernel.accessAllowed ? 'block' : 'none';\n",
              "    })();\n",
              "  </script>\n",
              "</div>\n",
              "\n",
              "    </div>\n",
              "  </div>\n"
            ],
            "application/vnd.google.colaboratory.intrinsic+json": {
              "type": "dataframe",
              "summary": "{\n  \"name\": \"merged_data\",\n  \"rows\": 5,\n  \"fields\": [\n    {\n      \"column\": \"season\",\n      \"properties\": {\n        \"dtype\": \"number\",\n        \"std\": 0,\n        \"min\": 3,\n        \"max\": 3,\n        \"num_unique_values\": 1,\n        \"samples\": [\n          3\n        ],\n        \"semantic_type\": \"\",\n        \"description\": \"\"\n      }\n    },\n    {\n      \"column\": \"episode\",\n      \"properties\": {\n        \"dtype\": \"number\",\n        \"std\": 1,\n        \"min\": 3,\n        \"max\": 8,\n        \"num_unique_values\": 5,\n        \"samples\": [\n          5\n        ],\n        \"semantic_type\": \"\",\n        \"description\": \"\"\n      }\n    },\n    {\n      \"column\": \"name\",\n      \"properties\": {\n        \"dtype\": \"string\",\n        \"num_unique_values\": 5,\n        \"samples\": [\n          \"lakeview hotel\"\n        ],\n        \"semantic_type\": \"\",\n        \"description\": \"\"\n      }\n    },\n    {\n      \"column\": \"city\",\n      \"properties\": {\n        \"dtype\": \"string\",\n        \"num_unique_values\": 5,\n        \"samples\": [\n          \"chelan\"\n        ],\n        \"semantic_type\": \"\",\n        \"description\": \"\"\n      }\n    },\n    {\n      \"column\": \"state\",\n      \"properties\": {\n        \"dtype\": \"string\",\n        \"num_unique_values\": 5,\n        \"samples\": [\n          \"wa\"\n        ],\n        \"semantic_type\": \"\",\n        \"description\": \"\"\n      }\n    },\n    {\n      \"column\": \"air_date\",\n      \"properties\": {\n        \"dtype\": \"date\",\n        \"min\": \"2016-06-07 00:00:00\",\n        \"max\": \"2016-07-26 00:00:00\",\n        \"num_unique_values\": 5,\n        \"samples\": [\n          \"2016-06-21 00:00:00\"\n        ],\n        \"semantic_type\": \"\",\n        \"description\": \"\"\n      }\n    },\n    {\n      \"column\": \"status\",\n      \"properties\": {\n        \"dtype\": \"category\",\n        \"num_unique_values\": 2,\n        \"samples\": [\n          \"closed\"\n        ],\n        \"semantic_type\": \"\",\n        \"description\": \"\"\n      }\n    },\n    {\n      \"column\": \"film_year\",\n      \"properties\": {\n        \"dtype\": \"number\",\n        \"std\": 0,\n        \"min\": 2015,\n        \"max\": 2015,\n        \"num_unique_values\": 1,\n        \"samples\": [\n          2015\n        ],\n        \"semantic_type\": \"\",\n        \"description\": \"\"\n      }\n    },\n    {\n      \"column\": \"closing_year\",\n      \"properties\": {\n        \"dtype\": \"number\",\n        \"std\": 1.4142135623730951,\n        \"min\": 2019.0,\n        \"max\": 2021.0,\n        \"num_unique_values\": 2,\n        \"samples\": [\n          2019.0\n        ],\n        \"semantic_type\": \"\",\n        \"description\": \"\"\n      }\n    },\n    {\n      \"column\": \"two_parts\",\n      \"properties\": {\n        \"dtype\": \"category\",\n        \"num_unique_values\": 2,\n        \"samples\": [\n          \"no\"\n        ],\n        \"semantic_type\": \"\",\n        \"description\": \"\"\n      }\n    },\n    {\n      \"column\": \"show\",\n      \"properties\": {\n        \"dtype\": \"category\",\n        \"num_unique_values\": 1,\n        \"samples\": [\n          \"hotel hell\"\n        ],\n        \"semantic_type\": \"\",\n        \"description\": \"\"\n      }\n    }\n  ]\n}"
            }
          },
          "metadata": {},
          "execution_count": 80
        }
      ]
    },
    {
      "cell_type": "markdown",
      "source": [
        "8. Finally, we'll save the newly merged KN/HH data as a Feather file."
      ],
      "metadata": {
        "id": "rI-fVLxhzyxF"
      }
    },
    {
      "cell_type": "code",
      "source": [
        "merged_data.to_feather('gordon_ramsay_data.feather')"
      ],
      "metadata": {
        "id": "lQXM1g39z5fK"
      },
      "execution_count": 81,
      "outputs": []
    }
  ]
}